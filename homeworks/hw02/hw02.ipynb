{
 "cells": [
  {
   "cell_type": "code",
   "execution_count": 2,
   "id": "4c8752f5",
   "metadata": {
    "deletable": false,
    "editable": false
   },
   "outputs": [],
   "source": [
    "# Initialize Otter\n",
    "import otter\n",
    "grader = otter.Notebook(\"hw02.ipynb\")"
   ]
  },
  {
   "cell_type": "markdown",
   "id": "64df7253",
   "metadata": {},
   "source": [
    "<div class=\"alert alert-success\" markdown=\"1\">\n",
    "\n",
    "#### Homework 2\n",
    "\n",
    "# Arrays and DataFrames\n",
    "\n",
    "### EECS 398-003: Practical Data Science, Fall 2024\n",
    "\n",
    "#### Due Thursday, September 12th at 11:59PM\n",
    "    \n",
    "</div>"
   ]
  },
  {
   "cell_type": "markdown",
   "id": "d1cb57c1",
   "metadata": {},
   "source": [
    "## Instructions\n",
    "\n",
    "Welcome to Homework 2! In this homework, you will practice with `numpy` arrays and `pandas` DataFrames, as we saw in Lectures 3 and 4. See the [Readings section of the Resources tab on the course website](https://practicaldsc.org/resources/#readings) for supplemental resources.\n",
    "\n",
    "You are given six slip days throughout the semester to extend deadlines. See the [Syllabus](https://practicaldsc.org/syllabus) for more details. With the exception of using slip days, late work will not be accepted unless you have made special arrangements with your instructor.\n",
    "\n",
    "To access this notebook, you'll need to clone our [public GitHub repository](https://github.com/practicaldsc/fa24/). The [⚙️ Environment Setup](https://practicaldsc.org/env-setup) page on the course website walks you through the necessary steps. Once you're done, you'll submit your completed notebook to Gradescope.\n",
    "\n",
    "Please start early and submit often. You can submit as many times as you'd like to Gradescope, and we'll grade your **most recent** submission. Remember that the public `grader.check` tests in your notebook are not comprehensive, and that your work will also be graded on hidden test cases on Gradescope after the submission deadline.\n",
    "\n",
    "This homework is worth a total of **51 points**, 49 of which come from the autograder, **and 2 of which are manually graded by us** (Question 3). The number of points each question is worth is listed at the start of each question. **The three parts of the assignment are independent, so feel free to move around if you get stuck**. Tip: if you're using Jupyter Lab, you can see a Table of Contents for the notebook by going to View > Table of Contents.\n",
    "\n",
    "To get started, run the **two** import cells below, plus the cell at the top of the notebook that imports and initializes `otter`. The first cell below installs a new package that wasn't included in the `pds` conda environment that we'll need for Part 1."
   ]
  },
  {
   "cell_type": "code",
   "execution_count": 3,
   "id": "c4f14633",
   "metadata": {},
   "outputs": [
    {
     "name": "stdout",
     "output_type": "stream",
     "text": [
      "Requirement already satisfied: networkx in /Users/ashleychen/miniforge3/envs/pds/lib/python3.10/site-packages (3.3)\n"
     ]
    }
   ],
   "source": [
    "!pip install networkx"
   ]
  },
  {
   "cell_type": "code",
   "execution_count": 4,
   "id": "5f0b4b7a",
   "metadata": {},
   "outputs": [],
   "source": [
    "import pandas as pd\n",
    "import numpy as np\n",
    "import matplotlib.pyplot as plt\n",
    "import seaborn as sns\n",
    "from matplotlib_inline.backend_inline import set_matplotlib_formats\n",
    "\n",
    "import plotly\n",
    "import plotly.graph_objects as go\n",
    "import plotly.express as px\n",
    "import plotly.io as pio\n",
    "\n",
    "# Preferred styles\n",
    "pio.templates[\"pds\"] = go.layout.Template(\n",
    "    layout=dict(\n",
    "        margin=dict(l=30, r=30, t=30, b=30),\n",
    "        autosize=True,\n",
    "        width=600,\n",
    "        height=400,\n",
    "        xaxis=dict(showgrid=True),\n",
    "        yaxis=dict(showgrid=True),\n",
    "        title=dict(x=0.5, xanchor=\"center\"),\n",
    "    )\n",
    ")\n",
    "pio.templates.default = \"simple_white+pds\"\n",
    "\n",
    "set_matplotlib_formats(\"svg\")\n",
    "sns.set_context(\"poster\")\n",
    "sns.set_style(\"whitegrid\")\n",
    "plt.rcParams[\"figure.figsize\"] = (10, 5)\n",
    "\n",
    "# Use plotly as default plotting engine\n",
    "pd.options.plotting.backend = \"plotly\"\n",
    "\n",
    "import networkx as nx"
   ]
  },
  {
   "cell_type": "markdown",
   "id": "54d69c00",
   "metadata": {},
   "source": [
    "## Part 1: PageRank 🔗\n",
    "\n",
    "---\n",
    "\n",
    "In this part of the homework, you'll replicate the PageRank algorithm, the algorithm that Google uses to decide how to rank search results. Along the way, you'll develop proficiency with using arrays in the context of linear algebra.\n",
    "\n",
    "### Overview\n",
    "\n",
    "Larry Page and Sergey Brin developed the Google search engine (originally known as \"BackRub\") while PhD students at Stanford University. Their key innovation was the **PageRank** algorithm. PageRank works by assigning each page on the internet a \"score\" based on its relative importance. Today, PageRank is one of the many algorithms that Google uses in determining how to rank search results.\n",
    "\n",
    "We'll give an explanation of the necessary components of PageRank here, but you may also want to refer to these slides, which inspired our exposition: [**The Billion Dollar Eigenvector**](https://jdc.math.uwo.ca/M1600b-2014/l/pagerank-1600.pdf).\n",
    "\n",
    "**Key idea: The more incoming links a page has, the more important it is!**\n",
    "\n",
    "<center>\n",
    "\n",
    "<img src=\"imgs/network.png\" width=300><br><small>An example network of pages.</small>\n",
    "    \n",
    "</center>\n",
    "\n",
    "There are a few naïve approaches to scoring pages given that key idea, but they have their flaws:\n",
    "- One idea: the score of a page is equal to the number of pages that link to it. This doesn't work because it doesn't account for the importance of the incoming links. For example, if my personal website links to [apple.com](https://apple.com), that doesn't make [apple.com](https://apple.com) any more important than it already was. But if [apple.com](https://apple.com) links to my personal website, that must mean my personal website is important!\n",
    "- Another idea: The score of a page is equal to the sum of the scores of the pages that link to it. This also doesn't work, because there is no non-zero solution!\n",
    "\n",
    "The actual solution assigns scores to pages such that **when a page links to several other pages, the score it gives to them is shared**.\n",
    "\n",
    "In the example graph above, we see that:\n",
    "- Page 1 links to Page 2.\n",
    "- Page 2 links to Pages 1 and 4.\n",
    "- Page 3 links to Pages 1 and 4.\n",
    "- Page 4 links to Pages 1, 2, and 3.\n",
    "\n",
    "If we let $x_i$ be the score assigned to Page $i$, we're looking for the solution to the equations:\n",
    "\n",
    "$$\\begin{align*}\n",
    "x_1 &= &\\frac{1}{2}x_2 &+ \\frac{1}{2}x_3 &+ \\frac{1}{3}x_4 \\\\\n",
    "x_2 &= x_1 &&           &+ \\frac{1}{3}x_4 \\\\\n",
    "x_3 &= &&               & \\frac{1}{3}x_4 \\\\\n",
    "x_4 &= &\\frac{1}{2}x_2 &+ \\frac{1}{2}x_3\n",
    "\\end{align*}$$\n",
    "\n",
    "A more concise way to express the system above is in matrix form, which we can do like so:\n",
    "\n",
    "$$\\vec{x} = A \\vec{x}, \\qquad A = \\begin{bmatrix}\n",
    "0 & \\frac{1}{2} & \\frac{1}{2} & \\frac{1}{3} \\\\\n",
    "1 & 0 & 0 & \\frac{1}{3} \\\\\n",
    "0 & 0 & 0 & \\frac{1}{3} \\\\\n",
    "0 & \\frac{1}{2} & \\frac{1}{2} & 0\n",
    "\\end{bmatrix} \\qquad \\vec x = \\begin{bmatrix} x_1 \\\\ x_2 \\\\ x_3 \\\\ x_4 \\end{bmatrix}$$\n",
    "\n",
    "**Our goal**: Given an adjacency matrix $A$, find the solution to the equation $\\vec{x} = A \\vec{x}$. We will return to solving this goal in Question 2, but keep it at the back of your mind.\n",
    "\n",
    "For now, we'll aim to understand the structure of adjacency matrices.\n",
    "- Each **column** of an adjacency matrix describes the movement **from** a given page; the sums of the columns in an adjacency matrix are equal to 1.\n",
    "- Each **row** of an adjacency matrix describes the movement **into** a given page; the sums of the rows in an adjacency matrix don't necessarily add to 1.\n",
    "\n",
    "Below, we've defined a 2D array, `A`, representing $A$ above:"
   ]
  },
  {
   "cell_type": "code",
   "execution_count": 5,
   "id": "e1fb0ab4",
   "metadata": {},
   "outputs": [
    {
     "data": {
      "text/plain": [
       "array([[0.        , 0.5       , 0.5       , 0.33333333],\n",
       "       [1.        , 0.        , 0.        , 0.33333333],\n",
       "       [0.        , 0.        , 0.        , 0.33333333],\n",
       "       [0.        , 0.5       , 0.5       , 0.        ]])"
      ]
     },
     "execution_count": 5,
     "metadata": {},
     "output_type": "execute_result"
    }
   ],
   "source": [
    "A = np.array([[0, 1 / 2, 1 / 2, 1 / 3],\n",
    "              [1, 0, 0, 1 / 3],\n",
    "              [0, 0, 0, 1 / 3],\n",
    "              [0, 1 / 2, 1 / 2, 0]])\n",
    "A"
   ]
  },
  {
   "cell_type": "markdown",
   "id": "78b5dbcd",
   "metadata": {},
   "source": [
    "The function below draws a network given an adjacency matrix. Run the next two cells."
   ]
  },
  {
   "cell_type": "code",
   "execution_count": 6,
   "id": "a73f7447",
   "metadata": {},
   "outputs": [
    {
     "data": {
      "image/svg+xml": [
       "<?xml version=\"1.0\" encoding=\"utf-8\" standalone=\"no\"?>\n",
       "<!DOCTYPE svg PUBLIC \"-//W3C//DTD SVG 1.1//EN\"\n",
       "  \"http://www.w3.org/Graphics/SVG/1.1/DTD/svg11.dtd\">\n",
       "<svg xmlns:xlink=\"http://www.w3.org/1999/xlink\" width=\"590.4pt\" height=\"374.4pt\" viewBox=\"0 0 590.4 374.4\" xmlns=\"http://www.w3.org/2000/svg\" version=\"1.1\">\n",
       " <metadata>\n",
       "  <rdf:RDF xmlns:dc=\"http://purl.org/dc/elements/1.1/\" xmlns:cc=\"http://creativecommons.org/ns#\" xmlns:rdf=\"http://www.w3.org/1999/02/22-rdf-syntax-ns#\">\n",
       "   <cc:Work>\n",
       "    <dc:type rdf:resource=\"http://purl.org/dc/dcmitype/StillImage\"/>\n",
       "    <dc:date>2024-09-12T13:01:04.190847</dc:date>\n",
       "    <dc:format>image/svg+xml</dc:format>\n",
       "    <dc:creator>\n",
       "     <cc:Agent>\n",
       "      <dc:title>Matplotlib v3.9.2, https://matplotlib.org/</dc:title>\n",
       "     </cc:Agent>\n",
       "    </dc:creator>\n",
       "   </cc:Work>\n",
       "  </rdf:RDF>\n",
       " </metadata>\n",
       " <defs>\n",
       "  <style type=\"text/css\">*{stroke-linejoin: round; stroke-linecap: butt}</style>\n",
       " </defs>\n",
       " <g id=\"figure_1\">\n",
       "  <g id=\"patch_1\">\n",
       "   <path d=\"M 0 374.4 \n",
       "L 590.4 374.4 \n",
       "L 590.4 -0 \n",
       "L 0 -0 \n",
       "z\n",
       "\" style=\"fill: #ffffff\"/>\n",
       "  </g>\n",
       "  <g id=\"axes_1\">\n",
       "   <g id=\"patch_2\">\n",
       "    <path d=\"M 228.550546 54.149282 \n",
       "Q 142.379989 108.312763 77.20329 185.024732 \n",
       "\" clip-path=\"url(#peafc102c35)\" style=\"fill: none; stroke: #000000; stroke-linecap: round\"/>\n",
       "    <path d=\"M 81.317385 183.271385 \n",
       "L 77.20329 185.024732 \n",
       "L 78.269069 180.681448 \n",
       "z\n",
       "\" clip-path=\"url(#peafc102c35)\" style=\"stroke: #000000; stroke-linecap: round\"/>\n",
       "   </g>\n",
       "   <g id=\"patch_3\">\n",
       "    <path d=\"M 83.467959 193.939391 \n",
       "Q 169.638516 139.77591 234.815215 63.063941 \n",
       "\" clip-path=\"url(#peafc102c35)\" style=\"fill: none; stroke: #000000; stroke-linecap: round\"/>\n",
       "    <path d=\"M 230.70112 64.817288 \n",
       "L 234.815215 63.063941 \n",
       "L 233.749436 67.407225 \n",
       "z\n",
       "\" clip-path=\"url(#peafc102c35)\" style=\"stroke: #000000; stroke-linecap: round\"/>\n",
       "   </g>\n",
       "   <g id=\"patch_4\">\n",
       "    <path d=\"M 81.227308 228.612879 \n",
       "Q 164.859379 291.647142 262.586975 326.057447 \n",
       "\" clip-path=\"url(#peafc102c35)\" style=\"fill: none; stroke: #000000; stroke-linecap: round\"/>\n",
       "    <path d=\"M 259.47826 322.842499 \n",
       "L 262.586975 326.057447 \n",
       "L 258.149788 326.61545 \n",
       "z\n",
       "\" clip-path=\"url(#peafc102c35)\" style=\"stroke: #000000; stroke-linecap: round\"/>\n",
       "   </g>\n",
       "   <g id=\"patch_5\">\n",
       "    <path d=\"M 511.351961 205.575667 \n",
       "Q 409.806251 109.428157 283.865654 51.261119 \n",
       "\" clip-path=\"url(#peafc102c35)\" style=\"fill: none; stroke: #000000; stroke-linecap: round\"/>\n",
       "    <path d=\"M 286.658447 54.754013 \n",
       "L 283.865654 51.261119 \n",
       "L 288.335645 51.122621 \n",
       "z\n",
       "\" clip-path=\"url(#peafc102c35)\" style=\"stroke: #000000; stroke-linecap: round\"/>\n",
       "   </g>\n",
       "   <g id=\"patch_6\">\n",
       "    <path d=\"M 503.546221 234.588922 \n",
       "Q 404.283366 262.304055 318.929224 318.042141 \n",
       "\" clip-path=\"url(#peafc102c35)\" style=\"fill: none; stroke: #000000; stroke-linecap: round\"/>\n",
       "    <path d=\"M 323.371898 317.52965 \n",
       "L 318.929224 318.042141 \n",
       "L 321.184836 314.180507 \n",
       "z\n",
       "\" clip-path=\"url(#peafc102c35)\" style=\"stroke: #000000; stroke-linecap: round\"/>\n",
       "   </g>\n",
       "   <g id=\"patch_7\">\n",
       "    <path d=\"M 294.304992 305.380612 \n",
       "Q 298.158878 184.096017 264.336391 68.723809 \n",
       "\" clip-path=\"url(#peafc102c35)\" style=\"fill: none; stroke: #000000; stroke-linecap: round\"/>\n",
       "    <path d=\"M 263.542443 73.124905 \n",
       "L 264.336391 68.723809 \n",
       "L 267.380899 71.999624 \n",
       "z\n",
       "\" clip-path=\"url(#peafc102c35)\" style=\"stroke: #000000; stroke-linecap: round\"/>\n",
       "   </g>\n",
       "   <g id=\"patch_8\">\n",
       "    <path d=\"M 268.691142 316.996455 \n",
       "Q 185.059071 253.962192 87.331475 219.551887 \n",
       "\" clip-path=\"url(#peafc102c35)\" style=\"fill: none; stroke: #000000; stroke-linecap: round\"/>\n",
       "    <path d=\"M 90.44019 222.766835 \n",
       "L 87.331475 219.551887 \n",
       "L 91.768662 218.993884 \n",
       "z\n",
       "\" clip-path=\"url(#peafc102c35)\" style=\"stroke: #000000; stroke-linecap: round\"/>\n",
       "   </g>\n",
       "   <g id=\"patch_9\">\n",
       "    <path d=\"M 322.405287 328.382846 \n",
       "Q 421.668142 300.667713 507.022284 244.929626 \n",
       "\" clip-path=\"url(#peafc102c35)\" style=\"fill: none; stroke: #000000; stroke-linecap: round\"/>\n",
       "    <path d=\"M 502.57961 245.442117 \n",
       "L 507.022284 244.929626 \n",
       "L 504.766672 248.79126 \n",
       "z\n",
       "\" clip-path=\"url(#peafc102c35)\" style=\"stroke: #000000; stroke-linecap: round\"/>\n",
       "   </g>\n",
       "   <g id=\"PathCollection_1\">\n",
       "    <defs>\n",
       "     <path id=\"m71edc79bc0\" d=\"M 0 30.618622 \n",
       "C 8.120153 30.618622 15.90882 27.392451 21.650635 21.650635 \n",
       "C 27.392451 15.90882 30.618622 8.120153 30.618622 0 \n",
       "C 30.618622 -8.120153 27.392451 -15.90882 21.650635 -21.650635 \n",
       "C 15.90882 -27.392451 8.120153 -30.618622 0 -30.618622 \n",
       "C -8.120153 -30.618622 -15.90882 -27.392451 -21.650635 -21.650635 \n",
       "C -27.392451 -15.90882 -30.618622 -8.120153 -30.618622 0 \n",
       "C -30.618622 8.120153 -27.392451 15.90882 -21.650635 21.650635 \n",
       "C -15.90882 27.392451 -8.120153 30.618622 0 30.618622 \n",
       "z\n",
       "\" style=\"stroke: #1f78b4; stroke-width: 2\"/>\n",
       "    </defs>\n",
       "    <g clip-path=\"url(#peafc102c35)\">\n",
       "     <use xlink:href=\"#m71edc79bc0\" x=\"254.835034\" y=\"38.439669\" style=\"fill: #1f78b4; stroke: #1f78b4; stroke-width: 2\"/>\n",
       "     <use xlink:href=\"#m71edc79bc0\" x=\"57.183471\" y=\"209.649004\" style=\"fill: #1f78b4; stroke: #1f78b4; stroke-width: 2\"/>\n",
       "     <use xlink:href=\"#m71edc79bc0\" x=\"533.216529\" y=\"227.011437\" style=\"fill: #1f78b4; stroke: #1f78b4; stroke-width: 2\"/>\n",
       "     <use xlink:href=\"#m71edc79bc0\" x=\"292.734979\" y=\"335.960331\" style=\"fill: #1f78b4; stroke: #1f78b4; stroke-width: 2\"/>\n",
       "    </g>\n",
       "   </g>\n",
       "   <g id=\"text_1\">\n",
       "    <g clip-path=\"url(#peafc102c35)\">\n",
       "     <!-- 1 -->\n",
       "     <g style=\"fill: #ffffff\" transform=\"translate(250.664331 42.327951) scale(0.15 -0.15)\">\n",
       "      <defs>\n",
       "       <path id=\"Arial-BoldMT-31\" d=\"M 2519 0 \n",
       "L 1641 0 \n",
       "L 1641 3309 \n",
       "Q 1159 2859 506 2644 \n",
       "L 506 3441 \n",
       "Q 850 3553 1253 3867 \n",
       "Q 1656 4181 1806 4600 \n",
       "L 2519 4600 \n",
       "L 2519 0 \n",
       "z\n",
       "\" transform=\"scale(0.015625)\"/>\n",
       "      </defs>\n",
       "      <use xlink:href=\"#Arial-BoldMT-31\"/>\n",
       "     </g>\n",
       "    </g>\n",
       "   </g>\n",
       "   <g id=\"text_2\">\n",
       "    <g clip-path=\"url(#peafc102c35)\">\n",
       "     <!-- 2 -->\n",
       "     <g style=\"fill: #ffffff\" transform=\"translate(53.012768 213.537285) scale(0.15 -0.15)\">\n",
       "      <defs>\n",
       "       <path id=\"Arial-BoldMT-32\" d=\"M 3238 816 \n",
       "L 3238 0 \n",
       "L 159 0 \n",
       "Q 209 463 459 877 \n",
       "Q 709 1291 1447 1975 \n",
       "Q 2041 2528 2175 2725 \n",
       "Q 2356 2997 2356 3263 \n",
       "Q 2356 3556 2198 3714 \n",
       "Q 2041 3872 1763 3872 \n",
       "Q 1488 3872 1325 3706 \n",
       "Q 1163 3541 1138 3156 \n",
       "L 263 3244 \n",
       "Q 341 3969 753 4284 \n",
       "Q 1166 4600 1784 4600 \n",
       "Q 2463 4600 2850 4234 \n",
       "Q 3238 3869 3238 3325 \n",
       "Q 3238 3016 3127 2736 \n",
       "Q 3016 2456 2775 2150 \n",
       "Q 2616 1947 2200 1565 \n",
       "Q 1784 1184 1673 1059 \n",
       "Q 1563 934 1494 816 \n",
       "L 3238 816 \n",
       "z\n",
       "\" transform=\"scale(0.015625)\"/>\n",
       "      </defs>\n",
       "      <use xlink:href=\"#Arial-BoldMT-32\"/>\n",
       "     </g>\n",
       "    </g>\n",
       "   </g>\n",
       "   <g id=\"text_3\">\n",
       "    <g clip-path=\"url(#peafc102c35)\">\n",
       "     <!-- 3 -->\n",
       "     <g style=\"fill: #ffffff\" transform=\"translate(529.045826 230.899718) scale(0.15 -0.15)\">\n",
       "      <defs>\n",
       "       <path id=\"Arial-BoldMT-33\" d=\"M 241 1216 \n",
       "L 1091 1319 \n",
       "Q 1131 994 1309 822 \n",
       "Q 1488 650 1741 650 \n",
       "Q 2013 650 2198 856 \n",
       "Q 2384 1063 2384 1413 \n",
       "Q 2384 1744 2206 1937 \n",
       "Q 2028 2131 1772 2131 \n",
       "Q 1603 2131 1369 2066 \n",
       "L 1466 2781 \n",
       "Q 1822 2772 2009 2936 \n",
       "Q 2197 3100 2197 3372 \n",
       "Q 2197 3603 2059 3740 \n",
       "Q 1922 3878 1694 3878 \n",
       "Q 1469 3878 1309 3722 \n",
       "Q 1150 3566 1116 3266 \n",
       "L 306 3403 \n",
       "Q 391 3819 561 4067 \n",
       "Q 731 4316 1036 4458 \n",
       "Q 1341 4600 1719 4600 \n",
       "Q 2366 4600 2756 4188 \n",
       "Q 3078 3850 3078 3425 \n",
       "Q 3078 2822 2419 2463 \n",
       "Q 2813 2378 3048 2084 \n",
       "Q 3284 1791 3284 1375 \n",
       "Q 3284 772 2843 347 \n",
       "Q 2403 -78 1747 -78 \n",
       "Q 1125 -78 715 280 \n",
       "Q 306 638 241 1216 \n",
       "z\n",
       "\" transform=\"scale(0.015625)\"/>\n",
       "      </defs>\n",
       "      <use xlink:href=\"#Arial-BoldMT-33\"/>\n",
       "     </g>\n",
       "    </g>\n",
       "   </g>\n",
       "   <g id=\"text_4\">\n",
       "    <g clip-path=\"url(#peafc102c35)\">\n",
       "     <!-- 4 -->\n",
       "     <g style=\"fill: #ffffff\" transform=\"translate(288.564276 339.848612) scale(0.15 -0.15)\">\n",
       "      <defs>\n",
       "       <path id=\"Arial-BoldMT-34\" d=\"M 1994 0 \n",
       "L 1994 922 \n",
       "L 119 922 \n",
       "L 119 1691 \n",
       "L 2106 4600 \n",
       "L 2844 4600 \n",
       "L 2844 1694 \n",
       "L 3413 1694 \n",
       "L 3413 922 \n",
       "L 2844 922 \n",
       "L 2844 0 \n",
       "L 1994 0 \n",
       "z\n",
       "M 1994 1694 \n",
       "L 1994 3259 \n",
       "L 941 1694 \n",
       "L 1994 1694 \n",
       "z\n",
       "\" transform=\"scale(0.015625)\"/>\n",
       "      </defs>\n",
       "      <use xlink:href=\"#Arial-BoldMT-34\"/>\n",
       "     </g>\n",
       "    </g>\n",
       "   </g>\n",
       "  </g>\n",
       " </g>\n",
       " <defs>\n",
       "  <clipPath id=\"peafc102c35\">\n",
       "   <rect x=\"7.2\" y=\"7.2\" width=\"576\" height=\"360\"/>\n",
       "  </clipPath>\n",
       " </defs>\n",
       "</svg>\n"
      ],
      "text/plain": [
       "<Figure size 800x500 with 1 Axes>"
      ]
     },
     "metadata": {},
     "output_type": "display_data"
    }
   ],
   "source": [
    "def plot_from_adjacency(adjacency_matrix, node_sizes=0.25):\n",
    "    np.random.seed(25)\n",
    "    plt.figure(figsize=(8, 5))\n",
    "    G = nx.from_numpy_array(adjacency_matrix.T, create_using=nx.DiGraph)\n",
    "    layout = nx.spring_layout(G)\n",
    "    labels_dict={i: i+1 for i in range(adjacency_matrix.shape[0])}\n",
    "    nx.draw(G, layout,\n",
    "            node_size=15000 * node_sizes, labels=labels_dict, with_labels=True, font_color='white', font_weight='bold', font_size=15,\n",
    "            connectionstyle='arc3, rad = 0.1')\n",
    "    plt.show()\n",
    "\n",
    "plot_from_adjacency(A)"
   ]
  },
  {
   "cell_type": "markdown",
   "id": "3ae3db62",
   "metadata": {},
   "source": [
    "Cool!"
   ]
  },
  {
   "cell_type": "markdown",
   "id": "a027ff7a",
   "metadata": {},
   "source": [
    "### Question 1: Creating Adjacency Matrices  <div style=\"display:inline-block; vertical-align: middle; padding:7px 7px; font-size:10px; font-weight:light; color:white; background-color:#e84c4a; border-radius:7px; text-align:left;\">4 Points</div>\n",
    "\n",
    "Having to specify an adjacency matrix manually is slightly cumbersome. It is more natural and convenient for us to describe the links between webpages using a dictionary. Once such example is as follows:"
   ]
  },
  {
   "cell_type": "code",
   "execution_count": 7,
   "id": "30ee3b32",
   "metadata": {},
   "outputs": [],
   "source": [
    "example_net = {\n",
    "    1: [2],\n",
    "    2: [1, 4],\n",
    "    3: [1, 4],\n",
    "    4: [1, 2, 3]\n",
    "}"
   ]
  },
  {
   "cell_type": "markdown",
   "id": "3ac314fd",
   "metadata": {},
   "source": [
    "In the above \"network dictionary\", we are told that:\n",
    "- Page 1 links to Page 2.\n",
    "- Page 2 links to Pages 1 and 4.\n",
    "- Page 3 links to Pages 1 and 4.\n",
    "- Page 4 links to Pages 1, 2, and 3.\n",
    "\n",
    "**Note that this dictionary describes the same network that the adjacency matrix `A` does.**\n",
    "\n",
    "Below, complete the implementation of the function `create_adjacency`, which takes in a network dictionary, `network` (formatted similarly to `example_net`) and returns the adjacency matrix that corresponds to `network`. Example behavior is given below.\n",
    "\n",
    "```python\n",
    ">>> create_adjacency(example_net)\n",
    "array([[0.        , 0.5       , 0.5       , 0.33333333],\n",
    "       [1.        , 0.        , 0.        , 0.33333333],\n",
    "       [0.        , 0.        , 0.        , 0.33333333],\n",
    "       [0.        , 0.5       , 0.5       , 0.        ]])\n",
    "```\n",
    "\n",
    "A few notes:\n",
    "- It is **not** guaranteed that there are 4 pages in the network. \n",
    "- It **is** guaranteed that all pages link to at least one page – potentially itself – and that there is at least one page.\n",
    "- Remember that adjacency matrices are 1-indexed, like in math, but Python is 0-indexed.\n",
    "\n",
    "***Hint***: Look into `np.zeros`. You _can_ use a (nested) `for`-loop."
   ]
  },
  {
   "cell_type": "code",
   "execution_count": 21,
   "id": "5bafc60c",
   "metadata": {
    "tags": []
   },
   "outputs": [
    {
     "data": {
      "text/plain": [
       "array([[0.        , 0.5       , 0.5       , 0.33333333],\n",
       "       [1.        , 0.        , 0.        , 0.33333333],\n",
       "       [0.        , 0.        , 0.        , 0.33333333],\n",
       "       [0.        , 0.5       , 0.5       , 0.        ]])"
      ]
     },
     "execution_count": 21,
     "metadata": {},
     "output_type": "execute_result"
    }
   ],
   "source": [
    "def create_adjacency(network):\n",
    "    n = len(network)\n",
    "    adjacency_matrix = np.zeros((n, n))\n",
    "\n",
    "    for page, links in network.items():\n",
    "        for link in links:\n",
    "            adjacency_matrix[link - 1][page - 1] = 1\n",
    "\n",
    "    # Normalize the matrix\n",
    "    for i in range(n):\n",
    "        num_links = np.sum(adjacency_matrix[:, i], axis=0)\n",
    "        if num_links > 0:\n",
    "            adjacency_matrix[:, i] /= num_links\n",
    "\n",
    "    return adjacency_matrix\n",
    "\n",
    "# Feel free to change this input to make sure your function works correctly.\n",
    "create_adjacency(example_net)"
   ]
  },
  {
   "cell_type": "code",
   "execution_count": 22,
   "id": "121eab3b",
   "metadata": {
    "deletable": false,
    "editable": false
   },
   "outputs": [
    {
     "data": {
      "text/html": [
       "<p><strong><pre style='display: inline;'>q01</pre></strong> passed!</p>"
      ],
      "text/plain": [
       "q01 results: All test cases passed!"
      ]
     },
     "execution_count": 22,
     "metadata": {},
     "output_type": "execute_result"
    }
   ],
   "source": [
    "grader.check(\"q01\")"
   ]
  },
  {
   "cell_type": "markdown",
   "id": "704bbfe2",
   "metadata": {},
   "source": [
    "### Question 2: Ranking Pages\n",
    "\n",
    "Now, back to the task at hand.\n",
    "\n",
    "**Our goal**: Given an adjacency matrix $A$, find the solution to the equation $\\vec{x} = A \\vec{x}$. In our example network $A$, the setup looks like:\n",
    "\n",
    "$$A = \\begin{bmatrix}\n",
    "0 & \\frac{1}{2} & \\frac{1}{2} & \\frac{1}{3} \\\\\n",
    "1 & 0 & 0 & \\frac{1}{3} \\\\\n",
    "0 & 0 & 0 & \\frac{1}{3} \\\\\n",
    "0 & \\frac{1}{2} & \\frac{1}{2} & 0\n",
    "\\end{bmatrix} \\qquad \\vec x = \\begin{bmatrix} x_1 \\\\ x_2 \\\\ x_3 \\\\ x_4 \\end{bmatrix}$$\n",
    "\n",
    "How do we find $\\vec x$? It turns out that for all valid adjacency matrices, $\\vec x$ is an **eigenvector** that corresponds to the **eigenvalue of 1**. Not sure what that means? That's okay – you can learn more about eigen-everything [here](https://youtu.be/PhfbEr2btGQ?si=1diIM4b31qSYrDOZ).\n",
    "\n",
    "But for our purposes, you don't actually _need_ to know about eigenvalues and eigenvectors. That's because, due to some mathematical theory that's outside of the scope of the course, we can estimate $\\vec x$ with great accuracy if we follow the following process:\n",
    "\n",
    "1. Start by initializing $\\vec x^{(0)}$ to a uniform array that sums to 1. This is our initial, or 0th, guess of the true value of $\\vec x$. In our example $A$, since $\\vec x \\in \\mathbb{R}^4$, we'd initialize $\\vec x^{(0)} = \\begin{bmatrix} \\frac{1}{4} \\\\ \\frac{1}{4} \\\\ \\frac{1}{4} \\\\ \\frac{1}{4} \\end{bmatrix}$. You can imagine this means that a user is equally likely to be on any of the four pages before clicking anything.\n",
    "1. Simulate the process of the user clicking one link by multiplying $A$ by $\\vec x^{(0)}$, and call this $\\vec x^{(1)}$, our next guess of the true $\\vec x$. In other words, $\\vec x^{(1)} = A \\vec x^{(0)}$.\n",
    "2. Repeat this again, so $\\vec x^{(2)} = A \\vec x^{(1)} = A^2 \\vec x^{(0)}$.\n",
    "3. Repeat many, many times, until the difference between $\\vec x^{(i)}$ and $\\vec x^{(i-1)}$ is minimal.\n",
    "\n",
    "Eventually, our guesses $\\vec x^{(i)}$ will converge on the true value of $\\vec x$, which we can interpret as containing the probability that a user is on any particular page in the long run. **Larger probabilities mean more important pages!**\n",
    "\n",
    "In short, to estimate $\\vec x$, we evaluate $A^{m} \\vec x^{(0)}$, where $m$ is some large integer and $x^{(0)}$ is a uniform vector. $m = 100$ is usually sufficient.\n",
    "\n",
    "Let's work this out concretely with our example adjacency matrix, $A$. Let's initialize `x` to an array of length 4 in which each value is `1 / 4`."
   ]
  },
  {
   "cell_type": "code",
   "execution_count": 23,
   "id": "1a5dffe7",
   "metadata": {},
   "outputs": [
    {
     "data": {
      "text/plain": [
       "array([0.25, 0.25, 0.25, 0.25])"
      ]
     },
     "execution_count": 23,
     "metadata": {},
     "output_type": "execute_result"
    }
   ],
   "source": [
    "x = np.ones(4) / 4\n",
    "x"
   ]
  },
  {
   "cell_type": "markdown",
   "id": "727faea9",
   "metadata": {},
   "source": [
    "A better solution than writing:\n",
    "\n",
    "```python\n",
    "A @ A @ A @ A @ A @ A @ ... @ x\n",
    "```\n",
    "\n",
    "or even:\n",
    "\n",
    "```python\n",
    "for i in range(100):\n",
    "    x = A @ x\n",
    "```"
   ]
  },
  {
   "cell_type": "markdown",
   "id": "3315a467",
   "metadata": {},
   "source": [
    "is using `np.linalg.matrix_power`:"
   ]
  },
  {
   "cell_type": "code",
   "execution_count": 24,
   "id": "fa823a7f",
   "metadata": {},
   "outputs": [
    {
     "data": {
      "text/plain": [
       "array([0.30769231, 0.38461538, 0.07692308, 0.23076923])"
      ]
     },
     "execution_count": 24,
     "metadata": {},
     "output_type": "execute_result"
    }
   ],
   "source": [
    "scores = np.linalg.matrix_power(A, 100) @ x\n",
    "scores"
   ]
  },
  {
   "cell_type": "markdown",
   "id": "a9ddc61d",
   "metadata": {},
   "source": [
    "Above are what we call the PageRank scores of each page. Remember, larger scores are more important! This is telling us that:\n",
    "- Page 2 is the most important,\n",
    "- then Page 1,\n",
    "- then Page 4,\n",
    "- then Page 3.\n",
    "\n",
    "So, if we were Google, we'd show Page 2 first, then Page 1, then Page 4, then Page 3.\n",
    "\n",
    "Now it's your turn! We've broken this question up into two smaller parts."
   ]
  },
  {
   "cell_type": "markdown",
   "id": "b20e957f",
   "metadata": {},
   "source": [
    "#### Question 2.1: Computing Scores  <div style=\"display:inline-block; vertical-align: middle; padding:7px 7px; font-size:10px; font-weight:light; color:white; background-color:#e84c4a; border-radius:7px; text-align:left;\">2 Points</div>\n",
    "\n",
    "Complete the implementation of the function `compute_scores`, which takes in an adjacency matrix `matrix` of shape `(n, n)`, where `n` is a positive integer, and returns an array of length `n` containing the PageRank scores of all pages. Compute the PageRank scores using a matrix power of 100, as we did above. Example behavior is given below.\n",
    "\n",
    "```python\n",
    "# Remember, compute_scores should work for any adjacency matrix, not just A!\n",
    ">>> compute_scores(A)\n",
    "array([0.30769231, 0.38461538, 0.07692308, 0.23076923])\n",
    "```"
   ]
  },
  {
   "cell_type": "code",
   "execution_count": 30,
   "id": "fb6b7940",
   "metadata": {
    "tags": []
   },
   "outputs": [
    {
     "data": {
      "text/plain": [
       "array([0.30769189, 0.38461623, 0.07692339, 0.2307685 ])"
      ]
     },
     "execution_count": 30,
     "metadata": {},
     "output_type": "execute_result"
    }
   ],
   "source": [
    "def compute_scores(matrix):\n",
    "    n = len(matrix)\n",
    "    x = np.ones(n) / n\n",
    "    prev_x = np.zeros(n)\n",
    "\n",
    "    while not np.allclose(x, prev_x):\n",
    "        prev_x = x\n",
    "        x = matrix @ x\n",
    "\n",
    "    return x\n",
    "\n",
    "# Feel free to change this input to make sure your function works correctly.\n",
    "compute_scores(A)"
   ]
  },
  {
   "cell_type": "code",
   "execution_count": 31,
   "id": "7c94afdc",
   "metadata": {
    "deletable": false,
    "editable": false
   },
   "outputs": [
    {
     "data": {
      "text/html": [
       "<p><strong><pre style='display: inline;'>q02_1</pre></strong> passed!</p>"
      ],
      "text/plain": [
       "q02_1 results: All test cases passed!"
      ]
     },
     "execution_count": 31,
     "metadata": {},
     "output_type": "execute_result"
    }
   ],
   "source": [
    "grader.check(\"q02_1\")"
   ]
  },
  {
   "cell_type": "markdown",
   "id": "d69dbd16",
   "metadata": {},
   "source": [
    "We can change the sizes of the pages in our network to be proportional to their PageRank scores. To do this, use the `node_sizes` argument in `plot_from_adjacency`."
   ]
  },
  {
   "cell_type": "code",
   "execution_count": 32,
   "id": "e19a1580",
   "metadata": {},
   "outputs": [
    {
     "data": {
      "image/svg+xml": [
       "<?xml version=\"1.0\" encoding=\"utf-8\" standalone=\"no\"?>\n",
       "<!DOCTYPE svg PUBLIC \"-//W3C//DTD SVG 1.1//EN\"\n",
       "  \"http://www.w3.org/Graphics/SVG/1.1/DTD/svg11.dtd\">\n",
       "<svg xmlns:xlink=\"http://www.w3.org/1999/xlink\" width=\"590.4pt\" height=\"374.4pt\" viewBox=\"0 0 590.4 374.4\" xmlns=\"http://www.w3.org/2000/svg\" version=\"1.1\">\n",
       " <metadata>\n",
       "  <rdf:RDF xmlns:dc=\"http://purl.org/dc/elements/1.1/\" xmlns:cc=\"http://creativecommons.org/ns#\" xmlns:rdf=\"http://www.w3.org/1999/02/22-rdf-syntax-ns#\">\n",
       "   <cc:Work>\n",
       "    <dc:type rdf:resource=\"http://purl.org/dc/dcmitype/StillImage\"/>\n",
       "    <dc:date>2024-09-12T22:57:50.227181</dc:date>\n",
       "    <dc:format>image/svg+xml</dc:format>\n",
       "    <dc:creator>\n",
       "     <cc:Agent>\n",
       "      <dc:title>Matplotlib v3.9.2, https://matplotlib.org/</dc:title>\n",
       "     </cc:Agent>\n",
       "    </dc:creator>\n",
       "   </cc:Work>\n",
       "  </rdf:RDF>\n",
       " </metadata>\n",
       " <defs>\n",
       "  <style type=\"text/css\">*{stroke-linejoin: round; stroke-linecap: butt}</style>\n",
       " </defs>\n",
       " <g id=\"figure_1\">\n",
       "  <g id=\"patch_1\">\n",
       "   <path d=\"M 0 374.4 \n",
       "L 590.4 374.4 \n",
       "L 590.4 -0 \n",
       "L 0 -0 \n",
       "z\n",
       "\" style=\"fill: #ffffff\"/>\n",
       "  </g>\n",
       "  <g id=\"axes_1\">\n",
       "   <g id=\"patch_2\">\n",
       "    <path d=\"M 225.719168 55.93877 \n",
       "Q 144.403654 107.614138 82.012083 179.445662 \n",
       "\" clip-path=\"url(#pac66ddca5e)\" style=\"fill: none; stroke: #000000; stroke-linecap: round\"/>\n",
       "    <path d=\"M 86.145052 177.737282 \n",
       "L 82.012083 179.445662 \n",
       "L 83.125161 175.114258 \n",
       "z\n",
       "\" clip-path=\"url(#pac66ddca5e)\" style=\"stroke: #000000; stroke-linecap: round\"/>\n",
       "   </g>\n",
       "   <g id=\"patch_3\">\n",
       "    <path d=\"M 89.675713 189.990143 \n",
       "Q 170.616161 137.875537 232.636142 65.607322 \n",
       "\" clip-path=\"url(#pac66ddca5e)\" style=\"fill: none; stroke: #000000; stroke-linecap: round\"/>\n",
       "    <path d=\"M 228.513415 67.340274 \n",
       "L 232.636142 65.607322 \n",
       "L 231.548868 69.945275 \n",
       "z\n",
       "\" clip-path=\"url(#pac66ddca5e)\" style=\"stroke: #000000; stroke-linecap: round\"/>\n",
       "   </g>\n",
       "   <g id=\"patch_4\">\n",
       "    <path d=\"M 87.125606 233.009462 \n",
       "Q 168.813339 293.22479 263.71737 326.456416 \n",
       "\" clip-path=\"url(#pac66ddca5e)\" style=\"fill: none; stroke: #000000; stroke-linecap: round\"/>\n",
       "    <path d=\"M 260.603096 323.246852 \n",
       "L 263.71737 326.456416 \n",
       "L 259.281155 327.022097 \n",
       "z\n",
       "\" clip-path=\"url(#pac66ddca5e)\" style=\"stroke: #000000; stroke-linecap: round\"/>\n",
       "   </g>\n",
       "   <g id=\"patch_5\">\n",
       "    <path d=\"M 521.179516 215.026732 \n",
       "Q 417.190873 113.458522 286.906895 52.677568 \n",
       "\" clip-path=\"url(#pac66ddca5e)\" style=\"fill: none; stroke: #000000; stroke-linecap: round\"/>\n",
       "    <path d=\"M 289.68626 56.181157 \n",
       "L 286.906895 52.677568 \n",
       "L 291.377385 52.55623 \n",
       "z\n",
       "\" clip-path=\"url(#pac66ddca5e)\" style=\"stroke: #000000; stroke-linecap: round\"/>\n",
       "   </g>\n",
       "   <g id=\"patch_6\">\n",
       "    <path d=\"M 516.72356 231.050577 \n",
       "Q 409.403808 258.730137 317.924463 318.697186 \n",
       "\" clip-path=\"url(#pac66ddca5e)\" style=\"fill: none; stroke: #000000; stroke-linecap: round\"/>\n",
       "    <path d=\"M 322.366232 318.176906 \n",
       "L 317.924463 318.697186 \n",
       "L 320.1733 314.831603 \n",
       "z\n",
       "\" clip-path=\"url(#pac66ddca5e)\" style=\"stroke: #000000; stroke-linecap: round\"/>\n",
       "   </g>\n",
       "   <g id=\"patch_7\">\n",
       "    <path d=\"M 294.265786 306.585109 \n",
       "Q 298.272563 186.34888 265.267072 71.941196 \n",
       "\" clip-path=\"url(#pac66ddca5e)\" style=\"fill: none; stroke: #000000; stroke-linecap: round\"/>\n",
       "    <path d=\"M 264.454184 76.338833 \n",
       "L 265.267072 71.941196 \n",
       "L 268.297449 75.230089 \n",
       "z\n",
       "\" clip-path=\"url(#pac66ddca5e)\" style=\"stroke: #000000; stroke-linecap: round\"/>\n",
       "   </g>\n",
       "   <g id=\"patch_8\">\n",
       "    <path d=\"M 269.652993 317.722725 \n",
       "Q 188.568306 256.38692 94.26321 222.046842 \n",
       "\" clip-path=\"url(#pac66ddca5e)\" style=\"fill: none; stroke: #000000; stroke-linecap: round\"/>\n",
       "    <path d=\"M 97.337459 225.294763 \n",
       "L 94.26321 222.046842 \n",
       "L 98.706097 221.536196 \n",
       "z\n",
       "\" clip-path=\"url(#pac66ddca5e)\" style=\"stroke: #000000; stroke-linecap: round\"/>\n",
       "   </g>\n",
       "   <g id=\"patch_9\">\n",
       "    <path d=\"M 321.242748 328.706333 \n",
       "Q 427.72378 299.178207 518.375954 237.380086 \n",
       "\" clip-path=\"url(#pac66ddca5e)\" style=\"fill: none; stroke: #000000; stroke-linecap: round\"/>\n",
       "    <path d=\"M 513.944325 237.980639 \n",
       "L 518.375954 237.380086 \n",
       "L 516.197419 241.285721 \n",
       "z\n",
       "\" clip-path=\"url(#pac66ddca5e)\" style=\"stroke: #000000; stroke-linecap: round\"/>\n",
       "   </g>\n",
       "   <g id=\"PathCollection_1\">\n",
       "    <path d=\"M 254.835034 72.407957 \n",
       "C 263.843529 72.407957 272.484273 68.828844 278.854241 62.458876 \n",
       "C 285.224209 56.088908 288.803322 47.448165 288.803322 38.439669 \n",
       "C 288.803322 29.431174 285.224209 20.790431 278.854241 14.420463 \n",
       "C 272.484273 8.050495 263.843529 4.471382 254.835034 4.471382 \n",
       "C 245.826539 4.471382 237.185795 8.050495 230.815827 14.420463 \n",
       "C 224.445859 20.790431 220.866746 29.431174 220.866746 38.439669 \n",
       "C 220.866746 47.448165 224.445859 56.088908 230.815827 62.458876 \n",
       "C 237.185795 68.828844 245.826539 72.407957 254.835034 72.407957 \n",
       "z\n",
       "\" clip-path=\"url(#pac66ddca5e)\" style=\"fill: #1f78b4; stroke: #1f78b4; stroke-width: 2\"/>\n",
       "    <path d=\"M 57.183471 247.626771 \n",
       "C 67.255293 247.626771 76.915955 243.625194 84.037808 236.503341 \n",
       "C 91.159662 229.381487 95.161239 219.720825 95.161239 209.649004 \n",
       "C 95.161239 199.577182 91.159662 189.91652 84.037808 182.794666 \n",
       "C 76.915955 175.672813 67.255293 171.671236 57.183471 171.671236 \n",
       "C 47.111649 171.671236 37.450987 175.672813 30.329134 182.794666 \n",
       "C 23.20728 189.91652 19.205703 199.577182 19.205703 209.649004 \n",
       "C 19.205703 219.720825 23.20728 229.381487 30.329134 236.503341 \n",
       "C 37.450987 243.625194 47.111649 247.626771 57.183471 247.626771 \n",
       "z\n",
       "\" clip-path=\"url(#pac66ddca5e)\" style=\"fill: #1f78b4; stroke: #1f78b4; stroke-width: 2\"/>\n",
       "    <path d=\"M 533.216529 243.995627 \n",
       "C 537.720789 243.995627 542.041172 242.206065 545.226165 239.021073 \n",
       "C 548.411157 235.83608 550.200718 231.515697 550.200718 227.011437 \n",
       "C 550.200718 222.507177 548.411157 218.186794 545.226165 215.001801 \n",
       "C 542.041172 211.816809 537.720789 210.027248 533.216529 210.027248 \n",
       "C 528.712269 210.027248 524.391886 211.816809 521.206893 215.001801 \n",
       "C 518.021901 218.186794 516.232339 222.507177 516.232339 227.011437 \n",
       "C 516.232339 231.515697 518.021901 235.83608 521.206893 239.021073 \n",
       "C 524.391886 242.206065 528.712269 243.995627 533.216529 243.995627 \n",
       "z\n",
       "\" clip-path=\"url(#pac66ddca5e)\" style=\"fill: #1f78b4; stroke: #1f78b4; stroke-width: 2\"/>\n",
       "    <path d=\"M 292.734979 365.377704 \n",
       "C 300.536558 365.377704 308.019654 362.278104 313.536204 356.761555 \n",
       "C 319.052753 351.245006 322.152353 343.761909 322.152353 335.960331 \n",
       "C 322.152353 328.158752 319.052753 320.675655 313.536204 315.159106 \n",
       "C 308.019654 309.642557 300.536558 306.542957 292.734979 306.542957 \n",
       "C 284.9334 306.542957 277.450304 309.642557 271.933755 315.159106 \n",
       "C 266.417205 320.675655 263.317605 328.158752 263.317605 335.960331 \n",
       "C 263.317605 343.761909 266.417205 351.245006 271.933755 356.761555 \n",
       "C 277.450304 362.278104 284.9334 365.377704 292.734979 365.377704 \n",
       "z\n",
       "\" clip-path=\"url(#pac66ddca5e)\" style=\"fill: #1f78b4; stroke: #1f78b4; stroke-width: 2\"/>\n",
       "   </g>\n",
       "   <g id=\"text_1\">\n",
       "    <g clip-path=\"url(#pac66ddca5e)\">\n",
       "     <!-- 1 -->\n",
       "     <g style=\"fill: #ffffff\" transform=\"translate(250.664331 42.327951) scale(0.15 -0.15)\">\n",
       "      <defs>\n",
       "       <path id=\"Arial-BoldMT-31\" d=\"M 2519 0 \n",
       "L 1641 0 \n",
       "L 1641 3309 \n",
       "Q 1159 2859 506 2644 \n",
       "L 506 3441 \n",
       "Q 850 3553 1253 3867 \n",
       "Q 1656 4181 1806 4600 \n",
       "L 2519 4600 \n",
       "L 2519 0 \n",
       "z\n",
       "\" transform=\"scale(0.015625)\"/>\n",
       "      </defs>\n",
       "      <use xlink:href=\"#Arial-BoldMT-31\"/>\n",
       "     </g>\n",
       "    </g>\n",
       "   </g>\n",
       "   <g id=\"text_2\">\n",
       "    <g clip-path=\"url(#pac66ddca5e)\">\n",
       "     <!-- 2 -->\n",
       "     <g style=\"fill: #ffffff\" transform=\"translate(53.012768 213.537285) scale(0.15 -0.15)\">\n",
       "      <defs>\n",
       "       <path id=\"Arial-BoldMT-32\" d=\"M 3238 816 \n",
       "L 3238 0 \n",
       "L 159 0 \n",
       "Q 209 463 459 877 \n",
       "Q 709 1291 1447 1975 \n",
       "Q 2041 2528 2175 2725 \n",
       "Q 2356 2997 2356 3263 \n",
       "Q 2356 3556 2198 3714 \n",
       "Q 2041 3872 1763 3872 \n",
       "Q 1488 3872 1325 3706 \n",
       "Q 1163 3541 1138 3156 \n",
       "L 263 3244 \n",
       "Q 341 3969 753 4284 \n",
       "Q 1166 4600 1784 4600 \n",
       "Q 2463 4600 2850 4234 \n",
       "Q 3238 3869 3238 3325 \n",
       "Q 3238 3016 3127 2736 \n",
       "Q 3016 2456 2775 2150 \n",
       "Q 2616 1947 2200 1565 \n",
       "Q 1784 1184 1673 1059 \n",
       "Q 1563 934 1494 816 \n",
       "L 3238 816 \n",
       "z\n",
       "\" transform=\"scale(0.015625)\"/>\n",
       "      </defs>\n",
       "      <use xlink:href=\"#Arial-BoldMT-32\"/>\n",
       "     </g>\n",
       "    </g>\n",
       "   </g>\n",
       "   <g id=\"text_3\">\n",
       "    <g clip-path=\"url(#pac66ddca5e)\">\n",
       "     <!-- 3 -->\n",
       "     <g style=\"fill: #ffffff\" transform=\"translate(529.045826 230.899718) scale(0.15 -0.15)\">\n",
       "      <defs>\n",
       "       <path id=\"Arial-BoldMT-33\" d=\"M 241 1216 \n",
       "L 1091 1319 \n",
       "Q 1131 994 1309 822 \n",
       "Q 1488 650 1741 650 \n",
       "Q 2013 650 2198 856 \n",
       "Q 2384 1063 2384 1413 \n",
       "Q 2384 1744 2206 1937 \n",
       "Q 2028 2131 1772 2131 \n",
       "Q 1603 2131 1369 2066 \n",
       "L 1466 2781 \n",
       "Q 1822 2772 2009 2936 \n",
       "Q 2197 3100 2197 3372 \n",
       "Q 2197 3603 2059 3740 \n",
       "Q 1922 3878 1694 3878 \n",
       "Q 1469 3878 1309 3722 \n",
       "Q 1150 3566 1116 3266 \n",
       "L 306 3403 \n",
       "Q 391 3819 561 4067 \n",
       "Q 731 4316 1036 4458 \n",
       "Q 1341 4600 1719 4600 \n",
       "Q 2366 4600 2756 4188 \n",
       "Q 3078 3850 3078 3425 \n",
       "Q 3078 2822 2419 2463 \n",
       "Q 2813 2378 3048 2084 \n",
       "Q 3284 1791 3284 1375 \n",
       "Q 3284 772 2843 347 \n",
       "Q 2403 -78 1747 -78 \n",
       "Q 1125 -78 715 280 \n",
       "Q 306 638 241 1216 \n",
       "z\n",
       "\" transform=\"scale(0.015625)\"/>\n",
       "      </defs>\n",
       "      <use xlink:href=\"#Arial-BoldMT-33\"/>\n",
       "     </g>\n",
       "    </g>\n",
       "   </g>\n",
       "   <g id=\"text_4\">\n",
       "    <g clip-path=\"url(#pac66ddca5e)\">\n",
       "     <!-- 4 -->\n",
       "     <g style=\"fill: #ffffff\" transform=\"translate(288.564276 339.848612) scale(0.15 -0.15)\">\n",
       "      <defs>\n",
       "       <path id=\"Arial-BoldMT-34\" d=\"M 1994 0 \n",
       "L 1994 922 \n",
       "L 119 922 \n",
       "L 119 1691 \n",
       "L 2106 4600 \n",
       "L 2844 4600 \n",
       "L 2844 1694 \n",
       "L 3413 1694 \n",
       "L 3413 922 \n",
       "L 2844 922 \n",
       "L 2844 0 \n",
       "L 1994 0 \n",
       "z\n",
       "M 1994 1694 \n",
       "L 1994 3259 \n",
       "L 941 1694 \n",
       "L 1994 1694 \n",
       "z\n",
       "\" transform=\"scale(0.015625)\"/>\n",
       "      </defs>\n",
       "      <use xlink:href=\"#Arial-BoldMT-34\"/>\n",
       "     </g>\n",
       "    </g>\n",
       "   </g>\n",
       "  </g>\n",
       " </g>\n",
       " <defs>\n",
       "  <clipPath id=\"pac66ddca5e\">\n",
       "   <rect x=\"7.2\" y=\"7.2\" width=\"576\" height=\"360\"/>\n",
       "  </clipPath>\n",
       " </defs>\n",
       "</svg>\n"
      ],
      "text/plain": [
       "<Figure size 800x500 with 1 Axes>"
      ]
     },
     "metadata": {},
     "output_type": "display_data"
    }
   ],
   "source": [
    "plot_from_adjacency(A, node_sizes=compute_scores(A))"
   ]
  },
  {
   "cell_type": "markdown",
   "id": "7ae25b13",
   "metadata": {},
   "source": [
    "#### Question 2.2: Ranking Pages  <div style=\"display:inline-block; vertical-align: middle; padding:7px 7px; font-size:10px; font-weight:light; color:white; background-color:#e84c4a; border-radius:7px; text-align:left;\">2 Points</div>\n",
    "\n",
    "Complete the implementation of the function `pagerank`, which takes in an adjacency matrix `matrix` of shape `(n, n)`, where `n` is a positive integer, and returns a list containing the **numbers** of the pages in the matrix, in **decreasing** order of PageRank score as computed by `compute_scores`. If there are ties in scores, return the pages in any order. Example behavior is given below.\n",
    "\n",
    "```python\n",
    ">>> pagerank(A)\n",
    "[2, 1, 4, 3]\n",
    "```\n",
    "\n",
    "***Hint:*** Look into `np.argsort`. This should only take 2-3 lines; do not write a `for`-loop."
   ]
  },
  {
   "cell_type": "code",
   "execution_count": 40,
   "id": "ec7d1622",
   "metadata": {
    "tags": []
   },
   "outputs": [
    {
     "data": {
      "text/plain": [
       "[2, 1, 4, 3]"
      ]
     },
     "execution_count": 40,
     "metadata": {},
     "output_type": "execute_result"
    }
   ],
   "source": [
    "def pagerank(matrix):\n",
    "    scores = compute_scores(matrix)\n",
    "    ranks = np.argsort(scores)[::-1] + 1\n",
    "    return ranks.tolist()\n",
    "\n",
    "# Feel free to change this input to make sure your function works correctly.\n",
    "pagerank(A)"
   ]
  },
  {
   "cell_type": "code",
   "execution_count": 41,
   "id": "4656c314",
   "metadata": {
    "deletable": false,
    "editable": false
   },
   "outputs": [
    {
     "data": {
      "text/html": [
       "<p><strong><pre style='display: inline;'>q02_2</pre></strong> passed!</p>"
      ],
      "text/plain": [
       "q02_2 results: All test cases passed!"
      ]
     },
     "execution_count": 41,
     "metadata": {},
     "output_type": "execute_result"
    }
   ],
   "source": [
    "grader.check(\"q02_2\")"
   ]
  },
  {
   "cell_type": "markdown",
   "id": "188a034a",
   "metadata": {},
   "source": [
    "Once you've completed `pagerank`, run the following cell to try your work ."
   ]
  },
  {
   "cell_type": "code",
   "execution_count": 42,
   "id": "a0f22ccd",
   "metadata": {},
   "outputs": [
    {
     "name": "stdout",
     "output_type": "stream",
     "text": [
      "{1: [6], 2: [1, 3, 4, 6], 3: [2, 5, 6], 4: [1], 5: [1, 2, 6], 6: [2, 4]}\n"
     ]
    },
    {
     "data": {
      "image/svg+xml": [
       "<?xml version=\"1.0\" encoding=\"utf-8\" standalone=\"no\"?>\n",
       "<!DOCTYPE svg PUBLIC \"-//W3C//DTD SVG 1.1//EN\"\n",
       "  \"http://www.w3.org/Graphics/SVG/1.1/DTD/svg11.dtd\">\n",
       "<svg xmlns:xlink=\"http://www.w3.org/1999/xlink\" width=\"590.4pt\" height=\"374.4pt\" viewBox=\"0 0 590.4 374.4\" xmlns=\"http://www.w3.org/2000/svg\" version=\"1.1\">\n",
       " <metadata>\n",
       "  <rdf:RDF xmlns:dc=\"http://purl.org/dc/elements/1.1/\" xmlns:cc=\"http://creativecommons.org/ns#\" xmlns:rdf=\"http://www.w3.org/1999/02/22-rdf-syntax-ns#\">\n",
       "   <cc:Work>\n",
       "    <dc:type rdf:resource=\"http://purl.org/dc/dcmitype/StillImage\"/>\n",
       "    <dc:date>2024-09-12T23:05:40.046290</dc:date>\n",
       "    <dc:format>image/svg+xml</dc:format>\n",
       "    <dc:creator>\n",
       "     <cc:Agent>\n",
       "      <dc:title>Matplotlib v3.9.2, https://matplotlib.org/</dc:title>\n",
       "     </cc:Agent>\n",
       "    </dc:creator>\n",
       "   </cc:Work>\n",
       "  </rdf:RDF>\n",
       " </metadata>\n",
       " <defs>\n",
       "  <style type=\"text/css\">*{stroke-linejoin: round; stroke-linecap: butt}</style>\n",
       " </defs>\n",
       " <g id=\"figure_1\">\n",
       "  <g id=\"patch_1\">\n",
       "   <path d=\"M 0 374.4 \n",
       "L 590.4 374.4 \n",
       "L 590.4 -0 \n",
       "L 0 -0 \n",
       "z\n",
       "\" style=\"fill: #ffffff\"/>\n",
       "  </g>\n",
       "  <g id=\"axes_1\">\n",
       "   <g id=\"patch_2\">\n",
       "    <path d=\"M 397.519844 305.650223 \n",
       "Q 388.574788 256.079171 368.46655 211.176262 \n",
       "\" clip-path=\"url(#pe9b7030631)\" style=\"fill: none; stroke: #000000; stroke-linecap: round\"/>\n",
       "    <path d=\"M 368.276044 215.644338 \n",
       "L 368.46655 211.176262 \n",
       "L 371.926708 214.009513 \n",
       "z\n",
       "\" clip-path=\"url(#pe9b7030631)\" style=\"stroke: #000000; stroke-linecap: round\"/>\n",
       "   </g>\n",
       "   <g id=\"patch_3\">\n",
       "    <path d=\"M 172.478302 185.142876 \n",
       "Q 261.975736 270.756993 372.903675 322.984951 \n",
       "\" clip-path=\"url(#pe9b7030631)\" style=\"fill: none; stroke: #000000; stroke-linecap: round\"/>\n",
       "    <path d=\"M 370.136684 319.471583 \n",
       "L 372.903675 322.984951 \n",
       "L 368.432786 323.090523 \n",
       "z\n",
       "\" clip-path=\"url(#pe9b7030631)\" style=\"stroke: #000000; stroke-linecap: round\"/>\n",
       "   </g>\n",
       "   <g id=\"patch_4\">\n",
       "    <path d=\"M 142.325592 144.236898 \n",
       "Q 112.001041 90.022227 67.471338 47.901483 \n",
       "\" clip-path=\"url(#pe9b7030631)\" style=\"fill: none; stroke: #000000; stroke-linecap: round\"/>\n",
       "    <path d=\"M 69.002909 52.103183 \n",
       "L 67.471338 47.901483 \n",
       "L 71.751641 49.197246 \n",
       "z\n",
       "\" clip-path=\"url(#pe9b7030631)\" style=\"stroke: #000000; stroke-linecap: round\"/>\n",
       "   </g>\n",
       "   <g id=\"patch_5\">\n",
       "    <path d=\"M 179.396707 172.161749 \n",
       "Q 342.350059 202.947144 505.049948 177.564612 \n",
       "\" clip-path=\"url(#pe9b7030631)\" style=\"fill: none; stroke: #000000; stroke-linecap: round\"/>\n",
       "    <path d=\"M 500.789467 176.20509 \n",
       "L 505.049948 177.564612 \n",
       "L 501.406042 180.157284 \n",
       "z\n",
       "\" clip-path=\"url(#pe9b7030631)\" style=\"stroke: #000000; stroke-linecap: round\"/>\n",
       "   </g>\n",
       "   <g id=\"patch_6\">\n",
       "    <path d=\"M 179.204067 173.052466 \n",
       "Q 248.29661 187.796509 317.496063 183.020176 \n",
       "\" clip-path=\"url(#pe9b7030631)\" style=\"fill: none; stroke: #000000; stroke-linecap: round\"/>\n",
       "    <path d=\"M 313.367839 181.300358 \n",
       "L 317.496063 183.020176 \n",
       "L 313.643275 185.290864 \n",
       "z\n",
       "\" clip-path=\"url(#pe9b7030631)\" style=\"stroke: #000000; stroke-linecap: round\"/>\n",
       "   </g>\n",
       "   <g id=\"patch_7\">\n",
       "    <path d=\"M 62.938913 49.942931 \n",
       "Q 91.711166 105.32515 134.711436 148.589673 \n",
       "\" clip-path=\"url(#pe9b7030631)\" style=\"fill: none; stroke: #000000; stroke-linecap: round\"/>\n",
       "    <path d=\"M 133.310226 144.34272 \n",
       "L 134.711436 148.589673 \n",
       "L 130.473148 147.16247 \n",
       "z\n",
       "\" clip-path=\"url(#pe9b7030631)\" style=\"stroke: #000000; stroke-linecap: round\"/>\n",
       "   </g>\n",
       "   <g id=\"patch_8\">\n",
       "    <path d=\"M 69.643207 41.64511 \n",
       "Q 190.377583 71.520275 312.879932 56.35404 \n",
       "\" clip-path=\"url(#pe9b7030631)\" style=\"fill: none; stroke: #000000; stroke-linecap: round\"/>\n",
       "    <path d=\"M 308.664507 54.860655 \n",
       "L 312.879932 56.35404 \n",
       "L 309.15597 58.830349 \n",
       "z\n",
       "\" clip-path=\"url(#pe9b7030631)\" style=\"stroke: #000000; stroke-linecap: round\"/>\n",
       "   </g>\n",
       "   <g id=\"patch_9\">\n",
       "    <path d=\"M 67.53617 46.069479 \n",
       "Q 183.208733 129.996333 318.586383 170.05624 \n",
       "\" clip-path=\"url(#pe9b7030631)\" style=\"fill: none; stroke: #000000; stroke-linecap: round\"/>\n",
       "    <path d=\"M 315.318289 167.003444 \n",
       "L 318.586383 170.05624 \n",
       "L 314.18329 170.839038 \n",
       "z\n",
       "\" clip-path=\"url(#pe9b7030631)\" style=\"stroke: #000000; stroke-linecap: round\"/>\n",
       "   </g>\n",
       "   <g id=\"patch_10\">\n",
       "    <path d=\"M 512.589338 190.899748 \n",
       "Q 456.057172 243.117678 417.336681 308.252555 \n",
       "\" clip-path=\"url(#pe9b7030631)\" style=\"fill: none; stroke: #000000; stroke-linecap: round\"/>\n",
       "    <path d=\"M 421.099826 305.836205 \n",
       "L 417.336681 308.252555 \n",
       "L 417.661488 303.79223 \n",
       "z\n",
       "\" clip-path=\"url(#pe9b7030631)\" style=\"stroke: #000000; stroke-linecap: round\"/>\n",
       "   </g>\n",
       "   <g id=\"patch_11\">\n",
       "    <path d=\"M 321.996516 62.659766 \n",
       "Q 333.842847 191.689952 387.888049 307.467271 \n",
       "\" clip-path=\"url(#pe9b7030631)\" style=\"fill: none; stroke: #000000; stroke-linecap: round\"/>\n",
       "    <path d=\"M 388.008373 302.996754 \n",
       "L 387.888049 307.467271 \n",
       "L 384.383829 304.688701 \n",
       "z\n",
       "\" clip-path=\"url(#pe9b7030631)\" style=\"stroke: #000000; stroke-linecap: round\"/>\n",
       "   </g>\n",
       "   <g id=\"patch_12\">\n",
       "    <path d=\"M 314.508712 58.151411 \n",
       "Q 235.802673 91.989791 173.614823 148.538877 \n",
       "\" clip-path=\"url(#pe9b7030631)\" style=\"fill: none; stroke: #000000; stroke-linecap: round\"/>\n",
       "    <path d=\"M 177.919773 147.32751 \n",
       "L 173.614823 148.538877 \n",
       "L 175.228699 144.368097 \n",
       "z\n",
       "\" clip-path=\"url(#pe9b7030631)\" style=\"stroke: #000000; stroke-linecap: round\"/>\n",
       "   </g>\n",
       "   <g id=\"patch_13\">\n",
       "    <path d=\"M 321.806986 62.677702 \n",
       "Q 324.985235 106.663151 339.207835 146.709553 \n",
       "\" clip-path=\"url(#pe9b7030631)\" style=\"fill: none; stroke: #000000; stroke-linecap: round\"/>\n",
       "    <path d=\"M 339.753812 142.27087 \n",
       "L 339.207835 146.709553 \n",
       "L 335.984475 143.609562 \n",
       "z\n",
       "\" clip-path=\"url(#pe9b7030631)\" style=\"stroke: #000000; stroke-linecap: round\"/>\n",
       "   </g>\n",
       "   <g id=\"patch_14\">\n",
       "    <path d=\"M 319.312252 171.732298 \n",
       "Q 250.143242 158.178836 180.865799 164.128311 \n",
       "\" clip-path=\"url(#pe9b7030631)\" style=\"fill: none; stroke: #000000; stroke-linecap: round\"/>\n",
       "    <path d=\"M 185.022258 165.77872 \n",
       "L 180.865799 164.128311 \n",
       "L 184.680002 161.793389 \n",
       "z\n",
       "\" clip-path=\"url(#pe9b7030631)\" style=\"stroke: #000000; stroke-linecap: round\"/>\n",
       "   </g>\n",
       "   <g id=\"patch_15\">\n",
       "    <path d=\"M 386.768766 183.694171 \n",
       "Q 446.847325 188.964836 505.24042 178.57881 \n",
       "\" clip-path=\"url(#pe9b7030631)\" style=\"fill: none; stroke: #000000; stroke-linecap: round\"/>\n",
       "    <path d=\"M 500.951998 177.310177 \n",
       "L 505.24042 178.57881 \n",
       "L 501.65246 181.248368 \n",
       "z\n",
       "\" clip-path=\"url(#pe9b7030631)\" style=\"stroke: #000000; stroke-linecap: round\"/>\n",
       "   </g>\n",
       "   <g id=\"PathCollection_1\">\n",
       "    <path d=\"M 401.866769 366.578906 \n",
       "C 409.98691 366.578906 417.775565 363.35274 423.517371 357.610933 \n",
       "C 429.259178 351.869126 432.485345 344.080472 432.485345 335.960331 \n",
       "C 432.485345 327.840189 429.259178 320.051535 423.517371 314.309728 \n",
       "C 417.775565 308.567921 409.98691 305.341755 401.866769 305.341755 \n",
       "C 393.746628 305.341755 385.957973 308.567921 380.216166 314.309728 \n",
       "C 374.47436 320.051535 371.248193 327.840189 371.248193 335.960331 \n",
       "C 371.248193 344.080472 374.47436 351.869126 380.216166 357.610933 \n",
       "C 385.957973 363.35274 393.746628 366.578906 401.866769 366.578906 \n",
       "z\n",
       "\" clip-path=\"url(#pe9b7030631)\" style=\"fill: #1f78b4; stroke: #1f78b4; stroke-width: 2\"/>\n",
       "    <path d=\"M 154.185177 192.785327 \n",
       "C 161.007482 192.785327 167.551283 190.074797 172.375381 185.250698 \n",
       "C 177.19948 180.426599 179.91001 173.882799 179.91001 167.060494 \n",
       "C 179.91001 160.238188 177.19948 153.694388 172.375381 148.870289 \n",
       "C 167.551283 144.046191 161.007482 141.33566 154.185177 141.33566 \n",
       "C 147.362871 141.33566 140.819071 144.046191 135.994972 148.870289 \n",
       "C 131.170874 153.694388 128.460343 160.238188 128.460343 167.060494 \n",
       "C 128.460343 173.882799 131.170874 180.426599 135.994972 185.250698 \n",
       "C 140.819071 190.074797 147.362871 192.785327 154.185177 192.785327 \n",
       "z\n",
       "\" clip-path=\"url(#pe9b7030631)\" style=\"fill: #1f78b4; stroke: #1f78b4; stroke-width: 2\"/>\n",
       "    <path d=\"M 57.183471 51.302045 \n",
       "C 60.594613 51.302045 63.866503 49.946784 66.278544 47.534743 \n",
       "C 68.690586 45.122701 70.045847 41.850811 70.045847 38.439669 \n",
       "C 70.045847 35.028527 68.690586 31.756638 66.278544 29.344596 \n",
       "C 63.866503 26.932555 60.594613 25.577293 57.183471 25.577293 \n",
       "C 53.772329 25.577293 50.500439 26.932555 48.088398 29.344596 \n",
       "C 45.676356 31.756638 44.321095 35.028527 44.321095 38.439669 \n",
       "C 44.321095 41.850811 45.676356 45.122701 48.088398 47.534743 \n",
       "C 50.500439 49.946784 53.772329 51.302045 57.183471 51.302045 \n",
       "z\n",
       "\" clip-path=\"url(#pe9b7030631)\" style=\"fill: #1f78b4; stroke: #1f78b4; stroke-width: 2\"/>\n",
       "    <path d=\"M 533.216529 200.24023 \n",
       "C 540.497204 200.24023 547.480661 197.347587 552.628875 192.199373 \n",
       "C 557.777089 187.051158 560.669732 180.067701 560.669732 172.787026 \n",
       "C 560.669732 165.506352 557.777089 158.522895 552.628875 153.37468 \n",
       "C 547.480661 148.226466 540.497204 145.333823 533.216529 145.333823 \n",
       "C 525.935854 145.333823 518.952397 148.226466 513.804183 153.37468 \n",
       "C 508.655968 158.522895 505.763326 165.506352 505.763326 172.787026 \n",
       "C 505.763326 180.067701 508.655968 187.051158 513.804183 192.199373 \n",
       "C 518.952397 197.347587 525.935854 200.24023 533.216529 200.24023 \n",
       "z\n",
       "\" clip-path=\"url(#pe9b7030631)\" style=\"fill: #1f78b4; stroke: #1f78b4; stroke-width: 2\"/>\n",
       "    <path d=\"M 321.353482 62.691341 \n",
       "C 323.322906 62.691341 325.211933 61.90888 326.604527 60.516287 \n",
       "C 327.99712 59.123693 328.77958 57.234666 328.77958 55.265242 \n",
       "C 328.77958 53.295818 327.99712 51.406791 326.604527 50.014197 \n",
       "C 325.211933 48.621604 323.322906 47.839144 321.353482 47.839144 \n",
       "C 319.384058 47.839144 317.495031 48.621604 316.102437 50.014197 \n",
       "C 314.709844 51.406791 313.927383 53.295818 313.927383 55.265242 \n",
       "C 313.927383 57.234666 314.709844 59.123693 316.102437 60.516287 \n",
       "C 317.495031 61.90888 319.384058 62.691341 321.353482 62.691341 \n",
       "z\n",
       "\" clip-path=\"url(#pe9b7030631)\" style=\"fill: #1f78b4; stroke: #1f78b4; stroke-width: 2\"/>\n",
       "    <path d=\"M 352.733707 213.743699 \n",
       "C 361.830095 213.743699 370.555143 210.129666 376.987261 203.697549 \n",
       "C 383.419379 197.265431 387.033412 188.540383 387.033412 179.443995 \n",
       "C 387.033412 170.347607 383.419379 161.622559 376.987261 155.190441 \n",
       "C 370.555143 148.758324 361.830095 145.14429 352.733707 145.14429 \n",
       "C 343.637319 145.14429 334.912271 148.758324 328.480153 155.190441 \n",
       "C 322.048036 161.622559 318.434003 170.347607 318.434003 179.443995 \n",
       "C 318.434003 188.540383 322.048036 197.265431 328.480153 203.697549 \n",
       "C 334.912271 210.129666 343.637319 213.743699 352.733707 213.743699 \n",
       "z\n",
       "\" clip-path=\"url(#pe9b7030631)\" style=\"fill: #1f78b4; stroke: #1f78b4; stroke-width: 2\"/>\n",
       "   </g>\n",
       "   <g id=\"text_1\">\n",
       "    <g clip-path=\"url(#pe9b7030631)\">\n",
       "     <!-- 1 -->\n",
       "     <g style=\"fill: #ffffff\" transform=\"translate(397.696066 339.848612) scale(0.15 -0.15)\">\n",
       "      <defs>\n",
       "       <path id=\"Arial-BoldMT-31\" d=\"M 2519 0 \n",
       "L 1641 0 \n",
       "L 1641 3309 \n",
       "Q 1159 2859 506 2644 \n",
       "L 506 3441 \n",
       "Q 850 3553 1253 3867 \n",
       "Q 1656 4181 1806 4600 \n",
       "L 2519 4600 \n",
       "L 2519 0 \n",
       "z\n",
       "\" transform=\"scale(0.015625)\"/>\n",
       "      </defs>\n",
       "      <use xlink:href=\"#Arial-BoldMT-31\"/>\n",
       "     </g>\n",
       "    </g>\n",
       "   </g>\n",
       "   <g id=\"text_2\">\n",
       "    <g clip-path=\"url(#pe9b7030631)\">\n",
       "     <!-- 2 -->\n",
       "     <g style=\"fill: #ffffff\" transform=\"translate(150.014474 170.948775) scale(0.15 -0.15)\">\n",
       "      <defs>\n",
       "       <path id=\"Arial-BoldMT-32\" d=\"M 3238 816 \n",
       "L 3238 0 \n",
       "L 159 0 \n",
       "Q 209 463 459 877 \n",
       "Q 709 1291 1447 1975 \n",
       "Q 2041 2528 2175 2725 \n",
       "Q 2356 2997 2356 3263 \n",
       "Q 2356 3556 2198 3714 \n",
       "Q 2041 3872 1763 3872 \n",
       "Q 1488 3872 1325 3706 \n",
       "Q 1163 3541 1138 3156 \n",
       "L 263 3244 \n",
       "Q 341 3969 753 4284 \n",
       "Q 1166 4600 1784 4600 \n",
       "Q 2463 4600 2850 4234 \n",
       "Q 3238 3869 3238 3325 \n",
       "Q 3238 3016 3127 2736 \n",
       "Q 3016 2456 2775 2150 \n",
       "Q 2616 1947 2200 1565 \n",
       "Q 1784 1184 1673 1059 \n",
       "Q 1563 934 1494 816 \n",
       "L 3238 816 \n",
       "z\n",
       "\" transform=\"scale(0.015625)\"/>\n",
       "      </defs>\n",
       "      <use xlink:href=\"#Arial-BoldMT-32\"/>\n",
       "     </g>\n",
       "    </g>\n",
       "   </g>\n",
       "   <g id=\"text_3\">\n",
       "    <g clip-path=\"url(#pe9b7030631)\">\n",
       "     <!-- 3 -->\n",
       "     <g style=\"fill: #ffffff\" transform=\"translate(53.012768 42.327951) scale(0.15 -0.15)\">\n",
       "      <defs>\n",
       "       <path id=\"Arial-BoldMT-33\" d=\"M 241 1216 \n",
       "L 1091 1319 \n",
       "Q 1131 994 1309 822 \n",
       "Q 1488 650 1741 650 \n",
       "Q 2013 650 2198 856 \n",
       "Q 2384 1063 2384 1413 \n",
       "Q 2384 1744 2206 1937 \n",
       "Q 2028 2131 1772 2131 \n",
       "Q 1603 2131 1369 2066 \n",
       "L 1466 2781 \n",
       "Q 1822 2772 2009 2936 \n",
       "Q 2197 3100 2197 3372 \n",
       "Q 2197 3603 2059 3740 \n",
       "Q 1922 3878 1694 3878 \n",
       "Q 1469 3878 1309 3722 \n",
       "Q 1150 3566 1116 3266 \n",
       "L 306 3403 \n",
       "Q 391 3819 561 4067 \n",
       "Q 731 4316 1036 4458 \n",
       "Q 1341 4600 1719 4600 \n",
       "Q 2366 4600 2756 4188 \n",
       "Q 3078 3850 3078 3425 \n",
       "Q 3078 2822 2419 2463 \n",
       "Q 2813 2378 3048 2084 \n",
       "Q 3284 1791 3284 1375 \n",
       "Q 3284 772 2843 347 \n",
       "Q 2403 -78 1747 -78 \n",
       "Q 1125 -78 715 280 \n",
       "Q 306 638 241 1216 \n",
       "z\n",
       "\" transform=\"scale(0.015625)\"/>\n",
       "      </defs>\n",
       "      <use xlink:href=\"#Arial-BoldMT-33\"/>\n",
       "     </g>\n",
       "    </g>\n",
       "   </g>\n",
       "   <g id=\"text_4\">\n",
       "    <g clip-path=\"url(#pe9b7030631)\">\n",
       "     <!-- 4 -->\n",
       "     <g style=\"fill: #ffffff\" transform=\"translate(529.045826 176.675308) scale(0.15 -0.15)\">\n",
       "      <defs>\n",
       "       <path id=\"Arial-BoldMT-34\" d=\"M 1994 0 \n",
       "L 1994 922 \n",
       "L 119 922 \n",
       "L 119 1691 \n",
       "L 2106 4600 \n",
       "L 2844 4600 \n",
       "L 2844 1694 \n",
       "L 3413 1694 \n",
       "L 3413 922 \n",
       "L 2844 922 \n",
       "L 2844 0 \n",
       "L 1994 0 \n",
       "z\n",
       "M 1994 1694 \n",
       "L 1994 3259 \n",
       "L 941 1694 \n",
       "L 1994 1694 \n",
       "z\n",
       "\" transform=\"scale(0.015625)\"/>\n",
       "      </defs>\n",
       "      <use xlink:href=\"#Arial-BoldMT-34\"/>\n",
       "     </g>\n",
       "    </g>\n",
       "   </g>\n",
       "   <g id=\"text_5\">\n",
       "    <g clip-path=\"url(#pe9b7030631)\">\n",
       "     <!-- 5 -->\n",
       "     <g style=\"fill: #ffffff\" transform=\"translate(317.182779 59.153523) scale(0.15 -0.15)\">\n",
       "      <defs>\n",
       "       <path id=\"Arial-BoldMT-35\" d=\"M 284 1178 \n",
       "L 1159 1269 \n",
       "Q 1197 972 1381 798 \n",
       "Q 1566 625 1806 625 \n",
       "Q 2081 625 2272 848 \n",
       "Q 2463 1072 2463 1522 \n",
       "Q 2463 1944 2273 2155 \n",
       "Q 2084 2366 1781 2366 \n",
       "Q 1403 2366 1103 2031 \n",
       "L 391 2134 \n",
       "L 841 4519 \n",
       "L 3163 4519 \n",
       "L 3163 3697 \n",
       "L 1506 3697 \n",
       "L 1369 2919 \n",
       "Q 1663 3066 1969 3066 \n",
       "Q 2553 3066 2959 2641 \n",
       "Q 3366 2216 3366 1538 \n",
       "Q 3366 972 3038 528 \n",
       "Q 2591 -78 1797 -78 \n",
       "Q 1163 -78 763 262 \n",
       "Q 363 603 284 1178 \n",
       "z\n",
       "\" transform=\"scale(0.015625)\"/>\n",
       "      </defs>\n",
       "      <use xlink:href=\"#Arial-BoldMT-35\"/>\n",
       "     </g>\n",
       "    </g>\n",
       "   </g>\n",
       "   <g id=\"text_6\">\n",
       "    <g clip-path=\"url(#pe9b7030631)\">\n",
       "     <!-- 6 -->\n",
       "     <g style=\"fill: #ffffff\" transform=\"translate(348.563004 183.332276) scale(0.15 -0.15)\">\n",
       "      <defs>\n",
       "       <path id=\"Arial-BoldMT-36\" d=\"M 3247 3459 \n",
       "L 2397 3366 \n",
       "Q 2366 3628 2234 3753 \n",
       "Q 2103 3878 1894 3878 \n",
       "Q 1616 3878 1423 3628 \n",
       "Q 1231 3378 1181 2588 \n",
       "Q 1509 2975 1997 2975 \n",
       "Q 2547 2975 2939 2556 \n",
       "Q 3331 2138 3331 1475 \n",
       "Q 3331 772 2918 347 \n",
       "Q 2506 -78 1859 -78 \n",
       "Q 1166 -78 719 461 \n",
       "Q 272 1000 272 2228 \n",
       "Q 272 3488 737 4044 \n",
       "Q 1203 4600 1947 4600 \n",
       "Q 2469 4600 2811 4308 \n",
       "Q 3153 4016 3247 3459 \n",
       "z\n",
       "M 1256 1544 \n",
       "Q 1256 1116 1453 883 \n",
       "Q 1650 650 1903 650 \n",
       "Q 2147 650 2309 840 \n",
       "Q 2472 1031 2472 1466 \n",
       "Q 2472 1913 2297 2120 \n",
       "Q 2122 2328 1859 2328 \n",
       "Q 1606 2328 1431 2129 \n",
       "Q 1256 1931 1256 1544 \n",
       "z\n",
       "\" transform=\"scale(0.015625)\"/>\n",
       "      </defs>\n",
       "      <use xlink:href=\"#Arial-BoldMT-36\"/>\n",
       "     </g>\n",
       "    </g>\n",
       "   </g>\n",
       "  </g>\n",
       " </g>\n",
       " <defs>\n",
       "  <clipPath id=\"pe9b7030631\">\n",
       "   <rect x=\"7.2\" y=\"7.2\" width=\"576\" height=\"360\"/>\n",
       "  </clipPath>\n",
       " </defs>\n",
       "</svg>\n"
      ],
      "text/plain": [
       "<Figure size 800x500 with 1 Axes>"
      ]
     },
     "metadata": {},
     "output_type": "display_data"
    }
   ],
   "source": [
    "# Here's another example network, which you can use to test your code.\n",
    "test_net = {1: [6], 2: [1, 3, 4, 6], 3: [2, 5, 6], 4: [1], 5: [1, 2, 6], 6: [2, 4]}\n",
    "print(test_net)\n",
    "test_net_adjacency = create_adjacency(test_net)\n",
    "test_net_scores = compute_scores(test_net_adjacency)\n",
    "plot_from_adjacency(test_net_adjacency, node_sizes=test_net_scores)"
   ]
  },
  {
   "cell_type": "markdown",
   "id": "cee706ae",
   "metadata": {},
   "source": [
    "Great work! You've recreated the magic behind Google. (Does this mean you automatically get a job at Google now? Unfortunately, no...)"
   ]
  },
  {
   "cell_type": "markdown",
   "id": "6bddde45",
   "metadata": {},
   "source": [
    "### Question 3: Sinkholes  <div style=\"display:inline-block; vertical-align: middle; padding:7px 7px; font-size:10px; font-weight:light; color:white; background-color:#e84c4a; border-radius:7px; text-align:left;\">2 Points</div>\n",
    "\n",
    "Let's wrap up this part of the homework with a puzzle. Consider the following network:"
   ]
  },
  {
   "cell_type": "code",
   "execution_count": 43,
   "id": "b3868d44",
   "metadata": {},
   "outputs": [],
   "source": [
    "weird_net = {\n",
    "    1: [1],\n",
    "    2: [1, 3, 5],\n",
    "    3: [2, 4],\n",
    "    4: [1, 2, 3],\n",
    "    5: [3]\n",
    "}"
   ]
  },
  {
   "cell_type": "markdown",
   "id": "4721366b",
   "metadata": {},
   "source": [
    "Note that Page 1 links to itself and to no other pages. Practically speaking, we can interpret Page 1 as being a \"dead end\" or \"sinkhole\", with no outgoing links.\n",
    "\n",
    "Run the cells below to compute the adjacency matrix and scores for the above network and to visualize it."
   ]
  },
  {
   "cell_type": "code",
   "execution_count": 44,
   "id": "222f0065",
   "metadata": {},
   "outputs": [
    {
     "name": "stdout",
     "output_type": "stream",
     "text": [
      "[9.99999887e-01 3.43829296e-08 4.05132392e-08 2.45030448e-08\n",
      " 1.38635581e-08]\n"
     ]
    },
    {
     "data": {
      "image/svg+xml": [
       "<?xml version=\"1.0\" encoding=\"utf-8\" standalone=\"no\"?>\n",
       "<!DOCTYPE svg PUBLIC \"-//W3C//DTD SVG 1.1//EN\"\n",
       "  \"http://www.w3.org/Graphics/SVG/1.1/DTD/svg11.dtd\">\n",
       "<svg xmlns:xlink=\"http://www.w3.org/1999/xlink\" width=\"590.4pt\" height=\"374.4pt\" viewBox=\"0 0 590.4 374.4\" xmlns=\"http://www.w3.org/2000/svg\" version=\"1.1\">\n",
       " <metadata>\n",
       "  <rdf:RDF xmlns:dc=\"http://purl.org/dc/elements/1.1/\" xmlns:cc=\"http://creativecommons.org/ns#\" xmlns:rdf=\"http://www.w3.org/1999/02/22-rdf-syntax-ns#\">\n",
       "   <cc:Work>\n",
       "    <dc:type rdf:resource=\"http://purl.org/dc/dcmitype/StillImage\"/>\n",
       "    <dc:date>2024-09-12T23:05:45.139697</dc:date>\n",
       "    <dc:format>image/svg+xml</dc:format>\n",
       "    <dc:creator>\n",
       "     <cc:Agent>\n",
       "      <dc:title>Matplotlib v3.9.2, https://matplotlib.org/</dc:title>\n",
       "     </cc:Agent>\n",
       "    </dc:creator>\n",
       "   </cc:Work>\n",
       "  </rdf:RDF>\n",
       " </metadata>\n",
       " <defs>\n",
       "  <style type=\"text/css\">*{stroke-linejoin: round; stroke-linecap: butt}</style>\n",
       " </defs>\n",
       " <g id=\"figure_1\">\n",
       "  <g id=\"patch_1\">\n",
       "   <path d=\"M 0 374.4 \n",
       "L 590.4 374.4 \n",
       "L 590.4 -0 \n",
       "L 0 -0 \n",
       "z\n",
       "\" style=\"fill: #ffffff\"/>\n",
       "  </g>\n",
       "  <g id=\"axes_1\">\n",
       "   <g id=\"patch_2\">\n",
       "    <path d=\"M 532.095348 24.144353 \n",
       "C 565.325793 24.144353 565.325793 52.552354 532.095348 52.552354 \n",
       "C 498.864903 52.552354 498.864903 24.144353 530.977314 24.144353 \n",
       "\" clip-path=\"url(#pe56b64d5ef)\" style=\"fill: none; stroke: #000000; stroke-linecap: round\"/>\n",
       "    <path d=\"M 526.977314 22.144353 \n",
       "L 530.977314 24.144353 \n",
       "L 526.977314 26.144353 \n",
       "z\n",
       "\" clip-path=\"url(#pe56b64d5ef)\" style=\"stroke: #000000; stroke-linecap: round\"/>\n",
       "   </g>\n",
       "   <g id=\"patch_3\">\n",
       "    <path d=\"M 193.618954 176.389688 \n",
       "Q 344.801365 153.022226 477.833277 83.269662 \n",
       "\" clip-path=\"url(#pe56b64d5ef)\" style=\"fill: none; stroke: #000000; stroke-linecap: round\"/>\n",
       "    <path d=\"M 473.361971 83.355851 \n",
       "L 477.833277 83.269662 \n",
       "L 475.219445 86.89842 \n",
       "z\n",
       "\" clip-path=\"url(#pe56b64d5ef)\" style=\"stroke: #000000; stroke-linecap: round\"/>\n",
       "   </g>\n",
       "   <g id=\"patch_4\">\n",
       "    <path d=\"M 193.608133 176.405496 \n",
       "Q 203.555723 221.170118 229.307332 257.754161 \n",
       "\" clip-path=\"url(#pe56b64d5ef)\" style=\"fill: none; stroke: #000000; stroke-linecap: round\"/>\n",
       "    <path d=\"M 228.640383 253.332038 \n",
       "L 229.307332 257.754161 \n",
       "L 225.369464 255.634447 \n",
       "z\n",
       "\" clip-path=\"url(#pe56b64d5ef)\" style=\"stroke: #000000; stroke-linecap: round\"/>\n",
       "   </g>\n",
       "   <g id=\"patch_5\">\n",
       "    <path d=\"M 193.597382 176.397916 \n",
       "Q 109.345002 242.865845 57.678801 335.646983 \n",
       "\" clip-path=\"url(#pe56b64d5ef)\" style=\"fill: none; stroke: #000000; stroke-linecap: round\"/>\n",
       "    <path d=\"M 61.372203 333.125321 \n",
       "L 57.678801 335.646983 \n",
       "L 57.877513 331.179264 \n",
       "z\n",
       "\" clip-path=\"url(#pe56b64d5ef)\" style=\"stroke: #000000; stroke-linecap: round\"/>\n",
       "   </g>\n",
       "   <g id=\"patch_6\">\n",
       "    <path d=\"M 229.955896 258.666191 \n",
       "Q 220.008306 213.901568 194.256696 177.317525 \n",
       "\" clip-path=\"url(#pe56b64d5ef)\" style=\"fill: none; stroke: #000000; stroke-linecap: round\"/>\n",
       "    <path d=\"M 194.923646 181.739649 \n",
       "L 194.256696 177.317525 \n",
       "L 198.194565 179.43724 \n",
       "z\n",
       "\" clip-path=\"url(#pe56b64d5ef)\" style=\"stroke: #000000; stroke-linecap: round\"/>\n",
       "   </g>\n",
       "   <g id=\"patch_7\">\n",
       "    <path d=\"M 229.967805 258.677142 \n",
       "Q 326.872415 229.03626 404.063618 165.120234 \n",
       "\" clip-path=\"url(#pe56b64d5ef)\" style=\"fill: none; stroke: #000000; stroke-linecap: round\"/>\n",
       "    <path d=\"M 399.707167 166.130844 \n",
       "L 404.063618 165.120234 \n",
       "L 402.258235 169.211761 \n",
       "z\n",
       "\" clip-path=\"url(#pe56b64d5ef)\" style=\"stroke: #000000; stroke-linecap: round\"/>\n",
       "   </g>\n",
       "   <g id=\"patch_8\">\n",
       "    <path d=\"M 404.938752 164.397316 \n",
       "Q 452.886881 136.686652 490.838239 99.300594 \n",
       "\" clip-path=\"url(#pe56b64d5ef)\" style=\"fill: none; stroke: #000000; stroke-linecap: round\"/>\n",
       "    <path d=\"M 486.585107 100.682933 \n",
       "L 490.838239 99.300594 \n",
       "L 489.392231 103.532504 \n",
       "z\n",
       "\" clip-path=\"url(#pe56b64d5ef)\" style=\"stroke: #000000; stroke-linecap: round\"/>\n",
       "   </g>\n",
       "   <g id=\"patch_9\">\n",
       "    <path d=\"M 404.922123 164.399886 \n",
       "Q 298.069555 149.265805 194.696806 176.108349 \n",
       "\" clip-path=\"url(#pe56b64d5ef)\" style=\"fill: none; stroke: #000000; stroke-linecap: round\"/>\n",
       "    <path d=\"M 199.071074 177.038821 \n",
       "L 194.696806 176.108349 \n",
       "L 198.065745 173.167217 \n",
       "z\n",
       "\" clip-path=\"url(#pe56b64d5ef)\" style=\"stroke: #000000; stroke-linecap: round\"/>\n",
       "   </g>\n",
       "   <g id=\"patch_10\">\n",
       "    <path d=\"M 404.923034 164.403986 \n",
       "Q 308.018424 194.044868 230.827221 257.960894 \n",
       "\" clip-path=\"url(#pe56b64d5ef)\" style=\"fill: none; stroke: #000000; stroke-linecap: round\"/>\n",
       "    <path d=\"M 235.183672 256.950284 \n",
       "L 230.827221 257.960894 \n",
       "L 232.632604 253.869367 \n",
       "z\n",
       "\" clip-path=\"url(#pe56b64d5ef)\" style=\"stroke: #000000; stroke-linecap: round\"/>\n",
       "   </g>\n",
       "   <g id=\"patch_11\">\n",
       "    <path d=\"M 57.138707 336.630377 \n",
       "Q 151.336169 314.938074 229.037697 259.339043 \n",
       "\" clip-path=\"url(#pe56b64d5ef)\" style=\"fill: none; stroke: #000000; stroke-linecap: round\"/>\n",
       "    <path d=\"M 224.62087 260.040213 \n",
       "L 229.037697 259.339043 \n",
       "L 226.948537 263.293206 \n",
       "z\n",
       "\" clip-path=\"url(#pe56b64d5ef)\" style=\"stroke: #000000; stroke-linecap: round\"/>\n",
       "   </g>\n",
       "   <g id=\"PathCollection_1\">\n",
       "    <path d=\"M 532.095348 113.789594 \n",
       "C 548.335654 113.789594 563.912985 107.337252 575.396616 95.853622 \n",
       "C 586.880246 84.369991 593.332588 68.79266 593.332588 52.552354 \n",
       "C 593.332588 36.312048 586.880246 20.734717 575.396616 9.251086 \n",
       "C 563.912985 -2.232544 548.335654 -8.684886 532.095348 -8.684886 \n",
       "C 515.855042 -8.684886 500.277711 -2.232544 488.79408 9.251086 \n",
       "C 477.31045 20.734717 470.858108 36.312048 470.858108 52.552354 \n",
       "C 470.858108 68.79266 477.31045 84.369991 488.79408 95.853622 \n",
       "C 500.277711 107.337252 515.855042 113.789594 532.095348 113.789594 \n",
       "z\n",
       "\" clip-path=\"url(#pe56b64d5ef)\" style=\"fill: #1f78b4; stroke: #1f78b4; stroke-width: 2\"/>\n",
       "    <path d=\"M 193.605096 176.403185 \n",
       "C 193.608108 176.403185 193.610996 176.401989 193.613126 176.399859 \n",
       "C 193.615255 176.39773 193.616451 176.394842 193.616451 176.39183 \n",
       "C 193.616451 176.388819 193.615255 176.38593 193.613126 176.383801 \n",
       "C 193.610996 176.381672 193.608108 176.380475 193.605096 176.380475 \n",
       "C 193.602085 176.380475 193.599197 176.381672 193.597067 176.383801 \n",
       "C 193.594938 176.38593 193.593741 176.388819 193.593741 176.39183 \n",
       "C 193.593741 176.394842 193.594938 176.39773 193.597067 176.399859 \n",
       "C 193.599197 176.401989 193.602085 176.403185 193.605096 176.403185 \n",
       "z\n",
       "\" clip-path=\"url(#pe56b64d5ef)\" style=\"fill: #1f78b4; stroke: #1f78b4; stroke-width: 2\"/>\n",
       "    <path d=\"M 229.958932 258.692182 \n",
       "C 229.962201 258.692182 229.965336 258.690883 229.967648 258.688572 \n",
       "C 229.969959 258.68626 229.971258 258.683125 229.971258 258.679856 \n",
       "C 229.971258 258.676587 229.969959 258.673452 229.967648 258.67114 \n",
       "C 229.965336 258.668829 229.962201 258.66753 229.958932 258.66753 \n",
       "C 229.955663 258.66753 229.952528 258.668829 229.950216 258.67114 \n",
       "C 229.947905 258.673452 229.946606 258.676587 229.946606 258.679856 \n",
       "C 229.946606 258.683125 229.947905 258.68626 229.950216 258.688572 \n",
       "C 229.952528 258.690883 229.955663 258.692182 229.958932 258.692182 \n",
       "z\n",
       "\" clip-path=\"url(#pe56b64d5ef)\" style=\"fill: #1f78b4; stroke: #1f78b4; stroke-width: 2\"/>\n",
       "    <path d=\"M 404.931907 164.410858 \n",
       "C 404.934449 164.410858 404.936887 164.409848 404.938685 164.40805 \n",
       "C 404.940483 164.406252 404.941493 164.403814 404.941493 164.401272 \n",
       "C 404.941493 164.39873 404.940483 164.396291 404.938685 164.394494 \n",
       "C 404.936887 164.392696 404.934449 164.391686 404.931907 164.391686 \n",
       "C 404.929365 164.391686 404.926926 164.392696 404.925129 164.394494 \n",
       "C 404.923331 164.396291 404.922321 164.39873 404.922321 164.401272 \n",
       "C 404.922321 164.403814 404.923331 164.406252 404.925129 164.40805 \n",
       "C 404.926926 164.409848 404.929365 164.410858 404.931907 164.410858 \n",
       "z\n",
       "\" clip-path=\"url(#pe56b64d5ef)\" style=\"fill: #1f78b4; stroke: #1f78b4; stroke-width: 2\"/>\n",
       "    <path d=\"M 57.130081 336.639573 \n",
       "C 57.131994 336.639573 57.133828 336.638814 57.13518 336.637462 \n",
       "C 57.136532 336.63611 57.137292 336.634275 57.137292 336.632363 \n",
       "C 57.137292 336.630451 57.136532 336.628617 57.13518 336.627265 \n",
       "C 57.133828 336.625913 57.131994 336.625153 57.130081 336.625153 \n",
       "C 57.128169 336.625153 57.126335 336.625913 57.124983 336.627265 \n",
       "C 57.123631 336.628617 57.122871 336.630451 57.122871 336.632363 \n",
       "C 57.122871 336.634275 57.123631 336.63611 57.124983 336.637462 \n",
       "C 57.126335 336.638814 57.128169 336.639573 57.130081 336.639573 \n",
       "z\n",
       "\" clip-path=\"url(#pe56b64d5ef)\" style=\"fill: #1f78b4; stroke: #1f78b4; stroke-width: 2\"/>\n",
       "   </g>\n",
       "   <g id=\"text_1\">\n",
       "    <g clip-path=\"url(#pe56b64d5ef)\">\n",
       "     <!-- 1 -->\n",
       "     <g style=\"fill: #ffffff\" transform=\"translate(527.924645 56.440635) scale(0.15 -0.15)\">\n",
       "      <defs>\n",
       "       <path id=\"Arial-BoldMT-31\" d=\"M 2519 0 \n",
       "L 1641 0 \n",
       "L 1641 3309 \n",
       "Q 1159 2859 506 2644 \n",
       "L 506 3441 \n",
       "Q 850 3553 1253 3867 \n",
       "Q 1656 4181 1806 4600 \n",
       "L 2519 4600 \n",
       "L 2519 0 \n",
       "z\n",
       "\" transform=\"scale(0.015625)\"/>\n",
       "      </defs>\n",
       "      <use xlink:href=\"#Arial-BoldMT-31\"/>\n",
       "     </g>\n",
       "    </g>\n",
       "   </g>\n",
       "   <g id=\"text_2\">\n",
       "    <g clip-path=\"url(#pe56b64d5ef)\">\n",
       "     <!-- 2 -->\n",
       "     <g style=\"fill: #ffffff\" transform=\"translate(189.434393 180.280111) scale(0.15 -0.15)\">\n",
       "      <defs>\n",
       "       <path id=\"Arial-BoldMT-32\" d=\"M 3238 816 \n",
       "L 3238 0 \n",
       "L 159 0 \n",
       "Q 209 463 459 877 \n",
       "Q 709 1291 1447 1975 \n",
       "Q 2041 2528 2175 2725 \n",
       "Q 2356 2997 2356 3263 \n",
       "Q 2356 3556 2198 3714 \n",
       "Q 2041 3872 1763 3872 \n",
       "Q 1488 3872 1325 3706 \n",
       "Q 1163 3541 1138 3156 \n",
       "L 263 3244 \n",
       "Q 341 3969 753 4284 \n",
       "Q 1166 4600 1784 4600 \n",
       "Q 2463 4600 2850 4234 \n",
       "Q 3238 3869 3238 3325 \n",
       "Q 3238 3016 3127 2736 \n",
       "Q 3016 2456 2775 2150 \n",
       "Q 2616 1947 2200 1565 \n",
       "Q 1784 1184 1673 1059 \n",
       "Q 1563 934 1494 816 \n",
       "L 3238 816 \n",
       "z\n",
       "\" transform=\"scale(0.015625)\"/>\n",
       "      </defs>\n",
       "      <use xlink:href=\"#Arial-BoldMT-32\"/>\n",
       "     </g>\n",
       "    </g>\n",
       "   </g>\n",
       "   <g id=\"text_3\">\n",
       "    <g clip-path=\"url(#pe56b64d5ef)\">\n",
       "     <!-- 3 -->\n",
       "     <g style=\"fill: #ffffff\" transform=\"translate(225.788229 262.568137) scale(0.15 -0.15)\">\n",
       "      <defs>\n",
       "       <path id=\"Arial-BoldMT-33\" d=\"M 241 1216 \n",
       "L 1091 1319 \n",
       "Q 1131 994 1309 822 \n",
       "Q 1488 650 1741 650 \n",
       "Q 2013 650 2198 856 \n",
       "Q 2384 1063 2384 1413 \n",
       "Q 2384 1744 2206 1937 \n",
       "Q 2028 2131 1772 2131 \n",
       "Q 1603 2131 1369 2066 \n",
       "L 1466 2781 \n",
       "Q 1822 2772 2009 2936 \n",
       "Q 2197 3100 2197 3372 \n",
       "Q 2197 3603 2059 3740 \n",
       "Q 1922 3878 1694 3878 \n",
       "Q 1469 3878 1309 3722 \n",
       "Q 1150 3566 1116 3266 \n",
       "L 306 3403 \n",
       "Q 391 3819 561 4067 \n",
       "Q 731 4316 1036 4458 \n",
       "Q 1341 4600 1719 4600 \n",
       "Q 2366 4600 2756 4188 \n",
       "Q 3078 3850 3078 3425 \n",
       "Q 3078 2822 2419 2463 \n",
       "Q 2813 2378 3048 2084 \n",
       "Q 3284 1791 3284 1375 \n",
       "Q 3284 772 2843 347 \n",
       "Q 2403 -78 1747 -78 \n",
       "Q 1125 -78 715 280 \n",
       "Q 306 638 241 1216 \n",
       "z\n",
       "\" transform=\"scale(0.015625)\"/>\n",
       "      </defs>\n",
       "      <use xlink:href=\"#Arial-BoldMT-33\"/>\n",
       "     </g>\n",
       "    </g>\n",
       "   </g>\n",
       "   <g id=\"text_4\">\n",
       "    <g clip-path=\"url(#pe56b64d5ef)\">\n",
       "     <!-- 4 -->\n",
       "     <g style=\"fill: #ffffff\" transform=\"translate(400.761204 168.289553) scale(0.15 -0.15)\">\n",
       "      <defs>\n",
       "       <path id=\"Arial-BoldMT-34\" d=\"M 1994 0 \n",
       "L 1994 922 \n",
       "L 119 922 \n",
       "L 119 1691 \n",
       "L 2106 4600 \n",
       "L 2844 4600 \n",
       "L 2844 1694 \n",
       "L 3413 1694 \n",
       "L 3413 922 \n",
       "L 2844 922 \n",
       "L 2844 0 \n",
       "L 1994 0 \n",
       "z\n",
       "M 1994 1694 \n",
       "L 1994 3259 \n",
       "L 941 1694 \n",
       "L 1994 1694 \n",
       "z\n",
       "\" transform=\"scale(0.015625)\"/>\n",
       "      </defs>\n",
       "      <use xlink:href=\"#Arial-BoldMT-34\"/>\n",
       "     </g>\n",
       "    </g>\n",
       "   </g>\n",
       "   <g id=\"text_5\">\n",
       "    <g clip-path=\"url(#pe56b64d5ef)\">\n",
       "     <!-- 5 -->\n",
       "     <g style=\"fill: #ffffff\" transform=\"translate(52.959378 340.520644) scale(0.15 -0.15)\">\n",
       "      <defs>\n",
       "       <path id=\"Arial-BoldMT-35\" d=\"M 284 1178 \n",
       "L 1159 1269 \n",
       "Q 1197 972 1381 798 \n",
       "Q 1566 625 1806 625 \n",
       "Q 2081 625 2272 848 \n",
       "Q 2463 1072 2463 1522 \n",
       "Q 2463 1944 2273 2155 \n",
       "Q 2084 2366 1781 2366 \n",
       "Q 1403 2366 1103 2031 \n",
       "L 391 2134 \n",
       "L 841 4519 \n",
       "L 3163 4519 \n",
       "L 3163 3697 \n",
       "L 1506 3697 \n",
       "L 1369 2919 \n",
       "Q 1663 3066 1969 3066 \n",
       "Q 2553 3066 2959 2641 \n",
       "Q 3366 2216 3366 1538 \n",
       "Q 3366 972 3038 528 \n",
       "Q 2591 -78 1797 -78 \n",
       "Q 1163 -78 763 262 \n",
       "Q 363 603 284 1178 \n",
       "z\n",
       "\" transform=\"scale(0.015625)\"/>\n",
       "      </defs>\n",
       "      <use xlink:href=\"#Arial-BoldMT-35\"/>\n",
       "     </g>\n",
       "    </g>\n",
       "   </g>\n",
       "  </g>\n",
       " </g>\n",
       " <defs>\n",
       "  <clipPath id=\"pe56b64d5ef\">\n",
       "   <rect x=\"7.2\" y=\"7.2\" width=\"576\" height=\"360\"/>\n",
       "  </clipPath>\n",
       " </defs>\n",
       "</svg>\n"
      ],
      "text/plain": [
       "<Figure size 800x500 with 1 Axes>"
      ]
     },
     "metadata": {},
     "output_type": "display_data"
    }
   ],
   "source": [
    "weird_matrix = create_adjacency(weird_net)\n",
    "weird_scores = compute_scores(weird_matrix)\n",
    "print(weird_scores)\n",
    "plot_from_adjacency(weird_matrix, node_sizes=weird_scores)"
   ]
  },
  {
   "cell_type": "markdown",
   "id": "522c6771",
   "metadata": {},
   "source": [
    "<!-- BEGIN QUESTION -->\n",
    "\n",
    "It appears that Page 1's score is 1, and all of the other pages' scores are 0! (`9.6409e-10` means $9.64 \\cdot 10^{-10}$, which is a really, really small number.)\n",
    "\n",
    "<span style=\"color:red\"><b>In the cell below, write your answers to the following two _manually-graded_ prompts.</b></span>\n",
    "\n",
    "- Why do you think Page 1's score is so high, and the other pages' scores are so low? (***Hint:*** Think about how we interpret the score of a page.)\n",
    "\n",
    "\tThis is because of the fact that Page 1 is a dead end. Thus, the score accumulates at Page 1 and does not ever end up being distributed to the other pages.\n",
    "\n",
    "- Read the [Damping factor](https://en.wikipedia.org/wiki/PageRank#Damping_factor) section of the Wikipedia article on PageRank. In two sentences, describe (to the best of your ability) how using damping would prevent the score of Page 1 from becoming 1. (If you read the article closely, the answer is there – describe it in your own words.)\n",
    "\n",
    "\tThe damping factor ensures that even if the surfer lands on Page 1, there's still a significant percent chance that it will jump out. This means that the score will not accumulate at Page 1, preventing the effect we saw earlier."
   ]
  },
  {
   "cell_type": "markdown",
   "id": "05c5780a",
   "metadata": {},
   "source": [
    "_Type your answer here, replacing this text._"
   ]
  },
  {
   "cell_type": "markdown",
   "id": "5cdb56c9",
   "metadata": {},
   "source": [
    "<!-- END QUESTION -->\n",
    "\n",
    "## Part 2: Euchre Returns! 🃏\n",
    "\n",
    "---\n",
    "\n",
    "In this part of the homework, we'll practice simulating various probabilities in the context of the popular card game, [Euchre](https://www.wikihow.com/Play-Euchre)!\n",
    "\n",
    "Euchre, as you may have seen in EECS 280, is a 4-player card game, in which the players are named Player 0, Player 1, Player 2, and Player 3. Euchre is played with a deck of **24 cards**. Each card has two attributes:\n",
    "- a **suit**, which is either hearts (<span style=\"color:red\">❤️</span>), diamonds (<span style=\"color:red\">♦️</span>), clubs (♣), or spades (♠).\n",
    "- a **face value**, which is either 9, 10, Jack (J), Queen (Q), King (K), or Ace (A).\n",
    "\n",
    "The full deck of 24 cards is shown below.\n",
    "\n",
    "<div align=\"center\">\n",
    "\n",
    "<span style=\"color:red\">❤️: 9, 10, J, Q, K, A</span><br>\n",
    "<span style=\"color:red\">♦️: 9, 10, J, Q, K, A</span><br>\n",
    "<span style=\"color:black\">♣: 9, 10, J, Q, K, A</span><br>\n",
    "<span style=\"color:black\">♠: 9, 10, J, Q, K, A</span><br>\n",
    "\n",
    "</center>\n",
    "\n",
    "The 24 cards are all different. The list `deck`, defined below, represents our deck of 24 cards. Each element in deck is a string representing a card, in the format `'{face} {suit}'`.\n",
    "\n",
    "Note that you don't need to know how Euchre is played, beyond what is explained above, to work on the following question. (Suraj has never played Euchre before – he's never taken EECS 280 either!)"
   ]
  },
  {
   "cell_type": "code",
   "execution_count": 45,
   "id": "2ec96b5b",
   "metadata": {},
   "outputs": [
    {
     "data": {
      "text/plain": [
       "['9 Hearts',\n",
       " '10 Hearts',\n",
       " 'J Hearts',\n",
       " 'Q Hearts',\n",
       " 'K Hearts',\n",
       " 'A Hearts',\n",
       " '9 Diamonds',\n",
       " '10 Diamonds',\n",
       " 'J Diamonds',\n",
       " 'Q Diamonds',\n",
       " 'K Diamonds',\n",
       " 'A Diamonds',\n",
       " '9 Clubs',\n",
       " '10 Clubs',\n",
       " 'J Clubs',\n",
       " 'Q Clubs',\n",
       " 'K Clubs',\n",
       " 'A Clubs',\n",
       " '9 Spades',\n",
       " '10 Spades',\n",
       " 'J Spades',\n",
       " 'Q Spades',\n",
       " 'K Spades',\n",
       " 'A Spades']"
      ]
     },
     "execution_count": 45,
     "metadata": {},
     "output_type": "execute_result"
    }
   ],
   "source": [
    "# Do NOT edit this cell!\n",
    "# In our hidden tests, we will assume deck is defined exactly as below.\n",
    "suits = ['Hearts', 'Diamonds', 'Clubs', 'Spades']\n",
    "faces = ['9', '10', 'J', 'Q', 'K', 'A']\n",
    "deck = [f'{face} {suit}' for suit in suits for face in faces]\n",
    "deck"
   ]
  },
  {
   "cell_type": "markdown",
   "id": "3383c4de",
   "metadata": {},
   "source": [
    "At the start of a round of Euchre, the 24 cards are randomly distributed to the 4 players such that each player gets 5 cards, and the remaining 4 cards ($24 - 5 \\cdot 4 = 4$) are put to the side. \n",
    "\n",
    "You should use functions built into `np.random` to simulate the act of shuffling and distributing cards. You may find `np.random.choice` and `np.random.permutation` to be useful, but be careful about the arguments you provide and the assumptions they make. You're free to define helper functions to use throughout your work, too – **we did this ourselves** – and you'll need to research various string, list, array, and `np.random` functions and methods to get this all to work.\n",
    "\n",
    "Your answers will be (very) slightly different than those of your peers, and slightly different each time you run your notebook, due to randomness. This is expected, and our autograder tests will account for this. **Don't** work out the math by hand – that isn't the point of these questions, rather the point is to build your fluency in simulating."
   ]
  },
  {
   "cell_type": "markdown",
   "id": "dc3d0ef5",
   "metadata": {},
   "source": [
    "### Question 4: At Least $k$ Same Suit  <div style=\"display:inline-block; vertical-align: middle; padding:7px 7px; font-size:10px; font-weight:light; color:white; background-color:#e84c4a; border-radius:7px; text-align:left;\">5 Points</div>\n",
    "\n",
    "Complete the implementation of the function `prob_at_least_k_same_suit`, which takes in an integer `k` and returns a simulated estimate of the **probability that Player 0 ends up with at least $k$ cards of the same suit**. Remember, the 24 cards in the Euchre deck (`deck`) are distributed such that Player 0, Player 1, Player 2, and Player 3 each receive 5 cards, and 4 cards are put to the side.\n",
    "\n",
    "Example behavior is given below.\n",
    "\n",
    "```python\n",
    ">>> prob_at_least_k_same_suit(4)\n",
    "0.02693\n",
    "\n",
    "# Each time we call prob_at_least_k_same_suit with the same input,\n",
    "# we should see a slightly different result.\n",
    ">>> prob_at_least_k_same_suit(4)\n",
    "0.02591\n",
    "```\n",
    "\n",
    "Some extra guidance:\n",
    "- Use 100,000 repetitions in your simulation.\n",
    "- If `k` is negative or `0`, return `0`. If `k` is greater than the number of cards given to Player 0, return `0`. (Note that there are some values of `k` for which you'll always end up returning `1` – it's useful to think about which values of `k` these are. Think back to the pigeonhole principle from EECS 203!)\n",
    "- Look at the default `replace` argument in `np.random.choice` – you may need to set this to something else."
   ]
  },
  {
   "cell_type": "code",
   "execution_count": 48,
   "id": "99748876",
   "metadata": {
    "tags": []
   },
   "outputs": [
    {
     "data": {
      "text/plain": [
       "0.02564"
      ]
     },
     "execution_count": 48,
     "metadata": {},
     "output_type": "execute_result"
    }
   ],
   "source": [
    "def prob_at_least_k_same_suit(k):\n",
    "    count = 0\n",
    "    reps = 100000\n",
    "\n",
    "    for _ in range(reps):\n",
    "        player_0_hand = np.random.choice(deck, 5, replace=False)\n",
    "        suit_counts = {suit: 0 for suit in suits}\n",
    "\n",
    "        for card in player_0_hand:\n",
    "            suit = card.split()[1]\n",
    "            suit_counts[suit] += 1\n",
    "\n",
    "        if any(count >= k for count in suit_counts.values()):\n",
    "            count += 1\n",
    "\n",
    "    return count / reps\n",
    "\n",
    "\n",
    "# Feel free to change this input to make sure your function works correctly.\n",
    "# Each time you run this cell, you should see a slightly different result!\n",
    "prob_at_least_k_same_suit(4)"
   ]
  },
  {
   "cell_type": "code",
   "execution_count": 49,
   "id": "8834df06",
   "metadata": {
    "deletable": false,
    "editable": false
   },
   "outputs": [
    {
     "data": {
      "text/html": [
       "<p><strong><pre style='display: inline;'>q04</pre></strong> passed!</p>"
      ],
      "text/plain": [
       "q04 results: All test cases passed!"
      ]
     },
     "execution_count": 49,
     "metadata": {},
     "output_type": "execute_result"
    }
   ],
   "source": [
    "grader.check(\"q04\")"
   ]
  },
  {
   "cell_type": "markdown",
   "id": "b146b0b2",
   "metadata": {},
   "source": [
    "### Question 5: Evenly Distributed Jacks  <div style=\"display:inline-block; vertical-align: middle; padding:7px 7px; font-size:10px; font-weight:light; color:white; background-color:#e84c4a; border-radius:7px; text-align:left;\">5 Points</div>\n",
    "\n",
    "Complete the implementation of the function `prob_all_one_jack`, which takes no arguments and returns a simulated estimate of the **probability that each player ends up with exactly one Jack (J)**.\n",
    "\n",
    "Again, use 100,000 repetitions in your simulation."
   ]
  },
  {
   "cell_type": "code",
   "execution_count": 51,
   "id": "5943ae5f",
   "metadata": {
    "tags": []
   },
   "outputs": [
    {
     "data": {
      "text/plain": [
       "0.05953"
      ]
     },
     "execution_count": 51,
     "metadata": {},
     "output_type": "execute_result"
    }
   ],
   "source": [
    "def prob_all_one_jack():\n",
    "    count = 0\n",
    "    reps = 100000\n",
    "\n",
    "    for _ in range(reps):\n",
    "        np.random.shuffle(deck)\n",
    "        player_hands = [deck[i * 5 : (i + 1) * 5] for i in range(4)]\n",
    "\n",
    "        if all(any(card.split()[0] == 'J' for card in hand) for hand in player_hands):\n",
    "            count += 1\n",
    "\n",
    "    return count / reps\n",
    "\n",
    "# Each time you run this cell, you should see a slightly different result!\n",
    "prob_all_one_jack()"
   ]
  },
  {
   "cell_type": "code",
   "execution_count": 52,
   "id": "bca39cef",
   "metadata": {
    "deletable": false,
    "editable": false
   },
   "outputs": [
    {
     "data": {
      "text/html": [
       "<p><strong><pre style='display: inline;'>q05</pre></strong> passed!</p>"
      ],
      "text/plain": [
       "q05 results: All test cases passed!"
      ]
     },
     "execution_count": 52,
     "metadata": {},
     "output_type": "execute_result"
    }
   ],
   "source": [
    "grader.check(\"q05\")"
   ]
  },
  {
   "cell_type": "markdown",
   "id": "cf6c17bc",
   "metadata": {},
   "source": [
    "## Part 3: Movies 🎥\n",
    "\n",
    "---\n",
    "\n",
    "In this final part of the homework, we'll build our skills in working with DataFrames in `pandas`.\n"
   ]
  },
  {
   "cell_type": "markdown",
   "id": "51ea2eb2",
   "metadata": {},
   "source": [
    "Run the cell below to load in a dataset with information about various movies from [IMDb](https://www.imdb.com/), the Internet Movie Database. (The dataset comes from [Kaggle](https://www.kaggle.com/datasets/parthdande/imdb-dataset-2024-updated))."
   ]
  },
  {
   "cell_type": "code",
   "execution_count": 53,
   "id": "c0ef630e",
   "metadata": {},
   "outputs": [
    {
     "data": {
      "text/html": [
       "<div>\n",
       "<style scoped>\n",
       "    .dataframe tbody tr th:only-of-type {\n",
       "        vertical-align: middle;\n",
       "    }\n",
       "\n",
       "    .dataframe tbody tr th {\n",
       "        vertical-align: top;\n",
       "    }\n",
       "\n",
       "    .dataframe thead th {\n",
       "        text-align: right;\n",
       "    }\n",
       "</style>\n",
       "<table border=\"1\" class=\"dataframe\">\n",
       "  <thead>\n",
       "    <tr style=\"text-align: right;\">\n",
       "      <th></th>\n",
       "      <th>Title</th>\n",
       "      <th>Year</th>\n",
       "      <th>IMDb Rating</th>\n",
       "      <th>Certificates</th>\n",
       "      <th>Genre</th>\n",
       "      <th>Director</th>\n",
       "      <th>Star Cast</th>\n",
       "      <th>MetaScore</th>\n",
       "      <th>Duration (minutes)</th>\n",
       "    </tr>\n",
       "  </thead>\n",
       "  <tbody>\n",
       "    <tr>\n",
       "      <th>0</th>\n",
       "      <td>10 Things I Hate About You</td>\n",
       "      <td>1999</td>\n",
       "      <td>7.3</td>\n",
       "      <td>PG-13</td>\n",
       "      <td>Comedy</td>\n",
       "      <td>Gil Junger</td>\n",
       "      <td>Heath LedgerJulia StilesJoseph Gordon-Levitt</td>\n",
       "      <td>70.0</td>\n",
       "      <td>97.0</td>\n",
       "    </tr>\n",
       "    <tr>\n",
       "      <th>1</th>\n",
       "      <td>12 Angry Men</td>\n",
       "      <td>1957</td>\n",
       "      <td>9.0</td>\n",
       "      <td>Approved</td>\n",
       "      <td>Crime</td>\n",
       "      <td>Sidney Lumet</td>\n",
       "      <td>Reginald Rose</td>\n",
       "      <td>97.0</td>\n",
       "      <td>96.0</td>\n",
       "    </tr>\n",
       "    <tr>\n",
       "      <th>2</th>\n",
       "      <td>28 Days Later</td>\n",
       "      <td>2002</td>\n",
       "      <td>7.5</td>\n",
       "      <td>R</td>\n",
       "      <td>Drama</td>\n",
       "      <td>Danny Boyle</td>\n",
       "      <td>Cillian MurphyNaomie HarrisChristopher Eccleston</td>\n",
       "      <td>73.0</td>\n",
       "      <td>113.0</td>\n",
       "    </tr>\n",
       "    <tr>\n",
       "      <th>3</th>\n",
       "      <td>A Quiet Place</td>\n",
       "      <td>2018</td>\n",
       "      <td>7.5</td>\n",
       "      <td>PG-13</td>\n",
       "      <td>Drama</td>\n",
       "      <td>John Krasinski</td>\n",
       "      <td>Bryan WoodsScott BeckJohn Krasinski</td>\n",
       "      <td>82.0</td>\n",
       "      <td>90.0</td>\n",
       "    </tr>\n",
       "    <tr>\n",
       "      <th>4</th>\n",
       "      <td>A Quiet Place: Day One</td>\n",
       "      <td>2024</td>\n",
       "      <td>7.1</td>\n",
       "      <td>R</td>\n",
       "      <td>Drama</td>\n",
       "      <td>Michael Sarnoski</td>\n",
       "      <td>Michael SarnoskiJohn KrasinskiBryan Woods</td>\n",
       "      <td>66.9</td>\n",
       "      <td>116.3</td>\n",
       "    </tr>\n",
       "    <tr>\n",
       "      <th>...</th>\n",
       "      <td>...</td>\n",
       "      <td>...</td>\n",
       "      <td>...</td>\n",
       "      <td>...</td>\n",
       "      <td>...</td>\n",
       "      <td>...</td>\n",
       "      <td>...</td>\n",
       "      <td>...</td>\n",
       "      <td>...</td>\n",
       "    </tr>\n",
       "    <tr>\n",
       "      <th>250</th>\n",
       "      <td>Wonka</td>\n",
       "      <td>2023</td>\n",
       "      <td>7.0</td>\n",
       "      <td>PG</td>\n",
       "      <td>Adventure</td>\n",
       "      <td>Paul King</td>\n",
       "      <td>Roald DahlPaul KingSimon Farnaby</td>\n",
       "      <td>66.0</td>\n",
       "      <td>116.0</td>\n",
       "    </tr>\n",
       "    <tr>\n",
       "      <th>251</th>\n",
       "      <td>X</td>\n",
       "      <td>2022</td>\n",
       "      <td>6.5</td>\n",
       "      <td>R</td>\n",
       "      <td>Horror</td>\n",
       "      <td>Ti West</td>\n",
       "      <td>Mia GothJenna OrtegaBrittany Snow</td>\n",
       "      <td>80.0</td>\n",
       "      <td>105.0</td>\n",
       "    </tr>\n",
       "    <tr>\n",
       "      <th>252</th>\n",
       "      <td>You Can't Run Forever</td>\n",
       "      <td>2024</td>\n",
       "      <td>4.4</td>\n",
       "      <td>R</td>\n",
       "      <td>Drama</td>\n",
       "      <td>Michelle Schumacher</td>\n",
       "      <td>J.K. SimmonsFernanda UrrejolaAllen Leech</td>\n",
       "      <td>66.9</td>\n",
       "      <td>102.0</td>\n",
       "    </tr>\n",
       "    <tr>\n",
       "      <th>253</th>\n",
       "      <td>Your Name.</td>\n",
       "      <td>2016</td>\n",
       "      <td>8.4</td>\n",
       "      <td>R</td>\n",
       "      <td>Animation</td>\n",
       "      <td>Makoto Shinkai</td>\n",
       "      <td>Makoto ShinkaiClark Cheng</td>\n",
       "      <td>81.0</td>\n",
       "      <td>116.3</td>\n",
       "    </tr>\n",
       "    <tr>\n",
       "      <th>254</th>\n",
       "      <td>Zootopia</td>\n",
       "      <td>2016</td>\n",
       "      <td>8.0</td>\n",
       "      <td>PG</td>\n",
       "      <td>Animation</td>\n",
       "      <td>Byron Howard</td>\n",
       "      <td>Byron HowardRich MooreJared Bush</td>\n",
       "      <td>78.0</td>\n",
       "      <td>108.0</td>\n",
       "    </tr>\n",
       "  </tbody>\n",
       "</table>\n",
       "<p>255 rows × 9 columns</p>\n",
       "</div>"
      ],
      "text/plain": [
       "                          Title  Year  IMDb Rating Certificates      Genre  \\\n",
       "0    10 Things I Hate About You  1999          7.3        PG-13     Comedy   \n",
       "1                  12 Angry Men  1957          9.0     Approved      Crime   \n",
       "2                 28 Days Later  2002          7.5            R      Drama   \n",
       "3                 A Quiet Place  2018          7.5        PG-13      Drama   \n",
       "4        A Quiet Place: Day One  2024          7.1            R      Drama   \n",
       "..                          ...   ...          ...          ...        ...   \n",
       "250                       Wonka  2023          7.0           PG  Adventure   \n",
       "251                           X  2022          6.5            R     Horror   \n",
       "252       You Can't Run Forever  2024          4.4            R      Drama   \n",
       "253                  Your Name.  2016          8.4            R  Animation   \n",
       "254                    Zootopia  2016          8.0           PG  Animation   \n",
       "\n",
       "                Director                                         Star Cast  \\\n",
       "0             Gil Junger      Heath LedgerJulia StilesJoseph Gordon-Levitt   \n",
       "1           Sidney Lumet                                     Reginald Rose   \n",
       "2            Danny Boyle  Cillian MurphyNaomie HarrisChristopher Eccleston   \n",
       "3         John Krasinski               Bryan WoodsScott BeckJohn Krasinski   \n",
       "4       Michael Sarnoski         Michael SarnoskiJohn KrasinskiBryan Woods   \n",
       "..                   ...                                               ...   \n",
       "250            Paul King                  Roald DahlPaul KingSimon Farnaby   \n",
       "251              Ti West                 Mia GothJenna OrtegaBrittany Snow   \n",
       "252  Michelle Schumacher          J.K. SimmonsFernanda UrrejolaAllen Leech   \n",
       "253       Makoto Shinkai                         Makoto ShinkaiClark Cheng   \n",
       "254         Byron Howard                  Byron HowardRich MooreJared Bush   \n",
       "\n",
       "     MetaScore  Duration (minutes)  \n",
       "0         70.0                97.0  \n",
       "1         97.0                96.0  \n",
       "2         73.0               113.0  \n",
       "3         82.0                90.0  \n",
       "4         66.9               116.3  \n",
       "..         ...                 ...  \n",
       "250       66.0               116.0  \n",
       "251       80.0               105.0  \n",
       "252       66.9               102.0  \n",
       "253       81.0               116.3  \n",
       "254       78.0               108.0  \n",
       "\n",
       "[255 rows x 9 columns]"
      ]
     },
     "execution_count": 53,
     "metadata": {},
     "output_type": "execute_result"
    }
   ],
   "source": [
    "imdb = pd.read_csv('data/imdb-2024-cleaned.csv')\n",
    "imdb"
   ]
  },
  {
   "cell_type": "markdown",
   "id": "e555175b",
   "metadata": {},
   "source": [
    "As the preview above shows us, `imdb` has 255 rows, and has some brand new movies, like `'A Quiet Place: Day One'`, released earlier this year.\n",
    "\n",
    "Not sure what one of the columns means? Google it, as data scientists do – you'll find helpful information directly on IMDb's website.\n",
    "\n",
    "In lecture, we learned that it's good practice to set the index of a DataFrame to a unique identifier for each row, if one exists. At first glance, it may seem like the values in the `'Title'` column are unique, but upon further investigation we see that there are actually duplicate `'Title'`s:"
   ]
  },
  {
   "cell_type": "code",
   "execution_count": 54,
   "id": "7cef88ca",
   "metadata": {},
   "outputs": [
    {
     "data": {
      "text/plain": [
       "Title\n",
       "Planet of the Apes            2\n",
       "The Crow                      2\n",
       "The Lion King                 2\n",
       "Dune                          2\n",
       "10 Things I Hate About You    1\n",
       "                             ..\n",
       "Inside Out                    1\n",
       "Inside Out 2                  1\n",
       "Interstellar                  1\n",
       "It                            1\n",
       "Zootopia                      1\n",
       "Name: count, Length: 251, dtype: int64"
      ]
     },
     "execution_count": 54,
     "metadata": {},
     "output_type": "execute_result"
    }
   ],
   "source": [
    "imdb['Title'].value_counts()"
   ]
  },
  {
   "cell_type": "markdown",
   "id": "6f00c557",
   "metadata": {},
   "source": [
    "There are 2 rows for `'Planet of the Apes'`, for example. We can query to see just those rows:"
   ]
  },
  {
   "cell_type": "code",
   "execution_count": 55,
   "id": "341a8808",
   "metadata": {},
   "outputs": [
    {
     "data": {
      "text/html": [
       "<div>\n",
       "<style scoped>\n",
       "    .dataframe tbody tr th:only-of-type {\n",
       "        vertical-align: middle;\n",
       "    }\n",
       "\n",
       "    .dataframe tbody tr th {\n",
       "        vertical-align: top;\n",
       "    }\n",
       "\n",
       "    .dataframe thead th {\n",
       "        text-align: right;\n",
       "    }\n",
       "</style>\n",
       "<table border=\"1\" class=\"dataframe\">\n",
       "  <thead>\n",
       "    <tr style=\"text-align: right;\">\n",
       "      <th></th>\n",
       "      <th>Title</th>\n",
       "      <th>Year</th>\n",
       "      <th>IMDb Rating</th>\n",
       "      <th>Certificates</th>\n",
       "      <th>Genre</th>\n",
       "      <th>Director</th>\n",
       "      <th>Star Cast</th>\n",
       "      <th>MetaScore</th>\n",
       "      <th>Duration (minutes)</th>\n",
       "    </tr>\n",
       "  </thead>\n",
       "  <tbody>\n",
       "    <tr>\n",
       "      <th>142</th>\n",
       "      <td>Planet of the Apes</td>\n",
       "      <td>1968</td>\n",
       "      <td>8.0</td>\n",
       "      <td>G</td>\n",
       "      <td>Adventure</td>\n",
       "      <td>Franklin J. Schaffner</td>\n",
       "      <td>Michael WilsonRod SerlingPierre Boulle</td>\n",
       "      <td>79.0</td>\n",
       "      <td>112.0</td>\n",
       "    </tr>\n",
       "    <tr>\n",
       "      <th>143</th>\n",
       "      <td>Planet of the Apes</td>\n",
       "      <td>2001</td>\n",
       "      <td>5.7</td>\n",
       "      <td>PG-13</td>\n",
       "      <td>Action</td>\n",
       "      <td>Tim Burton</td>\n",
       "      <td>Pierre BoulleWilliam Broyles Jr.Lawrence Konner</td>\n",
       "      <td>50.0</td>\n",
       "      <td>120.0</td>\n",
       "    </tr>\n",
       "  </tbody>\n",
       "</table>\n",
       "</div>"
      ],
      "text/plain": [
       "                  Title  Year  IMDb Rating Certificates      Genre  \\\n",
       "142  Planet of the Apes  1968          8.0            G  Adventure   \n",
       "143  Planet of the Apes  2001          5.7        PG-13     Action   \n",
       "\n",
       "                  Director                                        Star Cast  \\\n",
       "142  Franklin J. Schaffner           Michael WilsonRod SerlingPierre Boulle   \n",
       "143             Tim Burton  Pierre BoulleWilliam Broyles Jr.Lawrence Konner   \n",
       "\n",
       "     MetaScore  Duration (minutes)  \n",
       "142       79.0               112.0  \n",
       "143       50.0               120.0  "
      ]
     },
     "execution_count": 55,
     "metadata": {},
     "output_type": "execute_result"
    }
   ],
   "source": [
    "imdb[imdb['Title'] == 'Planet of the Apes']"
   ]
  },
  {
   "cell_type": "markdown",
   "id": "8d4040c0",
   "metadata": {},
   "source": [
    "It seems like there are indeed multiple different `'Planet of the Apes'` movies, released in different years. So, for now, we'll leave the index of `imdb` as-is.\n",
    "\n",
    "Time to get to work!  Note that all of the following questions are answerable using concepts from [Lecture 4](https://practicaldsc.org/resources/lectures/lec04/lec04-filled.html), though you may find them to be slightly easier after you've gained more practice in Lecture 5.\n",
    "\n",
    "Important: **DO NOT** modify the `imdb` DataFrame at any point in this notebook! If you do, your code won't be graded correctly when you submit it to Gradescope."
   ]
  },
  {
   "cell_type": "markdown",
   "id": "a47b941c",
   "metadata": {},
   "source": [
    "### Question 6: Exploring the Data\n",
    "\n",
    "In this question, which is made up of 7 smaller subparts, we'll ask you to answer various questions involving the `imdb` DataFrame. **Don't** hard-code your answers; use `pandas` code to find them programatically."
   ]
  },
  {
   "cell_type": "markdown",
   "id": "13c52513",
   "metadata": {},
   "source": [
    "#### Question 6.1: Highest Rating Ever  <div style=\"display:inline-block; vertical-align: middle; padding:7px 7px; font-size:10px; font-weight:light; color:white; background-color:#e84c4a; border-radius:7px; text-align:left;\">1 Point</div>\n",
    "\n",
    "Assign `highest_rating_ever` to the highest `'IMDb Rating'` of any movie in `imdb`. Your answer should be a float."
   ]
  },
  {
   "cell_type": "code",
   "execution_count": 56,
   "id": "90cbbe7b",
   "metadata": {
    "tags": []
   },
   "outputs": [
    {
     "data": {
      "text/plain": [
       "9.2"
      ]
     },
     "execution_count": 56,
     "metadata": {},
     "output_type": "execute_result"
    }
   ],
   "source": [
    "highest_rating_ever = imdb['IMDb Rating'].max()\n",
    "highest_rating_ever"
   ]
  },
  {
   "cell_type": "code",
   "execution_count": 57,
   "id": "42b384b3",
   "metadata": {
    "deletable": false,
    "editable": false
   },
   "outputs": [
    {
     "data": {
      "text/html": [
       "<p><strong><pre style='display: inline;'>q06_1</pre></strong> passed!</p>"
      ],
      "text/plain": [
       "q06_1 results: All test cases passed!"
      ]
     },
     "execution_count": 57,
     "metadata": {},
     "output_type": "execute_result"
    }
   ],
   "source": [
    "grader.check(\"q06_1\")"
   ]
  },
  {
   "cell_type": "markdown",
   "id": "5c747851",
   "metadata": {},
   "source": [
    "#### Question 6.2: Movie with Highest Rating Ever  <div style=\"display:inline-block; vertical-align: middle; padding:7px 7px; font-size:10px; font-weight:light; color:white; background-color:#e84c4a; border-radius:7px; text-align:left;\">2 Points</div>"
   ]
  },
  {
   "cell_type": "markdown",
   "id": "c63146dd",
   "metadata": {},
   "source": [
    "Assign `movie_with_highest_rating_ever` to the `'Title'` of the movie with the highest `'IMDb Rating'` of any movie in `imdb`. Assume there are no ties. Your answer should be a string."
   ]
  },
  {
   "cell_type": "code",
   "execution_count": 63,
   "id": "2a655bbf",
   "metadata": {
    "tags": []
   },
   "outputs": [
    {
     "data": {
      "text/plain": [
       "'The Godfather'"
      ]
     },
     "execution_count": 63,
     "metadata": {},
     "output_type": "execute_result"
    }
   ],
   "source": [
    "movie_with_highest_rating_ever = imdb.loc[imdb['IMDb Rating'].idxmax(), 'Title']\n",
    "movie_with_highest_rating_ever"
   ]
  },
  {
   "cell_type": "code",
   "execution_count": 64,
   "id": "58ac2d56",
   "metadata": {
    "deletable": false,
    "editable": false
   },
   "outputs": [
    {
     "data": {
      "text/html": [
       "<p><strong><pre style='display: inline;'>q06_2</pre></strong> passed!</p>"
      ],
      "text/plain": [
       "q06_2 results: All test cases passed!"
      ]
     },
     "execution_count": 64,
     "metadata": {},
     "output_type": "execute_result"
    }
   ],
   "source": [
    "grader.check(\"q06_2\")"
   ]
  },
  {
   "cell_type": "markdown",
   "id": "7118be75",
   "metadata": {},
   "source": [
    "#### Question 6.3: Comedy Movies  <div style=\"display:inline-block; vertical-align: middle; padding:7px 7px; font-size:10px; font-weight:light; color:white; background-color:#e84c4a; border-radius:7px; text-align:left;\">1 Point</div>"
   ]
  },
  {
   "cell_type": "markdown",
   "id": "4818289d",
   "metadata": {},
   "source": [
    "Assign `num_comedy` to the number of movies in `imdb` with a `'Genre'` of `'Comedy'`. Your answer should be an int."
   ]
  },
  {
   "cell_type": "code",
   "execution_count": 84,
   "id": "99fdf63e",
   "metadata": {
    "tags": []
   },
   "outputs": [
    {
     "data": {
      "text/plain": [
       "30"
      ]
     },
     "execution_count": 84,
     "metadata": {},
     "output_type": "execute_result"
    }
   ],
   "source": [
    "num_comedy = len(imdb[imdb['Genre'] == 'Comedy'])\n",
    "num_comedy"
   ]
  },
  {
   "cell_type": "code",
   "execution_count": 85,
   "id": "a8705122",
   "metadata": {
    "deletable": false,
    "editable": false
   },
   "outputs": [
    {
     "data": {
      "text/html": [
       "<p><strong><pre style='display: inline;'>q06_3</pre></strong> passed!</p>"
      ],
      "text/plain": [
       "q06_3 results: All test cases passed!"
      ]
     },
     "execution_count": 85,
     "metadata": {},
     "output_type": "execute_result"
    }
   ],
   "source": [
    "grader.check(\"q06_3\")"
   ]
  },
  {
   "cell_type": "markdown",
   "id": "cfc612a7",
   "metadata": {},
   "source": [
    "#### Question 6.4: Most Common Genre in 2024  <div style=\"display:inline-block; vertical-align: middle; padding:7px 7px; font-size:10px; font-weight:light; color:white; background-color:#e84c4a; border-radius:7px; text-align:left;\">2 Points</div>\n",
    "\n",
    "Assign `most_common_genre_2024` to the name of the most common `'Genre'` among all movies in `imdb` released in 2024. Assume there are no ties. Your answer should be a string."
   ]
  },
  {
   "cell_type": "code",
   "execution_count": 102,
   "id": "84309173",
   "metadata": {
    "tags": []
   },
   "outputs": [
    {
     "data": {
      "text/plain": [
       "'Action'"
      ]
     },
     "execution_count": 102,
     "metadata": {},
     "output_type": "execute_result"
    }
   ],
   "source": [
    "most_common_genre_2024 = (\n",
    "    imdb[imdb['Year'] == 2024]\n",
    "    ['Genre']\n",
    "    .value_counts()\n",
    "    .idxmax()\n",
    ")\n",
    "most_common_genre_2024"
   ]
  },
  {
   "cell_type": "code",
   "execution_count": 101,
   "id": "6bf1cdaf",
   "metadata": {
    "deletable": false,
    "editable": false
   },
   "outputs": [
    {
     "data": {
      "text/html": [
       "<p><strong><pre style='display: inline;'>q06_4</pre></strong> passed!</p>"
      ],
      "text/plain": [
       "q06_4 results: All test cases passed!"
      ]
     },
     "execution_count": 101,
     "metadata": {},
     "output_type": "execute_result"
    }
   ],
   "source": [
    "grader.check(\"q06_4\")"
   ]
  },
  {
   "cell_type": "markdown",
   "id": "fec5a95b",
   "metadata": {},
   "source": [
    "#### Question 6.5: Big Directors <div style=\"display:inline-block; vertical-align: middle; padding:7px 7px; font-size:10px; font-weight:light; color:white; background-color:#e84c4a; border-radius:7px; text-align:left;\">3 Points</div>\n",
    "\n",
    "Assign `prop_big_directors` to the **proportion** of movies in `imdb` directed by the top 4 `'Director'`s, when `'Director'`s are ranked by the number of movies they've directed in descending order. Assume that the top 4 `'Directors'` are unambiguous; i.e. that there isn't a 5th director that is tied with one of the top 4. Your answer should be a float between 0 and 1."
   ]
  },
  {
   "cell_type": "code",
   "execution_count": 105,
   "id": "52835445",
   "metadata": {
    "tags": []
   },
   "outputs": [
    {
     "data": {
      "text/plain": [
       "0.0784313725490196"
      ]
     },
     "execution_count": 105,
     "metadata": {},
     "output_type": "execute_result"
    }
   ],
   "source": [
    "prop_big_directors = (\n",
    "    sum(\n",
    "        imdb['Director']\n",
    "        .value_counts()\n",
    "        .head(4)\n",
    "    ) / len(imdb)\n",
    ")\n",
    "prop_big_directors"
   ]
  },
  {
   "cell_type": "code",
   "execution_count": 106,
   "id": "48438baf",
   "metadata": {
    "deletable": false,
    "editable": false
   },
   "outputs": [
    {
     "data": {
      "text/html": [
       "<p><strong><pre style='display: inline;'>q06_5</pre></strong> passed!</p>"
      ],
      "text/plain": [
       "q06_5 results: All test cases passed!"
      ]
     },
     "execution_count": 106,
     "metadata": {},
     "output_type": "execute_result"
    }
   ],
   "source": [
    "grader.check(\"q06_5\")"
   ]
  },
  {
   "cell_type": "markdown",
   "id": "2ec7fd42",
   "metadata": {},
   "source": [
    "#### Question 6.6: Harry Potter  <div style=\"display:inline-block; vertical-align: middle; padding:7px 7px; font-size:10px; font-weight:light; color:white; background-color:#e84c4a; border-radius:7px; text-align:left;\">2 Points</div>\n",
    "\n",
    "Assign `average_harry_potter` to the mean `'IMDb Rating'` of all movies with the string `'Harry Potter'` in the `'Title'`. Your answer should be a float."
   ]
  },
  {
   "cell_type": "code",
   "execution_count": 117,
   "id": "fadfd381",
   "metadata": {
    "tags": []
   },
   "outputs": [
    {
     "data": {
      "text/plain": [
       "7.74"
      ]
     },
     "execution_count": 117,
     "metadata": {},
     "output_type": "execute_result"
    }
   ],
   "source": [
    "average_harry_potter = (\n",
    "    imdb[\n",
    "        imdb['Title'].str.contains('Harry Potter')\n",
    "    ]['IMDb Rating'].mean()\n",
    ")\n",
    "average_harry_potter"
   ]
  },
  {
   "cell_type": "code",
   "execution_count": 118,
   "id": "0a88a79b",
   "metadata": {
    "deletable": false,
    "editable": false
   },
   "outputs": [
    {
     "data": {
      "text/html": [
       "<p><strong><pre style='display: inline;'>q07_6</pre></strong> passed!</p>"
      ],
      "text/plain": [
       "q07_6 results: All test cases passed!"
      ]
     },
     "execution_count": 118,
     "metadata": {},
     "output_type": "execute_result"
    }
   ],
   "source": [
    "grader.check(\"q07_6\")"
   ]
  },
  {
   "cell_type": "markdown",
   "id": "141315b5",
   "metadata": {},
   "source": [
    "#### Question 6.7: Family Friendly  <div style=\"display:inline-block; vertical-align: middle; padding:7px 7px; font-size:10px; font-weight:light; color:white; background-color:#e84c4a; border-radius:7px; text-align:left;\">4 Points</div>\n",
    "\n",
    "Assign `num_hours_family_friendly` to the number of **hours** it would take you to watch the 10 highest-rated `'PG-13'` movies whose `'Genre'` is either `'Action'` or `'Adventure'`. By highest-rated, we're referring to movies with the highest `'IMDb Rating'`s. Assume that there are no ties in `'IMDb Rating'`s. Your answer should be a float."
   ]
  },
  {
   "cell_type": "code",
   "execution_count": 147,
   "id": "9ab878bd",
   "metadata": {
    "tags": []
   },
   "outputs": [
    {
     "data": {
      "text/plain": [
       "25.9"
      ]
     },
     "execution_count": 147,
     "metadata": {},
     "output_type": "execute_result"
    }
   ],
   "source": [
    "num_hours_family_friendly = (\n",
    "    imdb[\n",
    "        (imdb['Certificates'] == 'PG-13') &\n",
    "        (imdb['Genre'].isin(['Action', 'Adventure']))\n",
    "    ].sort_values('IMDb Rating', ascending=False)\n",
    "    .head(10)\n",
    "    ['Duration (minutes)'].sum() / 60\n",
    ")\n",
    "num_hours_family_friendly"
   ]
  },
  {
   "cell_type": "code",
   "execution_count": 148,
   "id": "f7fa2a0d",
   "metadata": {
    "deletable": false,
    "editable": false
   },
   "outputs": [
    {
     "data": {
      "text/html": [
       "<p><strong><pre style='display: inline;'>q06_7</pre></strong> passed!</p>"
      ],
      "text/plain": [
       "q06_7 results: All test cases passed!"
      ]
     },
     "execution_count": 148,
     "metadata": {},
     "output_type": "execute_result"
    }
   ],
   "source": [
    "grader.check(\"q06_7\")"
   ]
  },
  {
   "cell_type": "markdown",
   "id": "75dcf64a",
   "metadata": {},
   "source": [
    "### Question 7: Star Struck\n",
    "\n",
    "Take a look at the `'Star Cast'` column of `imdb`, which we didn't use in Question 7:"
   ]
  },
  {
   "cell_type": "code",
   "execution_count": 149,
   "id": "42111223",
   "metadata": {},
   "outputs": [
    {
     "data": {
      "text/plain": [
       "0          Heath LedgerJulia StilesJoseph Gordon-Levitt\n",
       "1                                         Reginald Rose\n",
       "2      Cillian MurphyNaomie HarrisChristopher Eccleston\n",
       "3                   Bryan WoodsScott BeckJohn Krasinski\n",
       "4             Michael SarnoskiJohn KrasinskiBryan Woods\n",
       "                             ...                       \n",
       "250                    Roald DahlPaul KingSimon Farnaby\n",
       "251                   Mia GothJenna OrtegaBrittany Snow\n",
       "252            J.K. SimmonsFernanda UrrejolaAllen Leech\n",
       "253                           Makoto ShinkaiClark Cheng\n",
       "254                    Byron HowardRich MooreJared Bush\n",
       "Name: Star Cast, Length: 255, dtype: object"
      ]
     },
     "execution_count": 149,
     "metadata": {},
     "output_type": "execute_result"
    }
   ],
   "source": [
    "imdb['Star Cast']"
   ]
  },
  {
   "cell_type": "markdown",
   "id": "8987bd9f",
   "metadata": {},
   "source": [
    "Right now, actors' names aren't separated by spaces. With `'Star Cast'` in this form, we can still perform _some_ queries, like looking at all of the movies Margot Robbie was in:"
   ]
  },
  {
   "cell_type": "code",
   "execution_count": 150,
   "id": "31ab2844",
   "metadata": {},
   "outputs": [
    {
     "data": {
      "text/html": [
       "<div>\n",
       "<style scoped>\n",
       "    .dataframe tbody tr th:only-of-type {\n",
       "        vertical-align: middle;\n",
       "    }\n",
       "\n",
       "    .dataframe tbody tr th {\n",
       "        vertical-align: top;\n",
       "    }\n",
       "\n",
       "    .dataframe thead th {\n",
       "        text-align: right;\n",
       "    }\n",
       "</style>\n",
       "<table border=\"1\" class=\"dataframe\">\n",
       "  <thead>\n",
       "    <tr style=\"text-align: right;\">\n",
       "      <th></th>\n",
       "      <th>Title</th>\n",
       "      <th>Year</th>\n",
       "      <th>IMDb Rating</th>\n",
       "      <th>Certificates</th>\n",
       "      <th>Genre</th>\n",
       "      <th>Director</th>\n",
       "      <th>Star Cast</th>\n",
       "      <th>MetaScore</th>\n",
       "      <th>Duration (minutes)</th>\n",
       "    </tr>\n",
       "  </thead>\n",
       "  <tbody>\n",
       "    <tr>\n",
       "      <th>24</th>\n",
       "      <td>Barbie</td>\n",
       "      <td>2023</td>\n",
       "      <td>6.8</td>\n",
       "      <td>PG-13</td>\n",
       "      <td>Adventure</td>\n",
       "      <td>Greta Gerwig</td>\n",
       "      <td>Margot RobbieRyan GoslingIssa Rae</td>\n",
       "      <td>80.0</td>\n",
       "      <td>114.0</td>\n",
       "    </tr>\n",
       "    <tr>\n",
       "      <th>140</th>\n",
       "      <td>Once Upon a Time... in Hollywood</td>\n",
       "      <td>2019</td>\n",
       "      <td>7.6</td>\n",
       "      <td>R</td>\n",
       "      <td>Comedy</td>\n",
       "      <td>Quentin Tarantino</td>\n",
       "      <td>Leonardo DiCaprioBrad PittMargot Robbie</td>\n",
       "      <td>84.0</td>\n",
       "      <td>161.0</td>\n",
       "    </tr>\n",
       "    <tr>\n",
       "      <th>231</th>\n",
       "      <td>The Wolf of Wall Street</td>\n",
       "      <td>2013</td>\n",
       "      <td>8.2</td>\n",
       "      <td>R</td>\n",
       "      <td>Biography</td>\n",
       "      <td>Martin Scorsese</td>\n",
       "      <td>Leonardo DiCaprioJonah HillMargot Robbie</td>\n",
       "      <td>75.0</td>\n",
       "      <td>180.0</td>\n",
       "    </tr>\n",
       "  </tbody>\n",
       "</table>\n",
       "</div>"
      ],
      "text/plain": [
       "                                Title  Year  IMDb Rating Certificates  \\\n",
       "24                             Barbie  2023          6.8        PG-13   \n",
       "140  Once Upon a Time... in Hollywood  2019          7.6            R   \n",
       "231           The Wolf of Wall Street  2013          8.2            R   \n",
       "\n",
       "         Genre           Director                                 Star Cast  \\\n",
       "24   Adventure       Greta Gerwig         Margot RobbieRyan GoslingIssa Rae   \n",
       "140     Comedy  Quentin Tarantino   Leonardo DiCaprioBrad PittMargot Robbie   \n",
       "231  Biography    Martin Scorsese  Leonardo DiCaprioJonah HillMargot Robbie   \n",
       "\n",
       "     MetaScore  Duration (minutes)  \n",
       "24        80.0               114.0  \n",
       "140       84.0               161.0  \n",
       "231       75.0               180.0  "
      ]
     },
     "execution_count": 150,
     "metadata": {},
     "output_type": "execute_result"
    }
   ],
   "source": [
    "imdb[imdb['Star Cast'].str.contains('Margot Robbie')]"
   ]
  },
  {
   "cell_type": "markdown",
   "id": "f10af6b9",
   "metadata": {},
   "source": [
    "But we **can't** answer questions like, which actor was in the most movies? Let's change that.\n",
    "\n",
    "#### Question 7.1: Data Cleaning  <div style=\"display:inline-block; vertical-align: middle; padding:7px 7px; font-size:10px; font-weight:light; color:white; background-color:#e84c4a; border-radius:7px; text-align:left;\">5 Points</div>\n",
    "\n",
    "Complete the implementation of the function `extract_names`, which takes in `s`, a single string formatted like those in the `'Star Cast'` column of `imdb`, and returns a **list** of strings with the names of all of the actors in `s`. Example behavior is given below.\n",
    "\n",
    "```python\n",
    ">>> extract_names('Makoto ShinkaiClark Cheng')\n",
    "['Makoto Shinkai', 'Clark Cheng']\n",
    "\n",
    ">>> extract_names('Anya Taylor-JoyChris HemsworthTom Burke')\n",
    "['Anya Taylor-Joy', 'Chris Hemsworth', 'Tom Burke']\n",
    "\n",
    ">>> extract_names('Santa Ono')\n",
    "['Santa Ono']\n",
    "```\n",
    "\n",
    "For simplicity, you **must** assume that:\n",
    "- Each actor only has a single first name and a single last name.\n",
    "- First names and last names are both at least two letters long, contain no spaces, and contain exactly one uppercase letter\n",
    "- If there is a dash (`'-'`) in an actor's first name or last name, it is not the first or last letter. Dashes are the only non-alphabetic characters that can appear in a first name or last name.\n",
    "\n",
    "Note that the above assumptions mean that `extract_names` _will_ work incorrectly for cases like the one below; we're adding this simplifying assumption to make your life easier.\n",
    "\n",
    "```python\n",
    ">>> extract_names('Leonardo DiCaprioJonah HillMargot Robbie')\n",
    "['Leonardo Di', 'Caprio', 'Jonah Hill', 'Margot Robbie']\n",
    "```\n",
    "\n",
    "Note that the implementation of `extract_names` doesn't involve any `pandas` methods; it's a pure Python problem."
   ]
  },
  {
   "cell_type": "code",
   "execution_count": 162,
   "id": "6fd61bc5",
   "metadata": {
    "tags": []
   },
   "outputs": [
    {
     "data": {
      "text/plain": [
       "['Makoto Shinkai', 'Clark Cheng']"
      ]
     },
     "execution_count": 162,
     "metadata": {},
     "output_type": "execute_result"
    }
   ],
   "source": [
    "def extract_names(s):\n",
    "    names = []\n",
    "    curr_name = ''\n",
    "\n",
    "    for i, char in enumerate(s):\n",
    "        if char.isupper() and curr_name and curr_name[-1] not in [' ', '-']:\n",
    "            names.append(curr_name)\n",
    "            curr_name = char\n",
    "        else:\n",
    "            curr_name += char\n",
    "\n",
    "    if curr_name:\n",
    "        names.append(curr_name)\n",
    "\n",
    "    return names\n",
    "\n",
    "# Feel free to change this input to make sure your function works correctly.\n",
    "extract_names('Makoto ShinkaiClark Cheng')"
   ]
  },
  {
   "cell_type": "code",
   "execution_count": 163,
   "id": "97bea2d4",
   "metadata": {
    "deletable": false,
    "editable": false
   },
   "outputs": [
    {
     "data": {
      "text/html": [
       "<p><strong><pre style='display: inline;'>q07_1</pre></strong> passed!</p>"
      ],
      "text/plain": [
       "q07_1 results: All test cases passed!"
      ]
     },
     "execution_count": 163,
     "metadata": {},
     "output_type": "execute_result"
    }
   ],
   "source": [
    "grader.check(\"q07_1\")"
   ]
  },
  {
   "cell_type": "markdown",
   "id": "0f905c04",
   "metadata": {},
   "source": [
    "Now, using syntax we'll see in Week 3, we've defined for you a Series, named `star_names`, containing the names of all individual actors in `'Star Cast'`. This involves using the Series `apply` method to call your `extract_names` function on every value in `imdb['Star Cast']`, and then combining the resulting lists into one massive list, and finally converting that to Series."
   ]
  },
  {
   "cell_type": "code",
   "execution_count": 164,
   "id": "e38c02ae",
   "metadata": {},
   "outputs": [
    {
     "data": {
      "text/plain": [
       "0              Heath Ledger\n",
       "1              Julia Stiles\n",
       "2      Joseph Gordon-Levitt\n",
       "3             Reginald Rose\n",
       "4            Cillian Murphy\n",
       "               ...         \n",
       "762          Makoto Shinkai\n",
       "763             Clark Cheng\n",
       "764            Byron Howard\n",
       "765              Rich Moore\n",
       "766              Jared Bush\n",
       "Length: 767, dtype: object"
      ]
     },
     "execution_count": 164,
     "metadata": {},
     "output_type": "execute_result"
    }
   ],
   "source": [
    "star_names = pd.Series(imdb['Star Cast'].apply(extract_names).sum())\n",
    "star_names"
   ]
  },
  {
   "cell_type": "markdown",
   "id": "994b926f",
   "metadata": {},
   "source": [
    "Note that the values in `star_names` are not unique!"
   ]
  },
  {
   "cell_type": "markdown",
   "id": "b424c602",
   "metadata": {},
   "source": [
    "#### Question 7.2: Modes  <div style=\"display:inline-block; vertical-align: middle; padding:7px 7px; font-size:10px; font-weight:light; color:white; background-color:#e84c4a; border-radius:7px; text-align:left;\">2 Points</div>\n",
    "\n",
    "Complete the implementation of the function `most_common`, which takes in a Series, `ser`, and returns a **list** containing the mode(s) of `ser`. The order of the elements in the returned list does not matter. Assume `ser` contains at least one element. Example behavior is given below.\n",
    "\n",
    "```python\n",
    ">>> most_common(pd.Series([1, 2, 2]))\n",
    "[2]\n",
    "\n",
    ">>> most_common(pd.Series([1, 2]))\n",
    "[1, 2]\n",
    "\n",
    "# This works strangely because of our assumptions in 7.1.\n",
    "# We're intentionally not showing you the entire output.\n",
    ">>> star_names_output = most_common(star_names)\n",
    ">>> 'Caprio' in star_names_output and 'Leonardo Di' in star_names_output\n",
    "True\n",
    "```"
   ]
  },
  {
   "cell_type": "code",
   "execution_count": 169,
   "id": "a7737f13",
   "metadata": {
    "tags": []
   },
   "outputs": [
    {
     "data": {
      "text/plain": [
       "[2]"
      ]
     },
     "execution_count": 169,
     "metadata": {},
     "output_type": "execute_result"
    }
   ],
   "source": [
    "def most_common(ser):\n",
    "    return ser.mode().tolist()\n",
    "\n",
    "# Feel free to change this input to make sure your function works correctly.\n",
    "most_common(pd.Series([1, 2, 2]))"
   ]
  },
  {
   "cell_type": "code",
   "execution_count": 170,
   "id": "4c4cd84d",
   "metadata": {
    "deletable": false,
    "editable": false
   },
   "outputs": [
    {
     "data": {
      "text/html": [
       "<p><strong><pre style='display: inline;'>q07_2</pre></strong> passed!</p>"
      ],
      "text/plain": [
       "q07_2 results: All test cases passed!"
      ]
     },
     "execution_count": 170,
     "metadata": {},
     "output_type": "execute_result"
    }
   ],
   "source": [
    "grader.check(\"q07_2\")"
   ]
  },
  {
   "cell_type": "markdown",
   "id": "bbab52ea",
   "metadata": {},
   "source": [
    "After you've implemented `most_common`, run the cell below."
   ]
  },
  {
   "cell_type": "code",
   "execution_count": 171,
   "id": "f52b17ab",
   "metadata": {},
   "outputs": [
    {
     "data": {
      "text/plain": [
       "['Caprio',\n",
       " 'Daniel Radcliffe',\n",
       " 'Emma Watson',\n",
       " 'Leonardo Di',\n",
       " 'Pete Docter',\n",
       " 'Rupert Grint']"
      ]
     },
     "execution_count": 171,
     "metadata": {},
     "output_type": "execute_result"
    }
   ],
   "source": [
    "most_common(star_names)"
   ]
  },
  {
   "cell_type": "markdown",
   "id": "37d9f100",
   "metadata": {},
   "source": [
    "You may recognize some of these names, but not others. You should explore! For instance, query `imdb` for all the movies that `'Pete Docter'` starred in. What do you notice?"
   ]
  },
  {
   "cell_type": "code",
   "execution_count": 172,
   "id": "ae8d20f0",
   "metadata": {},
   "outputs": [
    {
     "data": {
      "text/html": [
       "<div>\n",
       "<style scoped>\n",
       "    .dataframe tbody tr th:only-of-type {\n",
       "        vertical-align: middle;\n",
       "    }\n",
       "\n",
       "    .dataframe tbody tr th {\n",
       "        vertical-align: top;\n",
       "    }\n",
       "\n",
       "    .dataframe thead th {\n",
       "        text-align: right;\n",
       "    }\n",
       "</style>\n",
       "<table border=\"1\" class=\"dataframe\">\n",
       "  <thead>\n",
       "    <tr style=\"text-align: right;\">\n",
       "      <th></th>\n",
       "      <th>Title</th>\n",
       "      <th>Year</th>\n",
       "      <th>IMDb Rating</th>\n",
       "      <th>Certificates</th>\n",
       "      <th>Genre</th>\n",
       "      <th>Director</th>\n",
       "      <th>Star Cast</th>\n",
       "      <th>MetaScore</th>\n",
       "      <th>Duration (minutes)</th>\n",
       "    </tr>\n",
       "  </thead>\n",
       "  <tbody>\n",
       "    <tr>\n",
       "      <th>90</th>\n",
       "      <td>Inside Out</td>\n",
       "      <td>2015</td>\n",
       "      <td>8.1</td>\n",
       "      <td>PG</td>\n",
       "      <td>Animation</td>\n",
       "      <td>Pete Docter</td>\n",
       "      <td>Pete DocterRonnie Del CarmenMeg LeFauve</td>\n",
       "      <td>94.0</td>\n",
       "      <td>95.0</td>\n",
       "    </tr>\n",
       "    <tr>\n",
       "      <th>132</th>\n",
       "      <td>Monsters, Inc.</td>\n",
       "      <td>2001</td>\n",
       "      <td>8.1</td>\n",
       "      <td>G</td>\n",
       "      <td>Animation</td>\n",
       "      <td>Pete Docter</td>\n",
       "      <td>Pete DocterJill CultonJeff Pidgeon</td>\n",
       "      <td>79.0</td>\n",
       "      <td>92.0</td>\n",
       "    </tr>\n",
       "    <tr>\n",
       "      <th>233</th>\n",
       "      <td>Toy Story</td>\n",
       "      <td>1995</td>\n",
       "      <td>8.3</td>\n",
       "      <td>G</td>\n",
       "      <td>Animation</td>\n",
       "      <td>John Lasseter</td>\n",
       "      <td>John LasseterPete DocterAndrew Stanton</td>\n",
       "      <td>96.0</td>\n",
       "      <td>81.0</td>\n",
       "    </tr>\n",
       "    <tr>\n",
       "      <th>241</th>\n",
       "      <td>Up</td>\n",
       "      <td>2009</td>\n",
       "      <td>8.3</td>\n",
       "      <td>PG</td>\n",
       "      <td>Animation</td>\n",
       "      <td>Pete Docter</td>\n",
       "      <td>Pete DocterBob PetersonTom McCarthy</td>\n",
       "      <td>88.0</td>\n",
       "      <td>96.0</td>\n",
       "    </tr>\n",
       "    <tr>\n",
       "      <th>243</th>\n",
       "      <td>WALL·E</td>\n",
       "      <td>2008</td>\n",
       "      <td>8.4</td>\n",
       "      <td>G</td>\n",
       "      <td>Animation</td>\n",
       "      <td>Andrew Stanton</td>\n",
       "      <td>Andrew StantonPete DocterJim Reardon</td>\n",
       "      <td>95.0</td>\n",
       "      <td>98.0</td>\n",
       "    </tr>\n",
       "  </tbody>\n",
       "</table>\n",
       "</div>"
      ],
      "text/plain": [
       "              Title  Year  IMDb Rating Certificates      Genre  \\\n",
       "90       Inside Out  2015          8.1           PG  Animation   \n",
       "132  Monsters, Inc.  2001          8.1            G  Animation   \n",
       "233       Toy Story  1995          8.3            G  Animation   \n",
       "241              Up  2009          8.3           PG  Animation   \n",
       "243          WALL·E  2008          8.4            G  Animation   \n",
       "\n",
       "           Director                                Star Cast  MetaScore  \\\n",
       "90      Pete Docter  Pete DocterRonnie Del CarmenMeg LeFauve       94.0   \n",
       "132     Pete Docter       Pete DocterJill CultonJeff Pidgeon       79.0   \n",
       "233   John Lasseter   John LasseterPete DocterAndrew Stanton       96.0   \n",
       "241     Pete Docter      Pete DocterBob PetersonTom McCarthy       88.0   \n",
       "243  Andrew Stanton     Andrew StantonPete DocterJim Reardon       95.0   \n",
       "\n",
       "     Duration (minutes)  \n",
       "90                 95.0  \n",
       "132                92.0  \n",
       "233                81.0  \n",
       "241                96.0  \n",
       "243                98.0  "
      ]
     },
     "execution_count": 172,
     "metadata": {},
     "output_type": "execute_result"
    }
   ],
   "source": [
    "# You're NOT required to do this, but you should – it's fun!\n",
    "# BEGIN SOLUTION\n",
    "imdb[imdb['Star Cast'].str.contains('Pete Docter')]\n",
    "# END SOLUTION"
   ]
  },
  {
   "cell_type": "markdown",
   "id": "2e6a157a",
   "metadata": {},
   "source": [
    "### Question 8: Diving Deeper\n",
    "\n",
    "To wrap up, let's revisit the larger DataFrame to answer a few more involved questions. Make sure your functions don't make in-place modifications to the input DataFrames!"
   ]
  },
  {
   "cell_type": "markdown",
   "id": "a5e66fdb",
   "metadata": {},
   "source": [
    "#### Question 8.1: Longest Title  <div style=\"display:inline-block; vertical-align: middle; padding:7px 7px; font-size:10px; font-weight:light; color:white; background-color:#e84c4a; border-radius:7px; text-align:left;\">3 Points</div>\n",
    "\n",
    "Complete the implementation of the function `longest_title`, which takes in a DataFrame `df` and returns the longest movie `'Title'`. Assume that `df` has the same 9 column titles as `imdb`, with the same data types, but potentially a different number of rows in a different order, with a potentially different index. Assume that `df` has at least one row, and assume there are no ties. Example behavior is given below.\n",
    "\n",
    "```python\n",
    "# Remember, imdb.head(5) is a DataFrame with just the first 5 rows of imdb.\n",
    ">>> longest_title(imdb.head(5))\n",
    "'10 Things I Hate About You'\n",
    "```"
   ]
  },
  {
   "cell_type": "code",
   "execution_count": 186,
   "id": "de111ca1",
   "metadata": {
    "tags": []
   },
   "outputs": [
    {
     "data": {
      "text/plain": [
       "'10 Things I Hate About You'"
      ]
     },
     "execution_count": 186,
     "metadata": {},
     "output_type": "execute_result"
    }
   ],
   "source": [
    "def longest_title(df):\n",
    "    return (\n",
    "        df.loc[\n",
    "            df['Title'].str.len().idxmax(),\n",
    "            'Title'\n",
    "        ]\n",
    "    )\n",
    "\n",
    "# Feel free to change this input to make sure your function works correctly.\n",
    "longest_title(imdb.head(5))"
   ]
  },
  {
   "cell_type": "code",
   "execution_count": 187,
   "id": "3316cc66",
   "metadata": {
    "deletable": false,
    "editable": false
   },
   "outputs": [
    {
     "data": {
      "text/html": [
       "<p><strong><pre style='display: inline;'>q08_1</pre></strong> passed!</p>"
      ],
      "text/plain": [
       "q08_1 results: All test cases passed!"
      ]
     },
     "execution_count": 187,
     "metadata": {},
     "output_type": "execute_result"
    }
   ],
   "source": [
    "grader.check(\"q08_1\")"
   ]
  },
  {
   "cell_type": "markdown",
   "id": "055038fc",
   "metadata": {},
   "source": [
    "Once you've implemented `longest_title`, run the cell below to see the longest movie title in `imdb`."
   ]
  },
  {
   "cell_type": "code",
   "execution_count": 188,
   "id": "95b2d625",
   "metadata": {},
   "outputs": [
    {
     "data": {
      "text/plain": [
       "'The Chronicles of Narnia: The Lion, the Witch and the Wardrobe'"
      ]
     },
     "execution_count": 188,
     "metadata": {},
     "output_type": "execute_result"
    }
   ],
   "source": [
    "longest_title(imdb)"
   ]
  },
  {
   "cell_type": "markdown",
   "id": "85c7ca9e",
   "metadata": {},
   "source": [
    "#### Question 8.2: Outliers  <div style=\"display:inline-block; vertical-align: middle; padding:7px 7px; font-size:10px; font-weight:light; color:white; background-color:#e84c4a; border-radius:7px; text-align:left;\">3 Points</div>\n",
    "\n",
    "Typically, it seems that `'IMDb Rating'`, which are determined by user ratings, and `'MetaScore'` ratings, which are weighted averages of scores given by trusted movie critics, are correlated. That is, movies with high `'IMDb Rating'`s tend to have high `'MetaScore'` ratings, and movies with low `'IMDb Rating'`s tend to have low `'MetaScore'` ratings. We can see this trend in the following scatter plot. Hover over points to see the names of the movies."
   ]
  },
  {
   "cell_type": "code",
   "execution_count": 189,
   "id": "de716849",
   "metadata": {},
   "outputs": [
    {
     "data": {
      "application/vnd.plotly.v1+json": {
       "config": {
        "plotlyServerURL": "https://plot.ly"
       },
       "data": [
        {
         "hovertemplate": "<b>%{hovertext}</b><br><br>IMDb Rating=%{x}<br>MetaScore=%{y}<extra></extra>",
         "hovertext": [
          "10 Things I Hate About You",
          "12 Angry Men",
          "28 Days Later",
          "A Quiet Place",
          "A Quiet Place: Day One",
          "A Serbian Film",
          "A Simple Favor",
          "Abigail",
          "Alien",
          "Alien: Romulus",
          "American Fiction",
          "Anatomy of a Fall",
          "Animal",
          "Anora",
          "Anyone But You",
          "Arcadian",
          "Argylle",
          "Arthur the King",
          "Atlas",
          "Avengers: Endgame",
          "Babes",
          "Baby Driver",
          "Bad Boys: Ride or Die",
          "Barbarian",
          "Barbie",
          "Beetlejuice",
          "Beetlejuice Beetlejuice",
          "Beverly Hills Cop",
          "Beverly Hills Cop: Axel F",
          "Blade Runner 2049",
          "Borderlands",
          "Boy Kills World",
          "Bullet Train",
          "Cars",
          "Castle in the Sky",
          "Charlie and the Chocolate Factory",
          "Civil War",
          "Coco",
          "Crew",
          "Damsel",
          "Dawn of the Planet of the Apes",
          "Deadpool",
          "Deadpool & Wolverine",
          "Deadpool 2",
          "Descendants: The Rise of Red",
          "Despicable Me 4",
          "Disturbia",
          "Dream Scenario",
          "Dune",
          "Dune",
          "Dune: Part Two",
          "Elemental",
          "Emilia Perez",
          "Encanto",
          "Exhuma",
          "Finding Nemo",
          "Five Nights at Freddy's",
          "Force of Nature: The Dry 2",
          "Frozen",
          "Furiosa: A Mad Max Saga",
          "Garfield: The Movie",
          "Ghostbusters",
          "Ghostbusters: Afterlife",
          "Ghostbusters: Frozen Empire",
          "Gladiator",
          "Glass",
          "Godzilla Minus One",
          "Godzilla vs. Kong",
          "Godzilla x Kong: The New Empire",
          "Golden Kamuy",
          "Goodfellas",
          "Harold and the Purple Crayon",
          "Harry Potter and the Chamber of Secrets",
          "Harry Potter and the Deathly Hallows: Part 2",
          "Harry Potter and the Goblet of Fire",
          "Harry Potter and the Prisoner of Azkaban",
          "Harry Potter and the Sorcerer's Stone",
          "Heat",
          "Her",
          "Hercules",
          "Hereditary",
          "Hit Man",
          "Howl's Moving Castle",
          "I Saw the TV Glow",
          "IF",
          "Immaculate",
          "In a Violent Nature",
          "In the Land of Saints and Sinners",
          "Inception",
          "Inglourious Basterds",
          "Inside Out",
          "Inside Out 2",
          "Interstellar",
          "It",
          "John Wick: Chapter 4",
          "Joker",
          "Jumanji",
          "Jurassic Park",
          "Kill Bill: Vol. 1",
          "Killers of the Flower Moon",
          "Kinds of Kindness",
          "Kingdom of the Planet of the Apes",
          "Kung Fu Panda",
          "Kung Fu Panda 4",
          "Laapataa Ladies",
          "Land of Bad",
          "Late Night with the Devil",
          "Lisa Frankenstein",
          "Longlegs",
          "Love Lies Bleeding",
          "Léon: The Professional",
          "MaXXXine",
          "Mad Max",
          "Mad Max 2: The Road Warrior",
          "Mad Max Beyond Thunderdome",
          "Mad Max: Fury Road",
          "Madame Web",
          "Madgaon Express",
          "Mandy",
          "Manjummel Boys",
          "Mars Express",
          "Megalopolis",
          "Midsommar",
          "Migration",
          "Miller's Girl",
          "Minecraft",
          "Miss Peregrine's Home for Peculiar Children",
          "Mission: Impossible - Dead Reckoning Part One",
          "Moana",
          "Moana 2",
          "Monkey Man",
          "Monster",
          "Monsters, Inc.",
          "Mother of the Bride",
          "Mothers' Instinct",
          "Mufasa: The Lion King",
          "No Country for Old Men",
          "No Hard Feelings",
          "Nope",
          "Nosferatu",
          "Once Upon a Time... in Hollywood",
          "Pearl",
          "Planet of the Apes",
          "Planet of the Apes",
          "Poor Things",
          "Prisoners",
          "Pulp Fiction",
          "Puss in Boots: The Last Wish",
          "Ratatouille",
          "Rebel Moon - Part One: A Child of Fire",
          "Rebel Moon - Part Two: The Scargiver",
          "Red, White & Royal Blue",
          "Rise of the Planet of the Apes",
          "Road House",
          "Saltburn",
          "Sasquatch Sunset",
          "Se7en",
          "Seize Them!",
          "Shaitaan",
          "Shrek",
          "Shrek 2",
          "Sicario",
          "Sing",
          "Sing 2",
          "Smile",
          "Sonic the Hedgehog 3",
          "Spider-Man: Across the Spider-Verse",
          "Spider-Man: Beyond the Spider-Verse",
          "Spider-Man: Into the Spider-Verse",
          "Spider-Man: No Way Home",
          "Spirited Away",
          "Split",
          "Star Wars: Episode I - The Phantom Menace",
          "Stardust",
          "Sting",
          "Talk to Me",
          "Tangled",
          "Tarot",
          "Taxi Driver",
          "Teenage Mutant Ninja Turtles: Mutant Mayhem",
          "The Batman",
          "The Beekeeper",
          "The Bikeriders",
          "The Boy and the Heron",
          "The Chronicles of Narnia: The Lion, the Witch and the Wardrobe",
          "The Coffee Table",
          "The Courier",
          "The Crow",
          "The Crow",
          "The Dark Knight",
          "The Dead Don't Die",
          "The Departed",
          "The Equalizer",
          "The Equalizer 3",
          "The Fall Guy",
          "The Fifth Element",
          "The First Omen",
          "The Garfield Movie",
          "The Gentlemen",
          "The Godfather",
          "The Goonies",
          "The Green Mile",
          "The Holdovers",
          "The Hunger Games",
          "The Hunger Games: The Ballad of Songbirds & Snakes",
          "The Idea of You",
          "The Incredibles",
          "The Invitation",
          "The Judge",
          "The Killing of a Sacred Deer",
          "The Last Stop in Yuma County",
          "The Lion King",
          "The Lion King",
          "The Little Mermaid",
          "The Lord of the Rings: The Fellowship of the Ring",
          "The Lord of the Rings: The War of the Rohirrim",
          "The Matrix",
          "The Menu",
          "The Outsiders",
          "The Princess Bride",
          "The Prodigy",
          "The Sandlot",
          "The Silence of the Lambs",
          "The Strangers",
          "The Strangers: Chapter 1",
          "The Substance",
          "The Super Mario Bros. Movie",
          "The Surfer",
          "The Talented Mr. Ripley",
          "The Watchers",
          "The Wizard of Oz",
          "The Wolf of Wall Street",
          "Thelma the Unicorn",
          "Toy Story",
          "Transformers One",
          "Trigger Warning",
          "Trolls Band Together",
          "Twister",
          "Twisters",
          "Unfrosted",
          "Unsung Hero",
          "Up",
          "Upgrade",
          "WALL·E",
          "War for the Planet of the Apes",
          "We're the Millers",
          "Where the Crawdads Sing",
          "Wicked Little Letters",
          "Willy Wonka & the Chocolate Factory",
          "Wish",
          "Wonka",
          "X",
          "You Can't Run Forever",
          "Your Name.",
          "Zootopia"
         ],
         "legendgroup": "",
         "marker": {
          "color": "#1F77B4",
          "symbol": "circle"
         },
         "mode": "markers",
         "name": "",
         "orientation": "v",
         "showlegend": false,
         "type": "scatter",
         "x": [
          7.3,
          9,
          7.5,
          7.5,
          7.1,
          5,
          6.8,
          6.7,
          8.5,
          7.1,
          7.5,
          7.7,
          6.2,
          7.9,
          6.1,
          5.5,
          5.7,
          7,
          5.6,
          8.4,
          6.5,
          7.5,
          7.1,
          7,
          6.8,
          7.5,
          7.1,
          7.4,
          7.1,
          8,
          7.1,
          6.5,
          7.3,
          7.2,
          8,
          6.7,
          7.4,
          8.4,
          6.1,
          6.1,
          7.6,
          8,
          7.1,
          7.6,
          7.1,
          7.1,
          6.8,
          6.9,
          6.3,
          8,
          8.6,
          7,
          7.2,
          7.2,
          7,
          8.2,
          5.5,
          6,
          7.4,
          7.9,
          5,
          7.8,
          7,
          6.2,
          8.5,
          6.6,
          7.9,
          6.3,
          6.2,
          6.4,
          8.7,
          7.1,
          7.4,
          8.1,
          7.7,
          7.9,
          7.6,
          8.3,
          8,
          7.3,
          7.3,
          7.4,
          8.2,
          6.9,
          6.7,
          5.8,
          5.7,
          6.3,
          8.8,
          8.4,
          8.1,
          7.1,
          8.7,
          7.3,
          7.7,
          8.4,
          7.1,
          8.2,
          8.2,
          7.6,
          7,
          7.2,
          7.6,
          6.3,
          8.5,
          6.5,
          7.1,
          6.1,
          7.1,
          6.7,
          8.5,
          7.1,
          6.8,
          7.6,
          6.2,
          8.1,
          3.9,
          7.2,
          6.5,
          8.4,
          7.5,
          7,
          7.1,
          6.7,
          5.2,
          7.1,
          6.7,
          7.7,
          7.6,
          7.1,
          6.9,
          4.6,
          8.1,
          4.8,
          6.3,
          7.1,
          8.2,
          6.4,
          6.8,
          7.1,
          7.6,
          7,
          8,
          5.7,
          7.9,
          8.2,
          8.9,
          7.8,
          8.1,
          5.6,
          5.2,
          7,
          7.6,
          6.2,
          7,
          5.6,
          8.6,
          5,
          6.7,
          7.9,
          7.3,
          7.7,
          7.1,
          7.3,
          6.5,
          7.1,
          8.6,
          7.1,
          8.4,
          8.2,
          8.6,
          7.3,
          6.5,
          7.6,
          5.7,
          7.1,
          7.7,
          4.9,
          8.2,
          7.2,
          7.8,
          6.4,
          7.5,
          7.6,
          6.9,
          6.8,
          6,
          7.5,
          7.1,
          9,
          5.5,
          8.5,
          7.2,
          6.8,
          7.1,
          7.6,
          6.7,
          5.9,
          7.8,
          9.2,
          7.7,
          8.6,
          7.9,
          7.2,
          6.7,
          6.4,
          8,
          5.3,
          7.4,
          7,
          7,
          8.5,
          6.8,
          7.2,
          8.9,
          7.1,
          8.7,
          7.2,
          7,
          8,
          5.9,
          7.8,
          8.6,
          6.1,
          5,
          8,
          7,
          7.4,
          7.4,
          7.1,
          8.1,
          8.2,
          5.8,
          8.3,
          7.1,
          7.1,
          6,
          6.5,
          7.1,
          5.5,
          7.8,
          8.3,
          7.5,
          8.4,
          7.4,
          7,
          7.2,
          7,
          7.8,
          5.6,
          7,
          6.5,
          4.4,
          8.4,
          8
         ],
         "xaxis": "x",
         "y": [
          70,
          97,
          73,
          82,
          66.9,
          66.9,
          67,
          62,
          89,
          66.9,
          81,
          86,
          33,
          89,
          52,
          60,
          35,
          54,
          37,
          78,
          74,
          86,
          66.9,
          78,
          80,
          71,
          66.9,
          66,
          66.9,
          81,
          66.9,
          47,
          49,
          73,
          78,
          72,
          75,
          81,
          66.9,
          46,
          79,
          65,
          66.9,
          66,
          66.9,
          66.9,
          62,
          74,
          41,
          74,
          79,
          58,
          70,
          75,
          66.9,
          90,
          33,
          58,
          75,
          79,
          27,
          71,
          45,
          46,
          67,
          43,
          81,
          59,
          47,
          66.9,
          92,
          66.9,
          63,
          85,
          81,
          82,
          65,
          76,
          91,
          74,
          87,
          83,
          82,
          84,
          46,
          57,
          65,
          60,
          74,
          69,
          94,
          66.9,
          74,
          69,
          78,
          59,
          39,
          68,
          69,
          89,
          72,
          66,
          74,
          54,
          66.9,
          57,
          72,
          47,
          66.9,
          77,
          64,
          66.9,
          73,
          77,
          71,
          90,
          26,
          66.9,
          83,
          66.9,
          76,
          58,
          72,
          56,
          41,
          66.9,
          57,
          81,
          81,
          66.9,
          70,
          66.9,
          79,
          39,
          46,
          66.9,
          92,
          59,
          77,
          66.9,
          84,
          76,
          79,
          50,
          88,
          70,
          95,
          73,
          96,
          31,
          35,
          62,
          68,
          57,
          61,
          65,
          65,
          44,
          66.9,
          84,
          75,
          82,
          59,
          49,
          68,
          66.9,
          86,
          66.9,
          87,
          71,
          96,
          63,
          51,
          66,
          57,
          76,
          71,
          36,
          94,
          74,
          72,
          53,
          73,
          91,
          75,
          72,
          66.9,
          71,
          66.9,
          84,
          53,
          85,
          57,
          58,
          73,
          52,
          65,
          31,
          51,
          100,
          62,
          61,
          82,
          68,
          54,
          67,
          90,
          45,
          48,
          73,
          72,
          88,
          55,
          59,
          92,
          66.9,
          73,
          71,
          45,
          78,
          45,
          55,
          86,
          47,
          43,
          83,
          46,
          69,
          76,
          66.9,
          92,
          75,
          64,
          96,
          66.9,
          66.9,
          53,
          68,
          66.9,
          42,
          46,
          88,
          67,
          95,
          82,
          44,
          43,
          58,
          67,
          47,
          66,
          80,
          66.9,
          81,
          78
         ],
         "yaxis": "y"
        }
       ],
       "layout": {
        "height": 600,
        "legend": {
         "tracegroupgap": 0
        },
        "template": {
         "data": {
          "bar": [
           {
            "error_x": {
             "color": "rgb(36,36,36)"
            },
            "error_y": {
             "color": "rgb(36,36,36)"
            },
            "marker": {
             "line": {
              "color": "white",
              "width": 0.5
             },
             "pattern": {
              "fillmode": "overlay",
              "size": 10,
              "solidity": 0.2
             }
            },
            "type": "bar"
           }
          ],
          "barpolar": [
           {
            "marker": {
             "line": {
              "color": "white",
              "width": 0.5
             },
             "pattern": {
              "fillmode": "overlay",
              "size": 10,
              "solidity": 0.2
             }
            },
            "type": "barpolar"
           }
          ],
          "carpet": [
           {
            "aaxis": {
             "endlinecolor": "rgb(36,36,36)",
             "gridcolor": "white",
             "linecolor": "white",
             "minorgridcolor": "white",
             "startlinecolor": "rgb(36,36,36)"
            },
            "baxis": {
             "endlinecolor": "rgb(36,36,36)",
             "gridcolor": "white",
             "linecolor": "white",
             "minorgridcolor": "white",
             "startlinecolor": "rgb(36,36,36)"
            },
            "type": "carpet"
           }
          ],
          "choropleth": [
           {
            "colorbar": {
             "outlinewidth": 1,
             "tickcolor": "rgb(36,36,36)",
             "ticks": "outside"
            },
            "type": "choropleth"
           }
          ],
          "contour": [
           {
            "colorbar": {
             "outlinewidth": 1,
             "tickcolor": "rgb(36,36,36)",
             "ticks": "outside"
            },
            "colorscale": [
             [
              0,
              "#440154"
             ],
             [
              0.1111111111111111,
              "#482878"
             ],
             [
              0.2222222222222222,
              "#3e4989"
             ],
             [
              0.3333333333333333,
              "#31688e"
             ],
             [
              0.4444444444444444,
              "#26828e"
             ],
             [
              0.5555555555555556,
              "#1f9e89"
             ],
             [
              0.6666666666666666,
              "#35b779"
             ],
             [
              0.7777777777777778,
              "#6ece58"
             ],
             [
              0.8888888888888888,
              "#b5de2b"
             ],
             [
              1,
              "#fde725"
             ]
            ],
            "type": "contour"
           }
          ],
          "contourcarpet": [
           {
            "colorbar": {
             "outlinewidth": 1,
             "tickcolor": "rgb(36,36,36)",
             "ticks": "outside"
            },
            "type": "contourcarpet"
           }
          ],
          "heatmap": [
           {
            "colorbar": {
             "outlinewidth": 1,
             "tickcolor": "rgb(36,36,36)",
             "ticks": "outside"
            },
            "colorscale": [
             [
              0,
              "#440154"
             ],
             [
              0.1111111111111111,
              "#482878"
             ],
             [
              0.2222222222222222,
              "#3e4989"
             ],
             [
              0.3333333333333333,
              "#31688e"
             ],
             [
              0.4444444444444444,
              "#26828e"
             ],
             [
              0.5555555555555556,
              "#1f9e89"
             ],
             [
              0.6666666666666666,
              "#35b779"
             ],
             [
              0.7777777777777778,
              "#6ece58"
             ],
             [
              0.8888888888888888,
              "#b5de2b"
             ],
             [
              1,
              "#fde725"
             ]
            ],
            "type": "heatmap"
           }
          ],
          "heatmapgl": [
           {
            "colorbar": {
             "outlinewidth": 1,
             "tickcolor": "rgb(36,36,36)",
             "ticks": "outside"
            },
            "colorscale": [
             [
              0,
              "#440154"
             ],
             [
              0.1111111111111111,
              "#482878"
             ],
             [
              0.2222222222222222,
              "#3e4989"
             ],
             [
              0.3333333333333333,
              "#31688e"
             ],
             [
              0.4444444444444444,
              "#26828e"
             ],
             [
              0.5555555555555556,
              "#1f9e89"
             ],
             [
              0.6666666666666666,
              "#35b779"
             ],
             [
              0.7777777777777778,
              "#6ece58"
             ],
             [
              0.8888888888888888,
              "#b5de2b"
             ],
             [
              1,
              "#fde725"
             ]
            ],
            "type": "heatmapgl"
           }
          ],
          "histogram": [
           {
            "marker": {
             "line": {
              "color": "white",
              "width": 0.6
             }
            },
            "type": "histogram"
           }
          ],
          "histogram2d": [
           {
            "colorbar": {
             "outlinewidth": 1,
             "tickcolor": "rgb(36,36,36)",
             "ticks": "outside"
            },
            "colorscale": [
             [
              0,
              "#440154"
             ],
             [
              0.1111111111111111,
              "#482878"
             ],
             [
              0.2222222222222222,
              "#3e4989"
             ],
             [
              0.3333333333333333,
              "#31688e"
             ],
             [
              0.4444444444444444,
              "#26828e"
             ],
             [
              0.5555555555555556,
              "#1f9e89"
             ],
             [
              0.6666666666666666,
              "#35b779"
             ],
             [
              0.7777777777777778,
              "#6ece58"
             ],
             [
              0.8888888888888888,
              "#b5de2b"
             ],
             [
              1,
              "#fde725"
             ]
            ],
            "type": "histogram2d"
           }
          ],
          "histogram2dcontour": [
           {
            "colorbar": {
             "outlinewidth": 1,
             "tickcolor": "rgb(36,36,36)",
             "ticks": "outside"
            },
            "colorscale": [
             [
              0,
              "#440154"
             ],
             [
              0.1111111111111111,
              "#482878"
             ],
             [
              0.2222222222222222,
              "#3e4989"
             ],
             [
              0.3333333333333333,
              "#31688e"
             ],
             [
              0.4444444444444444,
              "#26828e"
             ],
             [
              0.5555555555555556,
              "#1f9e89"
             ],
             [
              0.6666666666666666,
              "#35b779"
             ],
             [
              0.7777777777777778,
              "#6ece58"
             ],
             [
              0.8888888888888888,
              "#b5de2b"
             ],
             [
              1,
              "#fde725"
             ]
            ],
            "type": "histogram2dcontour"
           }
          ],
          "mesh3d": [
           {
            "colorbar": {
             "outlinewidth": 1,
             "tickcolor": "rgb(36,36,36)",
             "ticks": "outside"
            },
            "type": "mesh3d"
           }
          ],
          "parcoords": [
           {
            "line": {
             "colorbar": {
              "outlinewidth": 1,
              "tickcolor": "rgb(36,36,36)",
              "ticks": "outside"
             }
            },
            "type": "parcoords"
           }
          ],
          "pie": [
           {
            "automargin": true,
            "type": "pie"
           }
          ],
          "scatter": [
           {
            "fillpattern": {
             "fillmode": "overlay",
             "size": 10,
             "solidity": 0.2
            },
            "type": "scatter"
           }
          ],
          "scatter3d": [
           {
            "line": {
             "colorbar": {
              "outlinewidth": 1,
              "tickcolor": "rgb(36,36,36)",
              "ticks": "outside"
             }
            },
            "marker": {
             "colorbar": {
              "outlinewidth": 1,
              "tickcolor": "rgb(36,36,36)",
              "ticks": "outside"
             }
            },
            "type": "scatter3d"
           }
          ],
          "scattercarpet": [
           {
            "marker": {
             "colorbar": {
              "outlinewidth": 1,
              "tickcolor": "rgb(36,36,36)",
              "ticks": "outside"
             }
            },
            "type": "scattercarpet"
           }
          ],
          "scattergeo": [
           {
            "marker": {
             "colorbar": {
              "outlinewidth": 1,
              "tickcolor": "rgb(36,36,36)",
              "ticks": "outside"
             }
            },
            "type": "scattergeo"
           }
          ],
          "scattergl": [
           {
            "marker": {
             "colorbar": {
              "outlinewidth": 1,
              "tickcolor": "rgb(36,36,36)",
              "ticks": "outside"
             }
            },
            "type": "scattergl"
           }
          ],
          "scattermapbox": [
           {
            "marker": {
             "colorbar": {
              "outlinewidth": 1,
              "tickcolor": "rgb(36,36,36)",
              "ticks": "outside"
             }
            },
            "type": "scattermapbox"
           }
          ],
          "scatterpolar": [
           {
            "marker": {
             "colorbar": {
              "outlinewidth": 1,
              "tickcolor": "rgb(36,36,36)",
              "ticks": "outside"
             }
            },
            "type": "scatterpolar"
           }
          ],
          "scatterpolargl": [
           {
            "marker": {
             "colorbar": {
              "outlinewidth": 1,
              "tickcolor": "rgb(36,36,36)",
              "ticks": "outside"
             }
            },
            "type": "scatterpolargl"
           }
          ],
          "scatterternary": [
           {
            "marker": {
             "colorbar": {
              "outlinewidth": 1,
              "tickcolor": "rgb(36,36,36)",
              "ticks": "outside"
             }
            },
            "type": "scatterternary"
           }
          ],
          "surface": [
           {
            "colorbar": {
             "outlinewidth": 1,
             "tickcolor": "rgb(36,36,36)",
             "ticks": "outside"
            },
            "colorscale": [
             [
              0,
              "#440154"
             ],
             [
              0.1111111111111111,
              "#482878"
             ],
             [
              0.2222222222222222,
              "#3e4989"
             ],
             [
              0.3333333333333333,
              "#31688e"
             ],
             [
              0.4444444444444444,
              "#26828e"
             ],
             [
              0.5555555555555556,
              "#1f9e89"
             ],
             [
              0.6666666666666666,
              "#35b779"
             ],
             [
              0.7777777777777778,
              "#6ece58"
             ],
             [
              0.8888888888888888,
              "#b5de2b"
             ],
             [
              1,
              "#fde725"
             ]
            ],
            "type": "surface"
           }
          ],
          "table": [
           {
            "cells": {
             "fill": {
              "color": "rgb(237,237,237)"
             },
             "line": {
              "color": "white"
             }
            },
            "header": {
             "fill": {
              "color": "rgb(217,217,217)"
             },
             "line": {
              "color": "white"
             }
            },
            "type": "table"
           }
          ]
         },
         "layout": {
          "annotationdefaults": {
           "arrowhead": 0,
           "arrowwidth": 1
          },
          "autosize": true,
          "autotypenumbers": "strict",
          "coloraxis": {
           "colorbar": {
            "outlinewidth": 1,
            "tickcolor": "rgb(36,36,36)",
            "ticks": "outside"
           }
          },
          "colorscale": {
           "diverging": [
            [
             0,
             "rgb(103,0,31)"
            ],
            [
             0.1,
             "rgb(178,24,43)"
            ],
            [
             0.2,
             "rgb(214,96,77)"
            ],
            [
             0.3,
             "rgb(244,165,130)"
            ],
            [
             0.4,
             "rgb(253,219,199)"
            ],
            [
             0.5,
             "rgb(247,247,247)"
            ],
            [
             0.6,
             "rgb(209,229,240)"
            ],
            [
             0.7,
             "rgb(146,197,222)"
            ],
            [
             0.8,
             "rgb(67,147,195)"
            ],
            [
             0.9,
             "rgb(33,102,172)"
            ],
            [
             1,
             "rgb(5,48,97)"
            ]
           ],
           "sequential": [
            [
             0,
             "#440154"
            ],
            [
             0.1111111111111111,
             "#482878"
            ],
            [
             0.2222222222222222,
             "#3e4989"
            ],
            [
             0.3333333333333333,
             "#31688e"
            ],
            [
             0.4444444444444444,
             "#26828e"
            ],
            [
             0.5555555555555556,
             "#1f9e89"
            ],
            [
             0.6666666666666666,
             "#35b779"
            ],
            [
             0.7777777777777778,
             "#6ece58"
            ],
            [
             0.8888888888888888,
             "#b5de2b"
            ],
            [
             1,
             "#fde725"
            ]
           ],
           "sequentialminus": [
            [
             0,
             "#440154"
            ],
            [
             0.1111111111111111,
             "#482878"
            ],
            [
             0.2222222222222222,
             "#3e4989"
            ],
            [
             0.3333333333333333,
             "#31688e"
            ],
            [
             0.4444444444444444,
             "#26828e"
            ],
            [
             0.5555555555555556,
             "#1f9e89"
            ],
            [
             0.6666666666666666,
             "#35b779"
            ],
            [
             0.7777777777777778,
             "#6ece58"
            ],
            [
             0.8888888888888888,
             "#b5de2b"
            ],
            [
             1,
             "#fde725"
            ]
           ]
          },
          "colorway": [
           "#1F77B4",
           "#FF7F0E",
           "#2CA02C",
           "#D62728",
           "#9467BD",
           "#8C564B",
           "#E377C2",
           "#7F7F7F",
           "#BCBD22",
           "#17BECF"
          ],
          "font": {
           "color": "rgb(36,36,36)"
          },
          "geo": {
           "bgcolor": "white",
           "lakecolor": "white",
           "landcolor": "white",
           "showlakes": true,
           "showland": true,
           "subunitcolor": "white"
          },
          "height": 400,
          "hoverlabel": {
           "align": "left"
          },
          "hovermode": "closest",
          "mapbox": {
           "style": "light"
          },
          "margin": {
           "b": 30,
           "l": 30,
           "r": 30,
           "t": 30
          },
          "paper_bgcolor": "white",
          "plot_bgcolor": "white",
          "polar": {
           "angularaxis": {
            "gridcolor": "rgb(232,232,232)",
            "linecolor": "rgb(36,36,36)",
            "showgrid": false,
            "showline": true,
            "ticks": "outside"
           },
           "bgcolor": "white",
           "radialaxis": {
            "gridcolor": "rgb(232,232,232)",
            "linecolor": "rgb(36,36,36)",
            "showgrid": false,
            "showline": true,
            "ticks": "outside"
           }
          },
          "scene": {
           "xaxis": {
            "backgroundcolor": "white",
            "gridcolor": "rgb(232,232,232)",
            "gridwidth": 2,
            "linecolor": "rgb(36,36,36)",
            "showbackground": true,
            "showgrid": false,
            "showline": true,
            "ticks": "outside",
            "zeroline": false,
            "zerolinecolor": "rgb(36,36,36)"
           },
           "yaxis": {
            "backgroundcolor": "white",
            "gridcolor": "rgb(232,232,232)",
            "gridwidth": 2,
            "linecolor": "rgb(36,36,36)",
            "showbackground": true,
            "showgrid": false,
            "showline": true,
            "ticks": "outside",
            "zeroline": false,
            "zerolinecolor": "rgb(36,36,36)"
           },
           "zaxis": {
            "backgroundcolor": "white",
            "gridcolor": "rgb(232,232,232)",
            "gridwidth": 2,
            "linecolor": "rgb(36,36,36)",
            "showbackground": true,
            "showgrid": false,
            "showline": true,
            "ticks": "outside",
            "zeroline": false,
            "zerolinecolor": "rgb(36,36,36)"
           }
          },
          "shapedefaults": {
           "fillcolor": "black",
           "line": {
            "width": 0
           },
           "opacity": 0.3
          },
          "ternary": {
           "aaxis": {
            "gridcolor": "rgb(232,232,232)",
            "linecolor": "rgb(36,36,36)",
            "showgrid": false,
            "showline": true,
            "ticks": "outside"
           },
           "baxis": {
            "gridcolor": "rgb(232,232,232)",
            "linecolor": "rgb(36,36,36)",
            "showgrid": false,
            "showline": true,
            "ticks": "outside"
           },
           "bgcolor": "white",
           "caxis": {
            "gridcolor": "rgb(232,232,232)",
            "linecolor": "rgb(36,36,36)",
            "showgrid": false,
            "showline": true,
            "ticks": "outside"
           }
          },
          "title": {
           "x": 0.5,
           "xanchor": "center"
          },
          "width": 600,
          "xaxis": {
           "automargin": true,
           "gridcolor": "rgb(232,232,232)",
           "linecolor": "rgb(36,36,36)",
           "showgrid": true,
           "showline": true,
           "ticks": "outside",
           "title": {
            "standoff": 15
           },
           "zeroline": false,
           "zerolinecolor": "rgb(36,36,36)"
          },
          "yaxis": {
           "automargin": true,
           "gridcolor": "rgb(232,232,232)",
           "linecolor": "rgb(36,36,36)",
           "showgrid": true,
           "showline": true,
           "ticks": "outside",
           "title": {
            "standoff": 15
           },
           "zeroline": false,
           "zerolinecolor": "rgb(36,36,36)"
          }
         }
        },
        "width": 800,
        "xaxis": {
         "anchor": "y",
         "domain": [
          0,
          1
         ],
         "title": {
          "text": "IMDb Rating"
         }
        },
        "yaxis": {
         "anchor": "x",
         "domain": [
          0,
          1
         ],
         "title": {
          "text": "MetaScore"
         }
        }
       }
      }
     },
     "metadata": {},
     "output_type": "display_data"
    }
   ],
   "source": [
    "imdb.plot(kind='scatter', x='IMDb Rating', y='MetaScore', hover_name='Title', width=800, height=600)"
   ]
  },
  {
   "cell_type": "markdown",
   "id": "1cc7ec26",
   "metadata": {},
   "source": [
    "As you can see, there are some outliers, i.e. movies that had relatively high `'MetaScore'`s but relatively low `'IMDb Rating'`s, or vice versa.\n",
    "\n",
    "We define the `'MetaScore'` to `'IMDb Rating'` ratio of a movie as follows:\n",
    "\n",
    "$$\\frac{\\text{Movie's MetaScore}}{\\text{Movie's IMDb Rating}}$$\n",
    "\n",
    "Complete the implementation of the function `metascore_to_rating_outlier`, which takes in a DataFrame `df` and returns the movie with the **largest** `'MetaScore'` to `'IMDb Rating'`. (Note that this is only one of the two types of outliers mentioned in the paragraph at the top of this cell, but use this definition in your solution.)\n",
    "\n",
    "Assume that `df` has the same 9 column titles as `imdb`, with the same data types, but potentially a different number of rows in a different order, with a potentially different index. Assume that `df` has at least one row, and assume there are no ties. Example behavior is given below.\n",
    "\n",
    "\n",
    "```python\n",
    ">>> metascore_to_rating_outlier(imdb.head(5))\n",
    "'A Quiet Place'\n",
    "```"
   ]
  },
  {
   "cell_type": "code",
   "execution_count": 195,
   "id": "e28591f8",
   "metadata": {
    "tags": []
   },
   "outputs": [
    {
     "data": {
      "text/plain": [
       "'A Quiet Place'"
      ]
     },
     "execution_count": 195,
     "metadata": {},
     "output_type": "execute_result"
    }
   ],
   "source": [
    "def metascore_to_rating_outlier(df):\n",
    "    return (\n",
    "        df.loc[\n",
    "            (df['MetaScore'] / df['IMDb Rating']).idxmax(),\n",
    "            'Title'\n",
    "        ]\n",
    "    )\n",
    "\n",
    "# Feel free to change this input to make sure your function works correctly.\n",
    "metascore_to_rating_outlier(imdb.head(5))"
   ]
  },
  {
   "cell_type": "code",
   "execution_count": 196,
   "id": "22c013ae",
   "metadata": {
    "deletable": false,
    "editable": false
   },
   "outputs": [
    {
     "data": {
      "text/html": [
       "<p><strong><pre style='display: inline;'>q08_2</pre></strong> passed!</p>"
      ],
      "text/plain": [
       "q08_2 results: All test cases passed!"
      ]
     },
     "execution_count": 196,
     "metadata": {},
     "output_type": "execute_result"
    }
   ],
   "source": [
    "grader.check(\"q08_2\")"
   ]
  },
  {
   "cell_type": "markdown",
   "id": "57c81699",
   "metadata": {},
   "source": [
    "#### Question 8.3: Recommended For Me <div style=\"display:inline-block; vertical-align: middle; padding:7px 7px; font-size:10px; font-weight:light; color:white; background-color:#e84c4a; border-radius:7px; text-align:left;\">3 Points</div>\n",
    "\n",
    "And finally, now that you're almost done Homework 2, it's time to find new movies in your favorite genre that the data thinks you might like.\n",
    "\n",
    "Complete the implementation of the function `genre_specific`, which takes in a DataFrame `df` and a string, `genre`, corresponding to a `'Genre'` in `imdb`. `genre_specific(df, genre)` should return a DataFrame that:\n",
    "- Contains all of the movies in `df` of `'Genre'` `genre` **released in 2024**. Assume `genre` is a valid value in `df['Genre']`.\n",
    "- Is sorted in descending order of `'IMDb Rating'`, with ties broken by `'MetaScore'` in descending order. Assume no two movies have both the same `'IMDb Rating'` and the same `'MetaScore'`. (There are a few cases where this happens, but you won't be tested on them in the hidden test cases.)\n",
    "- Is indexed by `'Title'`, and only has two columns: `'IMDb Rating'` and `'MetaScore'`.\n",
    "\n",
    "Example behavior is given below.\n",
    "\n",
    "```python\n",
    ">>> genre_specific(imdb, 'Horror')\n",
    "```\n",
    "\n",
    "<div style=\"text-align: left;\">\n",
    "  <table border=\"1\" class=\"dataframe\">\n",
    "    <thead>\n",
    "      <tr>\n",
    "        <th style=\"text-align: left;\"></th>\n",
    "        <th style=\"text-align: left;\">IMDb Rating</th>\n",
    "        <th style=\"text-align: left;\">MetaScore</th>\n",
    "      </tr>\n",
    "      <tr>\n",
    "        <th>Title</th>\n",
    "        <th></th>\n",
    "        <th></th>\n",
    "      </tr>\n",
    "    </thead>\n",
    "    <tbody>\n",
    "      <tr>\n",
    "        <th>Alien: Romulus</th>\n",
    "        <td>7.1</td>\n",
    "        <td>66.9</td>\n",
    "      </tr>\n",
    "      <tr>\n",
    "        <th>Exhuma</th>\n",
    "        <td>7.0</td>\n",
    "        <td>66.9</td>\n",
    "      </tr>\n",
    "      <tr>\n",
    "        <th>The First Omen</th>\n",
    "        <td>6.7</td>\n",
    "        <td>65.0</td>\n",
    "      </tr>\n",
    "      <tr>\n",
    "        <th>Abigail</th>\n",
    "        <td>6.7</td>\n",
    "        <td>62.0</td>\n",
    "      </tr>\n",
    "      <tr>\n",
    "        <th>Immaculate</th>\n",
    "        <td>5.8</td>\n",
    "        <td>57.0</td>\n",
    "      </tr>\n",
    "      <tr>\n",
    "        <th>Sting</th>\n",
    "        <td>5.7</td>\n",
    "        <td>57.0</td>\n",
    "      </tr>\n",
    "      <tr>\n",
    "        <th>The Strangers: Chapter 1</th>\n",
    "        <td>5.0</td>\n",
    "        <td>43.0</td>\n",
    "      </tr>\n",
    "      <tr>\n",
    "        <th>Tarot</th>\n",
    "        <td>4.9</td>\n",
    "        <td>36.0</td>\n",
    "      </tr>\n",
    "    </tbody>\n",
    "  </table>\n",
    "</div>\n"
   ]
  },
  {
   "cell_type": "code",
   "execution_count": 207,
   "id": "a719e622",
   "metadata": {
    "tags": []
   },
   "outputs": [
    {
     "data": {
      "text/html": [
       "<div>\n",
       "<style scoped>\n",
       "    .dataframe tbody tr th:only-of-type {\n",
       "        vertical-align: middle;\n",
       "    }\n",
       "\n",
       "    .dataframe tbody tr th {\n",
       "        vertical-align: top;\n",
       "    }\n",
       "\n",
       "    .dataframe thead th {\n",
       "        text-align: right;\n",
       "    }\n",
       "</style>\n",
       "<table border=\"1\" class=\"dataframe\">\n",
       "  <thead>\n",
       "    <tr style=\"text-align: right;\">\n",
       "      <th></th>\n",
       "      <th>IMDb Rating</th>\n",
       "      <th>MetaScore</th>\n",
       "    </tr>\n",
       "    <tr>\n",
       "      <th>Title</th>\n",
       "      <th></th>\n",
       "      <th></th>\n",
       "    </tr>\n",
       "  </thead>\n",
       "  <tbody>\n",
       "    <tr>\n",
       "      <th>Alien: Romulus</th>\n",
       "      <td>7.1</td>\n",
       "      <td>66.9</td>\n",
       "    </tr>\n",
       "    <tr>\n",
       "      <th>Exhuma</th>\n",
       "      <td>7.0</td>\n",
       "      <td>66.9</td>\n",
       "    </tr>\n",
       "    <tr>\n",
       "      <th>The First Omen</th>\n",
       "      <td>6.7</td>\n",
       "      <td>65.0</td>\n",
       "    </tr>\n",
       "    <tr>\n",
       "      <th>Abigail</th>\n",
       "      <td>6.7</td>\n",
       "      <td>62.0</td>\n",
       "    </tr>\n",
       "    <tr>\n",
       "      <th>Immaculate</th>\n",
       "      <td>5.8</td>\n",
       "      <td>57.0</td>\n",
       "    </tr>\n",
       "    <tr>\n",
       "      <th>Sting</th>\n",
       "      <td>5.7</td>\n",
       "      <td>57.0</td>\n",
       "    </tr>\n",
       "    <tr>\n",
       "      <th>The Strangers: Chapter 1</th>\n",
       "      <td>5.0</td>\n",
       "      <td>43.0</td>\n",
       "    </tr>\n",
       "    <tr>\n",
       "      <th>Tarot</th>\n",
       "      <td>4.9</td>\n",
       "      <td>36.0</td>\n",
       "    </tr>\n",
       "  </tbody>\n",
       "</table>\n",
       "</div>"
      ],
      "text/plain": [
       "                          IMDb Rating  MetaScore\n",
       "Title                                           \n",
       "Alien: Romulus                    7.1       66.9\n",
       "Exhuma                            7.0       66.9\n",
       "The First Omen                    6.7       65.0\n",
       "Abigail                           6.7       62.0\n",
       "Immaculate                        5.8       57.0\n",
       "Sting                             5.7       57.0\n",
       "The Strangers: Chapter 1          5.0       43.0\n",
       "Tarot                             4.9       36.0"
      ]
     },
     "execution_count": 207,
     "metadata": {},
     "output_type": "execute_result"
    }
   ],
   "source": [
    "def genre_specific(df, genre):\n",
    "    return (\n",
    "        df[(df['Genre'] == genre) & (df['Year'] == 2024)]\n",
    "        .sort_values(['IMDb Rating', 'MetaScore'], ascending=False)\n",
    "        .set_index('Title')\n",
    "        [['IMDb Rating', 'MetaScore']]\n",
    "    )\n",
    "\n",
    "genre_specific(imdb, 'Horror')"
   ]
  },
  {
   "cell_type": "code",
   "execution_count": 208,
   "id": "b4b136ce",
   "metadata": {
    "deletable": false,
    "editable": false
   },
   "outputs": [
    {
     "data": {
      "text/html": [
       "<p><strong><pre style='display: inline;'>q08_3</pre></strong> passed!</p>"
      ],
      "text/plain": [
       "q08_3 results: All test cases passed!"
      ]
     },
     "execution_count": 208,
     "metadata": {},
     "output_type": "execute_result"
    }
   ],
   "source": [
    "grader.check(\"q08_3\")"
   ]
  },
  {
   "cell_type": "markdown",
   "id": "8b5e18cc",
   "metadata": {},
   "source": [
    "## Finish Line 🏁\n",
    "\n",
    "Congratulations! You're ready to submit Homework 2."
   ]
  },
  {
   "cell_type": "markdown",
   "id": "144beb17",
   "metadata": {},
   "source": [
    "To submit your homework:\n",
    "\n",
    "1. Select `Kernel -> Restart & Run All` to ensure that you have executed all cells, including the test cells.\n",
    "2. Read through the notebook to make sure everything is fine and all tests passed.\n",
    "3. Run the cell below to run all tests, and make sure that they all pass.\n",
    "4. Download your notebook using `File -> Download as -> Notebook (.ipynb)`, then upload your notebook to Gradescope under \"Homework 2\".\n",
    "5. Stick around while the Gradescope autograder grades your work. Make sure you see that all **public tests** have passed on Gradescope. **Remember that homeworks have hidden tests, which you will not see your scores on until a few days after the deadline!**\n",
    "6. Check that you have a confirmation email from Gradescope and save it as proof of your submission."
   ]
  },
  {
   "cell_type": "markdown",
   "id": "bf07ce6d",
   "metadata": {
    "deletable": false,
    "editable": false
   },
   "source": [
    "---\n",
    "\n",
    "To double-check your work, the cell below will rerun all of the autograder tests."
   ]
  },
  {
   "cell_type": "code",
   "execution_count": 209,
   "id": "683c33be",
   "metadata": {
    "deletable": false,
    "editable": false
   },
   "outputs": [
    {
     "data": {
      "text/plain": [
       "q01 results: All test cases passed!\n",
       "\n",
       "q02_1 results: All test cases passed!\n",
       "\n",
       "q02_2 results: All test cases passed!\n",
       "\n",
       "q04 results: All test cases passed!\n",
       "\n",
       "q05 results: All test cases passed!\n",
       "\n",
       "q06_1 results: All test cases passed!\n",
       "\n",
       "q06_2 results: All test cases passed!\n",
       "\n",
       "q06_3 results: All test cases passed!\n",
       "\n",
       "q06_4 results: All test cases passed!\n",
       "\n",
       "q06_5 results: All test cases passed!\n",
       "\n",
       "q06_7 results: All test cases passed!\n",
       "\n",
       "q07_1 results: All test cases passed!\n",
       "\n",
       "q07_2 results: All test cases passed!\n",
       "\n",
       "q07_6 results: All test cases passed!\n",
       "\n",
       "q08_1 results: All test cases passed!\n",
       "\n",
       "q08_2 results: All test cases passed!\n",
       "\n",
       "q08_3 results: All test cases passed!"
      ]
     },
     "execution_count": 209,
     "metadata": {},
     "output_type": "execute_result"
    }
   ],
   "source": [
    "grader.check_all()"
   ]
  }
 ],
 "metadata": {
  "kernelspec": {
   "display_name": "Python 3 (ipykernel)",
   "language": "python",
   "name": "python3"
  },
  "language_info": {
   "codemirror_mode": {
    "name": "ipython",
    "version": 3
   },
   "file_extension": ".py",
   "mimetype": "text/x-python",
   "name": "python",
   "nbconvert_exporter": "python",
   "pygments_lexer": "ipython3",
   "version": "3.10.14"
  },
  "otter": {
   "tests": {
    "q01": {
     "name": "q01",
     "points": 4,
     "suites": [
      {
       "cases": [
        {
         "code": ">>> callable(create_adjacency) and isinstance(create_adjacency(example_net), np.ndarray)\nTrue",
         "hidden": false,
         "locked": false
        },
        {
         "code": ">>> example_net_output = create_adjacency(example_net)\n>>> example_net_output.shape == (4, 4) and np.allclose(example_net_output, A)\nTrue",
         "hidden": false,
         "locked": false
        },
        {
         "code": ">>> public_test_net = {1: [2, 3], 2: [1, 3], 3: [1, 2]}\n>>> public_test_net_output = create_adjacency(public_test_net)\n>>> public_test_net_output.shape == (3, 3) and np.allclose(public_test_net_output, np.array([[0, 0.5, 0.5], [0.5, 0, 0.5], [0.5, 0.5, 0]]))\nTrue",
         "hidden": false,
         "locked": false
        }
       ],
       "scored": true,
       "setup": "",
       "teardown": "",
       "type": "doctest"
      }
     ]
    },
    "q02_1": {
     "name": "q02_1",
     "points": 2,
     "suites": [
      {
       "cases": [
        {
         "code": ">>> callable(compute_scores) and isinstance(compute_scores(A), np.ndarray)\nTrue",
         "hidden": false,
         "locked": false
        },
        {
         "code": ">>> np.allclose(compute_scores(A), np.array([0.30769231, 0.38461538, 0.07692308, 0.23076923]))\nTrue",
         "hidden": false,
         "locked": false
        }
       ],
       "scored": true,
       "setup": "",
       "teardown": "",
       "type": "doctest"
      }
     ]
    },
    "q02_2": {
     "name": "q02_2",
     "points": 2,
     "suites": [
      {
       "cases": [
        {
         "code": ">>> callable(pagerank) and isinstance(pagerank(A), list)\nTrue",
         "hidden": false,
         "locked": false
        },
        {
         "code": ">>> np.allclose(pagerank(A), [2, 1, 4, 3])\nTrue",
         "hidden": false,
         "locked": false
        }
       ],
       "scored": true,
       "setup": "",
       "teardown": "",
       "type": "doctest"
      }
     ]
    },
    "q04": {
     "name": "q04",
     "points": 5,
     "suites": [
      {
       "cases": [
        {
         "code": ">>> callable(prob_at_least_k_same_suit) and isinstance(prob_at_least_k_same_suit(4), float)\nTrue",
         "hidden": false,
         "locked": false
        },
        {
         "code": ">>> call_one = prob_at_least_k_same_suit(4)\n>>> call_two = prob_at_least_k_same_suit(4)\n>>> call_one != call_two\nTrue",
         "failure_message": "Make sure your function doesn't just return the same value every time!",
         "hidden": false,
         "locked": false
        },
        {
         "code": ">>> 0.022 <= prob_at_least_k_same_suit(4) <= 0.029\nTrue",
         "failure_message": "Failing this but think you did your simulation correctly? Check your replacement strategy.",
         "hidden": false,
         "locked": false
        }
       ],
       "scored": true,
       "setup": "",
       "teardown": "",
       "type": "doctest"
      }
     ]
    },
    "q05": {
     "name": "q05",
     "points": 5,
     "suites": [
      {
       "cases": [
        {
         "code": ">>> callable(prob_all_one_jack) and isinstance(prob_all_one_jack(), float)\nTrue",
         "hidden": false,
         "locked": false
        },
        {
         "code": ">>> call_one = prob_all_one_jack()\n>>> call_two = prob_all_one_jack()\n>>> call_one != call_two\nTrue",
         "failure_message": "Make sure your function doesn't just return the same value every time!",
         "hidden": false,
         "locked": false
        }
       ],
       "scored": true,
       "setup": "",
       "teardown": "",
       "type": "doctest"
      }
     ]
    },
    "q06_1": {
     "name": "q06_1",
     "points": 1,
     "suites": [
      {
       "cases": [
        {
         "code": ">>> (isinstance(highest_rating_ever, float) or isinstance(highest_rating_ever, np.float64)) and highest_rating_ever in list(imdb['IMDb Rating'])\nTrue",
         "hidden": false,
         "locked": false
        }
       ],
       "scored": true,
       "setup": "",
       "teardown": "",
       "type": "doctest"
      }
     ]
    },
    "q06_2": {
     "name": "q06_2",
     "points": 2,
     "suites": [
      {
       "cases": [
        {
         "code": ">>> isinstance(movie_with_highest_rating_ever, str) and movie_with_highest_rating_ever in list(imdb['Title'])\nTrue",
         "hidden": false,
         "locked": false
        }
       ],
       "scored": true,
       "setup": "",
       "teardown": "",
       "type": "doctest"
      }
     ]
    },
    "q06_3": {
     "name": "q06_3",
     "points": 1,
     "suites": [
      {
       "cases": [
        {
         "code": ">>> (isinstance(num_comedy, int) or isinstance(num_comedy, np.int64)) and num_comedy < imdb.shape[0]\nTrue",
         "hidden": false,
         "locked": false
        }
       ],
       "scored": true,
       "setup": "",
       "teardown": "",
       "type": "doctest"
      }
     ]
    },
    "q06_4": {
     "name": "q06_4",
     "points": 2,
     "suites": [
      {
       "cases": [
        {
         "code": ">>> isinstance(most_common_genre_2024, str) and most_common_genre_2024 in list(imdb['Genre'])\nTrue",
         "hidden": false,
         "locked": false
        }
       ],
       "scored": true,
       "setup": "",
       "teardown": "",
       "type": "doctest"
      }
     ]
    },
    "q06_5": {
     "name": "q06_5",
     "points": 3,
     "suites": [
      {
       "cases": [
        {
         "code": ">>> (isinstance(prop_big_directors, float) or isinstance(prop_big_directors, np.float64)) and 0 < prop_big_directors < 1\nTrue",
         "hidden": false,
         "locked": false
        }
       ],
       "scored": true,
       "setup": "",
       "teardown": "",
       "type": "doctest"
      }
     ]
    },
    "q06_7": {
     "name": "q06_7",
     "points": 4,
     "suites": [
      {
       "cases": [
        {
         "code": ">>> (isinstance(num_hours_family_friendly, float) or isinstance(num_hours_family_friendly, np.float64)) and num_hours_family_friendly < 48\nTrue",
         "hidden": false,
         "locked": false
        }
       ],
       "scored": true,
       "setup": "",
       "teardown": "",
       "type": "doctest"
      }
     ]
    },
    "q07_1": {
     "name": "q07_1",
     "points": 5,
     "suites": [
      {
       "cases": [
        {
         "code": ">>> callable(extract_names) and isinstance(extract_names('Makoto ShinkaiClark Cheng'), list)\nTrue",
         "hidden": false,
         "locked": false
        },
        {
         "code": ">>> extract_names('Makoto ShinkaiClark Cheng') == ['Makoto Shinkai', 'Clark Cheng']\nTrue",
         "hidden": false,
         "locked": false
        },
        {
         "code": ">>> extract_names('Anya Taylor-JoyChris HemsworthTom Burke') == ['Anya Taylor-Joy', 'Chris Hemsworth', 'Tom Burke']\nTrue",
         "hidden": false,
         "locked": false
        }
       ],
       "scored": true,
       "setup": "",
       "teardown": "",
       "type": "doctest"
      }
     ]
    },
    "q07_2": {
     "name": "q07_2",
     "points": 2,
     "suites": [
      {
       "cases": [
        {
         "code": ">>> callable(most_common) and isinstance(most_common(pd.Series([1, 2, 2])), list)\nTrue",
         "hidden": false,
         "locked": false
        },
        {
         "code": ">>> most_common(pd.Series([1, 2, 2])) == [2]\nTrue",
         "hidden": false,
         "locked": false
        },
        {
         "code": ">>> most_common(pd.Series([1, 2])) == [1, 2] or most_common(pd.Series([1, 2])) == [2, 1]\nTrue",
         "hidden": false,
         "locked": false
        }
       ],
       "scored": true,
       "setup": "",
       "teardown": "",
       "type": "doctest"
      }
     ]
    },
    "q07_6": {
     "name": "q07_6",
     "points": 2,
     "suites": [
      {
       "cases": [
        {
         "code": ">>> (isinstance(average_harry_potter, float) or isinstance(average_harry_potter, np.float64)) and 3.9 < average_harry_potter < 9.2\nTrue",
         "hidden": false,
         "locked": false
        }
       ],
       "scored": true,
       "setup": "",
       "teardown": "",
       "type": "doctest"
      }
     ]
    },
    "q08_1": {
     "name": "q08_1",
     "points": 3,
     "suites": [
      {
       "cases": [
        {
         "code": ">>> callable(longest_title) and isinstance(longest_title(imdb.head(5)), str)\nTrue",
         "hidden": false,
         "locked": false
        },
        {
         "code": ">>> longest_title(imdb.head(5)) == '10 Things I Hate About You'\nTrue",
         "hidden": false,
         "locked": false
        },
        {
         "code": ">>> longest_title(imdb.tail(5)) == \"You Can't Run Forever\"\nTrue",
         "hidden": false,
         "locked": false
        }
       ],
       "scored": true,
       "setup": "",
       "teardown": "",
       "type": "doctest"
      }
     ]
    },
    "q08_2": {
     "name": "q08_2",
     "points": 3,
     "suites": [
      {
       "cases": [
        {
         "code": ">>> callable(metascore_to_rating_outlier) and isinstance(metascore_to_rating_outlier(imdb.head(5)), str)\nTrue",
         "hidden": false,
         "locked": false
        },
        {
         "code": ">>> metascore_to_rating_outlier(imdb.head(5)) == 'A Quiet Place'\nTrue",
         "hidden": false,
         "locked": false
        },
        {
         "code": ">>> metascore_to_rating_outlier(imdb.iloc[15:25]) == 'Barbie'\nTrue",
         "hidden": false,
         "locked": false
        }
       ],
       "scored": true,
       "setup": "",
       "teardown": "",
       "type": "doctest"
      }
     ]
    },
    "q08_3": {
     "name": "q08_3",
     "points": 3,
     "suites": [
      {
       "cases": [
        {
         "code": ">>> callable(genre_specific) and isinstance(genre_specific(imdb, 'Horror'), pd.DataFrame)\nTrue",
         "hidden": false,
         "locked": false
        },
        {
         "code": ">>> horror_output = genre_specific(imdb, 'Horror')\n>>> horror_output.shape == (8, 2)\nTrue",
         "hidden": false,
         "locked": false
        },
        {
         "code": ">>> horror_output = genre_specific(imdb, 'Horror')\n>>> np.all(horror_output.index == ['Alien: Romulus', 'Exhuma', 'The First Omen', 'Abigail', 'Immaculate', 'Sting', 'The Strangers: Chapter 1', 'Tarot'])\nTrue",
         "hidden": false,
         "locked": false
        }
       ],
       "scored": true,
       "setup": "",
       "teardown": "",
       "type": "doctest"
      }
     ]
    }
   }
  }
 },
 "nbformat": 4,
 "nbformat_minor": 5
}
